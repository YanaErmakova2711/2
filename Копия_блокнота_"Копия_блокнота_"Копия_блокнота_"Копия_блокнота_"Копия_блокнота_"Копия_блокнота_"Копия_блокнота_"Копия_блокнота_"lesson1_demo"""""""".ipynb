{
  "nbformat": 4,
  "nbformat_minor": 0,
  "metadata": {
    "colab": {
      "name": "Копия блокнота \"Копия блокнота \"Копия блокнота \"Копия блокнота \"Копия блокнота \"Копия блокнота \"Копия блокнота \"Копия блокнота \"lesson1_demo\"\"\"\"\"\"\"\"",
      "provenance": [],
      "collapsed_sections": [],
      "include_colab_link": true
    },
    "kernelspec": {
      "display_name": "Python 3",
      "name": "python3"
    },
    "language_info": {
      "name": "python"
    }
  },
  "cells": [
    {
      "cell_type": "markdown",
      "metadata": {
        "id": "view-in-github",
        "colab_type": "text"
      },
      "source": [
        "<a href=\"https://colab.research.google.com/github/YanaErmakova2711/lesson4/blob/main/%D0%9A%D0%BE%D0%BF%D0%B8%D1%8F_%D0%B1%D0%BB%D0%BE%D0%BA%D0%BD%D0%BE%D1%82%D0%B0_%22%D0%9A%D0%BE%D0%BF%D0%B8%D1%8F_%D0%B1%D0%BB%D0%BE%D0%BA%D0%BD%D0%BE%D1%82%D0%B0_%22%D0%9A%D0%BE%D0%BF%D0%B8%D1%8F_%D0%B1%D0%BB%D0%BE%D0%BA%D0%BD%D0%BE%D1%82%D0%B0_%22%D0%9A%D0%BE%D0%BF%D0%B8%D1%8F_%D0%B1%D0%BB%D0%BE%D0%BA%D0%BD%D0%BE%D1%82%D0%B0_%22%D0%9A%D0%BE%D0%BF%D0%B8%D1%8F_%D0%B1%D0%BB%D0%BE%D0%BA%D0%BD%D0%BE%D1%82%D0%B0_%22%D0%9A%D0%BE%D0%BF%D0%B8%D1%8F_%D0%B1%D0%BB%D0%BE%D0%BA%D0%BD%D0%BE%D1%82%D0%B0_%22%D0%9A%D0%BE%D0%BF%D0%B8%D1%8F_%D0%B1%D0%BB%D0%BE%D0%BA%D0%BD%D0%BE%D1%82%D0%B0_%22%D0%9A%D0%BE%D0%BF%D0%B8%D1%8F_%D0%B1%D0%BB%D0%BE%D0%BA%D0%BD%D0%BE%D1%82%D0%B0_%22lesson1_demo%22%22%22%22%22%22%22%22.ipynb\" target=\"_parent\"><img src=\"https://colab.research.google.com/assets/colab-badge.svg\" alt=\"Open In Colab\"/></a>"
      ]
    },
    {
      "cell_type": "code",
      "metadata": {
        "colab": {
          "base_uri": "https://localhost:8080/"
        },
        "id": "8w-uMyA4FZd9",
        "outputId": "4255fc48-a5f1-4c2b-8602-a4683522bdeb"
      },
      "source": [
        "#установка библиотеки\n",
        "!pip install psycopg2\n",
        "!pip install plotly"
      ],
      "execution_count": null,
      "outputs": [
        {
          "output_type": "stream",
          "text": [
            "Requirement already satisfied: psycopg2 in /usr/local/lib/python3.7/dist-packages (2.7.6.1)\n",
            "Requirement already satisfied: plotly in /usr/local/lib/python3.7/dist-packages (4.4.1)\n",
            "Requirement already satisfied: six in /usr/local/lib/python3.7/dist-packages (from plotly) (1.15.0)\n",
            "Requirement already satisfied: retrying>=1.3.3 in /usr/local/lib/python3.7/dist-packages (from plotly) (1.3.3)\n"
          ],
          "name": "stdout"
        }
      ]
    },
    {
      "cell_type": "code",
      "metadata": {
        "colab": {
          "base_uri": "https://localhost:8080/",
          "height": 134
        },
        "id": "tg6CUoL3Fo1X",
        "outputId": "b950a4e4-3c70-4b2b-e419-8abcd13f7919"
      },
      "source": [
        "#проверка подключения \n",
        "import psycopg2\n",
        "import pandas as pd\n",
        "\n",
        "#Библиотека ждя визуализации\n",
        "from IPython.display import HTML\n",
        "import plotly.express as px\n",
        "import plotly.graph_objects as go\n",
        "\n",
        "DB_HOST = '52.157.159.24'\n",
        "DB_USER = 'student4'\n",
        "DB_USER_PASSWORD = 'student4_password'\n",
        "DB_NAME = 'sql_ex'\n",
        "\n",
        "conn = psycopg2.connect(host=DB_HOST, user=DB_USER, password=DB_USER_PASSWORD, dbname=DB_NAME)\n",
        "cur = conn.cursor()\n",
        "pd.read_sql_query(\"select min(model), cd from PC where ram<128 and cd='12x' group by cd\", conn)"
      ],
      "execution_count": null,
      "outputs": [
        {
          "output_type": "stream",
          "text": [
            "/usr/local/lib/python3.7/dist-packages/psycopg2/__init__.py:144: UserWarning: The psycopg2 wheel package will be renamed from release 2.8; in order to keep installing from binary please use \"pip install psycopg2-binary\" instead. For details see: <http://initd.org/psycopg/docs/install.html#binary-install-from-pypi>.\n",
            "  \"\"\")\n"
          ],
          "name": "stderr"
        },
        {
          "output_type": "execute_result",
          "data": {
            "text/html": [
              "<div>\n",
              "<style scoped>\n",
              "    .dataframe tbody tr th:only-of-type {\n",
              "        vertical-align: middle;\n",
              "    }\n",
              "\n",
              "    .dataframe tbody tr th {\n",
              "        vertical-align: top;\n",
              "    }\n",
              "\n",
              "    .dataframe thead th {\n",
              "        text-align: right;\n",
              "    }\n",
              "</style>\n",
              "<table border=\"1\" class=\"dataframe\">\n",
              "  <thead>\n",
              "    <tr style=\"text-align: right;\">\n",
              "      <th></th>\n",
              "      <th>min</th>\n",
              "      <th>cd</th>\n",
              "    </tr>\n",
              "  </thead>\n",
              "  <tbody>\n",
              "    <tr>\n",
              "      <th>0</th>\n",
              "      <td>1232</td>\n",
              "      <td>12x</td>\n",
              "    </tr>\n",
              "  </tbody>\n",
              "</table>\n",
              "</div>"
            ],
            "text/plain": [
              "    min   cd\n",
              "0  1232  12x"
            ]
          },
          "metadata": {
            "tags": []
          },
          "execution_count": 1
        }
      ]
    },
    {
      "cell_type": "code",
      "metadata": {
        "id": "_LHPIInpUVDR"
      },
      "source": [
        "# LESSON5_HOMEWORK"
      ],
      "execution_count": null,
      "outputs": []
    },
    {
      "cell_type": "code",
      "metadata": {
        "id": "j_wY2wHsqs_s"
      },
      "source": [
        ""
      ],
      "execution_count": null,
      "outputs": []
    },
    {
      "cell_type": "code",
      "metadata": {
        "colab": {
          "base_uri": "https://localhost:8080/",
          "height": 111
        },
        "id": "cWzEuJgTqtdA",
        "outputId": "ddbb2845-ace2-4719-a73e-608f5e4b7feb"
      },
      "source": [
        "#--task1 (lesson5)\n",
        "#-- Компьютерная фирма: Сделать view (pages_all_products), в которой будет постраничная разбивка всех продуктов \n",
        "#(не более двух продуктов на одной странице). Вывод: все данные из laptop, номер страницы, список всех страниц\n",
        "\n",
        "request = \"\"\"\n",
        "--CREATE  view pages_all_products AS\n",
        "\n",
        "SELECT *,(count(*)  over())/2 AS count_pages,  (row_number() over()-1)/2+1 as page\n",
        "\n",
        "from product join \n",
        "( \n",
        "select model, price from pc \n",
        "union all \n",
        "select model, price from laptop \n",
        "union all \n",
        "select model, price from printer \n",
        ") \n",
        "as res1\n",
        "on product.model=res1.model\n",
        "LIMIT 2 OFFSET 0\n",
        "\"\"\"\n",
        "pd.read_sql_query(request, conn)"
      ],
      "execution_count": null,
      "outputs": [
        {
          "output_type": "execute_result",
          "data": {
            "text/html": [
              "<div>\n",
              "<style scoped>\n",
              "    .dataframe tbody tr th:only-of-type {\n",
              "        vertical-align: middle;\n",
              "    }\n",
              "\n",
              "    .dataframe tbody tr th {\n",
              "        vertical-align: top;\n",
              "    }\n",
              "\n",
              "    .dataframe thead th {\n",
              "        text-align: right;\n",
              "    }\n",
              "</style>\n",
              "<table border=\"1\" class=\"dataframe\">\n",
              "  <thead>\n",
              "    <tr style=\"text-align: right;\">\n",
              "      <th></th>\n",
              "      <th>maker</th>\n",
              "      <th>model</th>\n",
              "      <th>type</th>\n",
              "      <th>model</th>\n",
              "      <th>price</th>\n",
              "      <th>count_pages</th>\n",
              "      <th>page</th>\n",
              "    </tr>\n",
              "  </thead>\n",
              "  <tbody>\n",
              "    <tr>\n",
              "      <th>0</th>\n",
              "      <td>A</td>\n",
              "      <td>1232</td>\n",
              "      <td>PC</td>\n",
              "      <td>1232</td>\n",
              "      <td>600.0</td>\n",
              "      <td>12</td>\n",
              "      <td>1</td>\n",
              "    </tr>\n",
              "    <tr>\n",
              "      <th>1</th>\n",
              "      <td>B</td>\n",
              "      <td>1121</td>\n",
              "      <td>PC</td>\n",
              "      <td>1121</td>\n",
              "      <td>850.0</td>\n",
              "      <td>12</td>\n",
              "      <td>1</td>\n",
              "    </tr>\n",
              "  </tbody>\n",
              "</table>\n",
              "</div>"
            ],
            "text/plain": [
              "  maker model type model  price  count_pages  page\n",
              "0     A  1232   PC  1232  600.0           12     1\n",
              "1     B  1121   PC  1121  850.0           12     1"
            ]
          },
          "metadata": {
            "tags": []
          },
          "execution_count": 2
        }
      ]
    },
    {
      "cell_type": "code",
      "metadata": {
        "colab": {
          "base_uri": "https://localhost:8080/",
          "height": 142
        },
        "id": "R1uB5c60UVQZ",
        "outputId": "9270fce2-999d-4211-87ca-39604b2f4135"
      },
      "source": [
        "#--task2 (lesson5) \n",
        "\n",
        "#-- Компьютерная фирма: Сделать view (distribution_by_type), в рамках которого будет процентное соотношение всех\n",
        "#товаров по типу устройства. Вывод: производитель, \n",
        "\n",
        "\n",
        "request = \"\"\"\n",
        "\n",
        "--CREATE view distribution_by_type AS\n",
        "\n",
        "SELECT type as tp, count(type)*100/(SELECT count(*)\n",
        "from product join \n",
        "( \n",
        "select model, price from pc \n",
        "union all \n",
        "select model, price from laptop \n",
        "union all \n",
        "select model, price from printer \n",
        ") as res1\n",
        "on product.model=res1.model) as res2\n",
        "\n",
        "\n",
        "from product join \n",
        "( \n",
        "select model, price from pc \n",
        "union all \n",
        "select model, price from laptop \n",
        "union all \n",
        "select model, price from printer \n",
        ") as res3\n",
        "on product.model=res3.model\n",
        "group by type\n",
        "\n",
        "\"\"\"\n",
        "pd.read_sql_query(request, conn)\n"
      ],
      "execution_count": null,
      "outputs": [
        {
          "output_type": "execute_result",
          "data": {
            "text/html": [
              "<div>\n",
              "<style scoped>\n",
              "    .dataframe tbody tr th:only-of-type {\n",
              "        vertical-align: middle;\n",
              "    }\n",
              "\n",
              "    .dataframe tbody tr th {\n",
              "        vertical-align: top;\n",
              "    }\n",
              "\n",
              "    .dataframe thead th {\n",
              "        text-align: right;\n",
              "    }\n",
              "</style>\n",
              "<table border=\"1\" class=\"dataframe\">\n",
              "  <thead>\n",
              "    <tr style=\"text-align: right;\">\n",
              "      <th></th>\n",
              "      <th>tp</th>\n",
              "      <th>res2</th>\n",
              "    </tr>\n",
              "  </thead>\n",
              "  <tbody>\n",
              "    <tr>\n",
              "      <th>0</th>\n",
              "      <td>PC</td>\n",
              "      <td>50</td>\n",
              "    </tr>\n",
              "    <tr>\n",
              "      <th>1</th>\n",
              "      <td>Printer</td>\n",
              "      <td>25</td>\n",
              "    </tr>\n",
              "    <tr>\n",
              "      <th>2</th>\n",
              "      <td>Laptop</td>\n",
              "      <td>25</td>\n",
              "    </tr>\n",
              "  </tbody>\n",
              "</table>\n",
              "</div>"
            ],
            "text/plain": [
              "        tp  res2\n",
              "0       PC    50\n",
              "1  Printer    25\n",
              "2   Laptop    25"
            ]
          },
          "metadata": {
            "tags": []
          },
          "execution_count": 4
        }
      ]
    },
    {
      "cell_type": "code",
      "metadata": {
        "id": "cgi80nprOIqx"
      },
      "source": [
        ""
      ],
      "execution_count": null,
      "outputs": []
    },
    {
      "cell_type": "code",
      "metadata": {
        "colab": {
          "base_uri": "https://localhost:8080/",
          "height": 542
        },
        "id": "HRgh2nsNOJIl",
        "outputId": "b1260ce9-2837-4f4e-b500-ef2b02f0f65e"
      },
      "source": [
        "#--task3 (lesson5)\n",
        "#-- Компьютерная фирма: Сделать на базе предыдущенр view график - круговую диаграмму\n",
        "\n",
        "df = pd.read_sql_query(request, conn)\n",
        "\n",
        "labels = df.tp.to_list()\n",
        "values = df.res2.to_list()\n",
        "\n",
        "fig = go.Figure(data=[go.Pie(labels=labels, values=values)])\n",
        "fig.show()"
      ],
      "execution_count": null,
      "outputs": [
        {
          "output_type": "display_data",
          "data": {
            "text/html": [
              "<html>\n",
              "<head><meta charset=\"utf-8\" /></head>\n",
              "<body>\n",
              "    <div>\n",
              "            <script src=\"https://cdnjs.cloudflare.com/ajax/libs/mathjax/2.7.5/MathJax.js?config=TeX-AMS-MML_SVG\"></script><script type=\"text/javascript\">if (window.MathJax) {MathJax.Hub.Config({SVG: {font: \"STIX-Web\"}});}</script>\n",
              "                <script type=\"text/javascript\">window.PlotlyConfig = {MathJaxConfig: 'local'};</script>\n",
              "        <script src=\"https://cdn.plot.ly/plotly-latest.min.js\"></script>    \n",
              "            <div id=\"9c2fcd83-4a75-4d33-9a9f-bda5d0962b81\" class=\"plotly-graph-div\" style=\"height:525px; width:100%;\"></div>\n",
              "            <script type=\"text/javascript\">\n",
              "                \n",
              "                    window.PLOTLYENV=window.PLOTLYENV || {};\n",
              "                    \n",
              "                if (document.getElementById(\"9c2fcd83-4a75-4d33-9a9f-bda5d0962b81\")) {\n",
              "                    Plotly.newPlot(\n",
              "                        '9c2fcd83-4a75-4d33-9a9f-bda5d0962b81',\n",
              "                        [{\"labels\": [\"PC\", \"Printer\", \"Laptop\"], \"type\": \"pie\", \"values\": [50, 25, 25]}],\n",
              "                        {\"template\": {\"data\": {\"bar\": [{\"error_x\": {\"color\": \"#2a3f5f\"}, \"error_y\": {\"color\": \"#2a3f5f\"}, \"marker\": {\"line\": {\"color\": \"#E5ECF6\", \"width\": 0.5}}, \"type\": \"bar\"}], \"barpolar\": [{\"marker\": {\"line\": {\"color\": \"#E5ECF6\", \"width\": 0.5}}, \"type\": \"barpolar\"}], \"carpet\": [{\"aaxis\": {\"endlinecolor\": \"#2a3f5f\", \"gridcolor\": \"white\", \"linecolor\": \"white\", \"minorgridcolor\": \"white\", \"startlinecolor\": \"#2a3f5f\"}, \"baxis\": {\"endlinecolor\": \"#2a3f5f\", \"gridcolor\": \"white\", \"linecolor\": \"white\", \"minorgridcolor\": \"white\", \"startlinecolor\": \"#2a3f5f\"}, \"type\": \"carpet\"}], \"choropleth\": [{\"colorbar\": {\"outlinewidth\": 0, \"ticks\": \"\"}, \"type\": \"choropleth\"}], \"contour\": [{\"colorbar\": {\"outlinewidth\": 0, \"ticks\": \"\"}, \"colorscale\": [[0.0, \"#0d0887\"], [0.1111111111111111, \"#46039f\"], [0.2222222222222222, \"#7201a8\"], [0.3333333333333333, \"#9c179e\"], [0.4444444444444444, \"#bd3786\"], [0.5555555555555556, \"#d8576b\"], [0.6666666666666666, \"#ed7953\"], [0.7777777777777778, \"#fb9f3a\"], [0.8888888888888888, \"#fdca26\"], [1.0, \"#f0f921\"]], \"type\": \"contour\"}], \"contourcarpet\": [{\"colorbar\": {\"outlinewidth\": 0, \"ticks\": \"\"}, \"type\": \"contourcarpet\"}], \"heatmap\": [{\"colorbar\": {\"outlinewidth\": 0, \"ticks\": \"\"}, \"colorscale\": [[0.0, \"#0d0887\"], [0.1111111111111111, \"#46039f\"], [0.2222222222222222, \"#7201a8\"], [0.3333333333333333, \"#9c179e\"], [0.4444444444444444, \"#bd3786\"], [0.5555555555555556, \"#d8576b\"], [0.6666666666666666, \"#ed7953\"], [0.7777777777777778, \"#fb9f3a\"], [0.8888888888888888, \"#fdca26\"], [1.0, \"#f0f921\"]], \"type\": \"heatmap\"}], \"heatmapgl\": [{\"colorbar\": {\"outlinewidth\": 0, \"ticks\": \"\"}, \"colorscale\": [[0.0, \"#0d0887\"], [0.1111111111111111, \"#46039f\"], [0.2222222222222222, \"#7201a8\"], [0.3333333333333333, \"#9c179e\"], [0.4444444444444444, \"#bd3786\"], [0.5555555555555556, \"#d8576b\"], [0.6666666666666666, \"#ed7953\"], [0.7777777777777778, \"#fb9f3a\"], [0.8888888888888888, \"#fdca26\"], [1.0, \"#f0f921\"]], \"type\": \"heatmapgl\"}], \"histogram\": [{\"marker\": {\"colorbar\": {\"outlinewidth\": 0, \"ticks\": \"\"}}, \"type\": \"histogram\"}], \"histogram2d\": [{\"colorbar\": {\"outlinewidth\": 0, \"ticks\": \"\"}, \"colorscale\": [[0.0, \"#0d0887\"], [0.1111111111111111, \"#46039f\"], [0.2222222222222222, \"#7201a8\"], [0.3333333333333333, \"#9c179e\"], [0.4444444444444444, \"#bd3786\"], [0.5555555555555556, \"#d8576b\"], [0.6666666666666666, \"#ed7953\"], [0.7777777777777778, \"#fb9f3a\"], [0.8888888888888888, \"#fdca26\"], [1.0, \"#f0f921\"]], \"type\": \"histogram2d\"}], \"histogram2dcontour\": [{\"colorbar\": {\"outlinewidth\": 0, \"ticks\": \"\"}, \"colorscale\": [[0.0, \"#0d0887\"], [0.1111111111111111, \"#46039f\"], [0.2222222222222222, \"#7201a8\"], [0.3333333333333333, \"#9c179e\"], [0.4444444444444444, \"#bd3786\"], [0.5555555555555556, \"#d8576b\"], [0.6666666666666666, \"#ed7953\"], [0.7777777777777778, \"#fb9f3a\"], [0.8888888888888888, \"#fdca26\"], [1.0, \"#f0f921\"]], \"type\": \"histogram2dcontour\"}], \"mesh3d\": [{\"colorbar\": {\"outlinewidth\": 0, \"ticks\": \"\"}, \"type\": \"mesh3d\"}], \"parcoords\": [{\"line\": {\"colorbar\": {\"outlinewidth\": 0, \"ticks\": \"\"}}, \"type\": \"parcoords\"}], \"pie\": [{\"automargin\": true, \"type\": \"pie\"}], \"scatter\": [{\"marker\": {\"colorbar\": {\"outlinewidth\": 0, \"ticks\": \"\"}}, \"type\": \"scatter\"}], \"scatter3d\": [{\"line\": {\"colorbar\": {\"outlinewidth\": 0, \"ticks\": \"\"}}, \"marker\": {\"colorbar\": {\"outlinewidth\": 0, \"ticks\": \"\"}}, \"type\": \"scatter3d\"}], \"scattercarpet\": [{\"marker\": {\"colorbar\": {\"outlinewidth\": 0, \"ticks\": \"\"}}, \"type\": \"scattercarpet\"}], \"scattergeo\": [{\"marker\": {\"colorbar\": {\"outlinewidth\": 0, \"ticks\": \"\"}}, \"type\": \"scattergeo\"}], \"scattergl\": [{\"marker\": {\"colorbar\": {\"outlinewidth\": 0, \"ticks\": \"\"}}, \"type\": \"scattergl\"}], \"scattermapbox\": [{\"marker\": {\"colorbar\": {\"outlinewidth\": 0, \"ticks\": \"\"}}, \"type\": \"scattermapbox\"}], \"scatterpolar\": [{\"marker\": {\"colorbar\": {\"outlinewidth\": 0, \"ticks\": \"\"}}, \"type\": \"scatterpolar\"}], \"scatterpolargl\": [{\"marker\": {\"colorbar\": {\"outlinewidth\": 0, \"ticks\": \"\"}}, \"type\": \"scatterpolargl\"}], \"scatterternary\": [{\"marker\": {\"colorbar\": {\"outlinewidth\": 0, \"ticks\": \"\"}}, \"type\": \"scatterternary\"}], \"surface\": [{\"colorbar\": {\"outlinewidth\": 0, \"ticks\": \"\"}, \"colorscale\": [[0.0, \"#0d0887\"], [0.1111111111111111, \"#46039f\"], [0.2222222222222222, \"#7201a8\"], [0.3333333333333333, \"#9c179e\"], [0.4444444444444444, \"#bd3786\"], [0.5555555555555556, \"#d8576b\"], [0.6666666666666666, \"#ed7953\"], [0.7777777777777778, \"#fb9f3a\"], [0.8888888888888888, \"#fdca26\"], [1.0, \"#f0f921\"]], \"type\": \"surface\"}], \"table\": [{\"cells\": {\"fill\": {\"color\": \"#EBF0F8\"}, \"line\": {\"color\": \"white\"}}, \"header\": {\"fill\": {\"color\": \"#C8D4E3\"}, \"line\": {\"color\": \"white\"}}, \"type\": \"table\"}]}, \"layout\": {\"annotationdefaults\": {\"arrowcolor\": \"#2a3f5f\", \"arrowhead\": 0, \"arrowwidth\": 1}, \"coloraxis\": {\"colorbar\": {\"outlinewidth\": 0, \"ticks\": \"\"}}, \"colorscale\": {\"diverging\": [[0, \"#8e0152\"], [0.1, \"#c51b7d\"], [0.2, \"#de77ae\"], [0.3, \"#f1b6da\"], [0.4, \"#fde0ef\"], [0.5, \"#f7f7f7\"], [0.6, \"#e6f5d0\"], [0.7, \"#b8e186\"], [0.8, \"#7fbc41\"], [0.9, \"#4d9221\"], [1, \"#276419\"]], \"sequential\": [[0.0, \"#0d0887\"], [0.1111111111111111, \"#46039f\"], [0.2222222222222222, \"#7201a8\"], [0.3333333333333333, \"#9c179e\"], [0.4444444444444444, \"#bd3786\"], [0.5555555555555556, \"#d8576b\"], [0.6666666666666666, \"#ed7953\"], [0.7777777777777778, \"#fb9f3a\"], [0.8888888888888888, \"#fdca26\"], [1.0, \"#f0f921\"]], \"sequentialminus\": [[0.0, \"#0d0887\"], [0.1111111111111111, \"#46039f\"], [0.2222222222222222, \"#7201a8\"], [0.3333333333333333, \"#9c179e\"], [0.4444444444444444, \"#bd3786\"], [0.5555555555555556, \"#d8576b\"], [0.6666666666666666, \"#ed7953\"], [0.7777777777777778, \"#fb9f3a\"], [0.8888888888888888, \"#fdca26\"], [1.0, \"#f0f921\"]]}, \"colorway\": [\"#636efa\", \"#EF553B\", \"#00cc96\", \"#ab63fa\", \"#FFA15A\", \"#19d3f3\", \"#FF6692\", \"#B6E880\", \"#FF97FF\", \"#FECB52\"], \"font\": {\"color\": \"#2a3f5f\"}, \"geo\": {\"bgcolor\": \"white\", \"lakecolor\": \"white\", \"landcolor\": \"#E5ECF6\", \"showlakes\": true, \"showland\": true, \"subunitcolor\": \"white\"}, \"hoverlabel\": {\"align\": \"left\"}, \"hovermode\": \"closest\", \"mapbox\": {\"style\": \"light\"}, \"paper_bgcolor\": \"white\", \"plot_bgcolor\": \"#E5ECF6\", \"polar\": {\"angularaxis\": {\"gridcolor\": \"white\", \"linecolor\": \"white\", \"ticks\": \"\"}, \"bgcolor\": \"#E5ECF6\", \"radialaxis\": {\"gridcolor\": \"white\", \"linecolor\": \"white\", \"ticks\": \"\"}}, \"scene\": {\"xaxis\": {\"backgroundcolor\": \"#E5ECF6\", \"gridcolor\": \"white\", \"gridwidth\": 2, \"linecolor\": \"white\", \"showbackground\": true, \"ticks\": \"\", \"zerolinecolor\": \"white\"}, \"yaxis\": {\"backgroundcolor\": \"#E5ECF6\", \"gridcolor\": \"white\", \"gridwidth\": 2, \"linecolor\": \"white\", \"showbackground\": true, \"ticks\": \"\", \"zerolinecolor\": \"white\"}, \"zaxis\": {\"backgroundcolor\": \"#E5ECF6\", \"gridcolor\": \"white\", \"gridwidth\": 2, \"linecolor\": \"white\", \"showbackground\": true, \"ticks\": \"\", \"zerolinecolor\": \"white\"}}, \"shapedefaults\": {\"line\": {\"color\": \"#2a3f5f\"}}, \"ternary\": {\"aaxis\": {\"gridcolor\": \"white\", \"linecolor\": \"white\", \"ticks\": \"\"}, \"baxis\": {\"gridcolor\": \"white\", \"linecolor\": \"white\", \"ticks\": \"\"}, \"bgcolor\": \"#E5ECF6\", \"caxis\": {\"gridcolor\": \"white\", \"linecolor\": \"white\", \"ticks\": \"\"}}, \"title\": {\"x\": 0.05}, \"xaxis\": {\"automargin\": true, \"gridcolor\": \"white\", \"linecolor\": \"white\", \"ticks\": \"\", \"title\": {\"standoff\": 15}, \"zerolinecolor\": \"white\", \"zerolinewidth\": 2}, \"yaxis\": {\"automargin\": true, \"gridcolor\": \"white\", \"linecolor\": \"white\", \"ticks\": \"\", \"title\": {\"standoff\": 15}, \"zerolinecolor\": \"white\", \"zerolinewidth\": 2}}}},\n",
              "                        {\"responsive\": true}\n",
              "                    ).then(function(){\n",
              "                            \n",
              "var gd = document.getElementById('9c2fcd83-4a75-4d33-9a9f-bda5d0962b81');\n",
              "var x = new MutationObserver(function (mutations, observer) {{\n",
              "        var display = window.getComputedStyle(gd).display;\n",
              "        if (!display || display === 'none') {{\n",
              "            console.log([gd, 'removed!']);\n",
              "            Plotly.purge(gd);\n",
              "            observer.disconnect();\n",
              "        }}\n",
              "}});\n",
              "\n",
              "// Listen for the removal of the full notebook cells\n",
              "var notebookContainer = gd.closest('#notebook-container');\n",
              "if (notebookContainer) {{\n",
              "    x.observe(notebookContainer, {childList: true});\n",
              "}}\n",
              "\n",
              "// Listen for the clearing of the current output cell\n",
              "var outputEl = gd.closest('.output');\n",
              "if (outputEl) {{\n",
              "    x.observe(outputEl, {childList: true});\n",
              "}}\n",
              "\n",
              "                        })\n",
              "                };\n",
              "                \n",
              "            </script>\n",
              "        </div>\n",
              "</body>\n",
              "</html>"
            ]
          },
          "metadata": {
            "tags": []
          }
        }
      ]
    },
    {
      "cell_type": "code",
      "metadata": {
        "colab": {
          "base_uri": "https://localhost:8080/"
        },
        "id": "MHPDUqWuuRsZ",
        "outputId": "29d9604d-93c2-4f08-8bf5-2ef673829abb"
      },
      "source": [
        "df.tp.to_list()"
      ],
      "execution_count": null,
      "outputs": [
        {
          "output_type": "execute_result",
          "data": {
            "text/plain": [
              "['PC', 'Printer', 'Laptop']"
            ]
          },
          "metadata": {
            "tags": []
          },
          "execution_count": 6
        }
      ]
    },
    {
      "cell_type": "code",
      "metadata": {
        "colab": {
          "base_uri": "https://localhost:8080/"
        },
        "id": "OQFyVoVRukxG",
        "outputId": "27d61bf2-e208-42b4-d272-47845f50a3ed"
      },
      "source": [
        "df.res2.to_list()"
      ],
      "execution_count": null,
      "outputs": [
        {
          "output_type": "execute_result",
          "data": {
            "text/plain": [
              "[50, 25, 25]"
            ]
          },
          "metadata": {
            "tags": []
          },
          "execution_count": 7
        }
      ]
    },
    {
      "cell_type": "code",
      "metadata": {
        "id": "dxCIeMU9OPKL",
        "colab": {
          "base_uri": "https://localhost:8080/",
          "height": 204
        },
        "outputId": "ac586feb-94c8-4765-9eae-2c02d3053c7e"
      },
      "source": [
        "#--task4 (lesson5)\n",
        "#-- Корабли: Сделать копию таблицы ships (ships_two_words), но у название корабля должно состоять из двух слов\n",
        "request = \"\"\"\n",
        "--CREATE TABLE ships_two_words AS\n",
        "SELECT * from ships\n",
        "WHERE name LIKE '% %'\n",
        "\n",
        "\"\"\"\n",
        "pd.read_sql_query(request, conn)"
      ],
      "execution_count": null,
      "outputs": [
        {
          "output_type": "execute_result",
          "data": {
            "text/html": [
              "<div>\n",
              "<style scoped>\n",
              "    .dataframe tbody tr th:only-of-type {\n",
              "        vertical-align: middle;\n",
              "    }\n",
              "\n",
              "    .dataframe tbody tr th {\n",
              "        vertical-align: top;\n",
              "    }\n",
              "\n",
              "    .dataframe thead th {\n",
              "        text-align: right;\n",
              "    }\n",
              "</style>\n",
              "<table border=\"1\" class=\"dataframe\">\n",
              "  <thead>\n",
              "    <tr style=\"text-align: right;\">\n",
              "      <th></th>\n",
              "      <th>name</th>\n",
              "      <th>class</th>\n",
              "      <th>launched</th>\n",
              "    </tr>\n",
              "  </thead>\n",
              "  <tbody>\n",
              "    <tr>\n",
              "      <th>0</th>\n",
              "      <td>New Jersey</td>\n",
              "      <td>Iowa</td>\n",
              "      <td>1943</td>\n",
              "    </tr>\n",
              "    <tr>\n",
              "      <th>1</th>\n",
              "      <td>North Carolina</td>\n",
              "      <td>North Carolina</td>\n",
              "      <td>1941</td>\n",
              "    </tr>\n",
              "    <tr>\n",
              "      <th>2</th>\n",
              "      <td>Royal Oak</td>\n",
              "      <td>Revenge</td>\n",
              "      <td>1916</td>\n",
              "    </tr>\n",
              "    <tr>\n",
              "      <th>3</th>\n",
              "      <td>Royal Sovereign</td>\n",
              "      <td>Revenge</td>\n",
              "      <td>1916</td>\n",
              "    </tr>\n",
              "    <tr>\n",
              "      <th>4</th>\n",
              "      <td>South Dakota</td>\n",
              "      <td>North Carolina</td>\n",
              "      <td>1941</td>\n",
              "    </tr>\n",
              "  </tbody>\n",
              "</table>\n",
              "</div>"
            ],
            "text/plain": [
              "              name           class  launched\n",
              "0       New Jersey            Iowa      1943\n",
              "1   North Carolina  North Carolina      1941\n",
              "2        Royal Oak         Revenge      1916\n",
              "3  Royal Sovereign         Revenge      1916\n",
              "4     South Dakota  North Carolina      1941"
            ]
          },
          "metadata": {
            "tags": []
          },
          "execution_count": 3
        }
      ]
    },
    {
      "cell_type": "code",
      "metadata": {
        "id": "RJkkaD6XOJKt",
        "colab": {
          "base_uri": "https://localhost:8080/",
          "height": 80
        },
        "outputId": "92baac32-cb63-4628-a7d6-976b0ba33ff6"
      },
      "source": [
        "#--task5 (lesson5)\n",
        "#-- Корабли: Вывести список кораблей, у которых class отсутствует (IS NULL) и название начинается с буквы \"S\"\n",
        "request = \"\"\"\n",
        "\n",
        "SELECT res1.name, class from ships right join\n",
        "(SELECT name  from ships \n",
        "union all\n",
        "SELECT ship  from outcomes)as res1 on res1.name=ships.name \n",
        "\n",
        "WHERE res1.name LIKE 'S%' \n",
        "and  class is null \n",
        "\n",
        "\"\"\"\n",
        "pd.read_sql_query(request, conn)"
      ],
      "execution_count": null,
      "outputs": [
        {
          "output_type": "execute_result",
          "data": {
            "text/html": [
              "<div>\n",
              "<style scoped>\n",
              "    .dataframe tbody tr th:only-of-type {\n",
              "        vertical-align: middle;\n",
              "    }\n",
              "\n",
              "    .dataframe tbody tr th {\n",
              "        vertical-align: top;\n",
              "    }\n",
              "\n",
              "    .dataframe thead th {\n",
              "        text-align: right;\n",
              "    }\n",
              "</style>\n",
              "<table border=\"1\" class=\"dataframe\">\n",
              "  <thead>\n",
              "    <tr style=\"text-align: right;\">\n",
              "      <th></th>\n",
              "      <th>name</th>\n",
              "      <th>class</th>\n",
              "    </tr>\n",
              "  </thead>\n",
              "  <tbody>\n",
              "    <tr>\n",
              "      <th>0</th>\n",
              "      <td>Schamhorst</td>\n",
              "      <td>None</td>\n",
              "    </tr>\n",
              "  </tbody>\n",
              "</table>\n",
              "</div>"
            ],
            "text/plain": [
              "         name class\n",
              "0  Schamhorst  None"
            ]
          },
          "metadata": {
            "tags": []
          },
          "execution_count": 7
        }
      ]
    },
    {
      "cell_type": "code",
      "metadata": {
        "id": "B6pj_3ezOJPh",
        "colab": {
          "base_uri": "https://localhost:8080/",
          "height": 80
        },
        "outputId": "c761fa52-7569-46fa-b80a-cdac9c6e234f"
      },
      "source": [
        "#--task6 (lesson5)\n",
        "#-- Компьютерная фирма: Вывести все принтеры производителя = 'A' \n",
        "#со стоимостью выше средней по принтерам производителя = 'D' и три самых дорогих (через оконные функции). Вывести model\n",
        "# СДЕЛАЕМ  ПО СРЕДНЕЙ СТОИМОСТИ ПО ПРОИЗВОДИТЕЛЮ  D ТАК КАК ПРОИЗВОДИТЕЛЯ C ПРИНТЕРОВ НЕ СУЩЕСТВУЕТ\n",
        " \n",
        "request = \"\"\"\n",
        "\n",
        "\n",
        "\n",
        "SELECT product.model\n",
        "from product join \n",
        "( \n",
        "select model, price from printer \n",
        ") as res1\n",
        "on product.model=res1.model\n",
        "\n",
        "where maker='A' and price> (SELECT AVG(PRICE)\n",
        "from product join \n",
        "( \n",
        "select model, price from printer \n",
        ") as res1\n",
        "on product.model=res1.model\n",
        "where maker='D' \n",
        "group by maker)\n",
        "\n",
        "\n",
        "\n",
        "\"\"\"\n",
        "pd.read_sql_query(request, conn)\n",
        "\n",
        "\n",
        "\n"
      ],
      "execution_count": null,
      "outputs": [
        {
          "output_type": "execute_result",
          "data": {
            "text/html": [
              "<div>\n",
              "<style scoped>\n",
              "    .dataframe tbody tr th:only-of-type {\n",
              "        vertical-align: middle;\n",
              "    }\n",
              "\n",
              "    .dataframe tbody tr th {\n",
              "        vertical-align: top;\n",
              "    }\n",
              "\n",
              "    .dataframe thead th {\n",
              "        text-align: right;\n",
              "    }\n",
              "</style>\n",
              "<table border=\"1\" class=\"dataframe\">\n",
              "  <thead>\n",
              "    <tr style=\"text-align: right;\">\n",
              "      <th></th>\n",
              "      <th>model</th>\n",
              "    </tr>\n",
              "  </thead>\n",
              "  <tbody>\n",
              "    <tr>\n",
              "      <th>0</th>\n",
              "      <td>1276</td>\n",
              "    </tr>\n",
              "  </tbody>\n",
              "</table>\n",
              "</div>"
            ],
            "text/plain": [
              "  model\n",
              "0  1276"
            ]
          },
          "metadata": {
            "tags": []
          },
          "execution_count": 5
        }
      ]
    },
    {
      "cell_type": "code",
      "metadata": {
        "id": "XwV89mUkrvqM"
      },
      "source": [
        ""
      ],
      "execution_count": null,
      "outputs": []
    },
    {
      "cell_type": "code",
      "metadata": {
        "id": "c0otU7qErvt_"
      },
      "source": [
        ""
      ],
      "execution_count": null,
      "outputs": []
    },
    {
      "cell_type": "code",
      "metadata": {
        "id": "EU4Bgl6ArwE8"
      },
      "source": [
        "#ДОРЕШЕНЫ  ЗАДАЧИ 7,9,10,11,13,16"
      ],
      "execution_count": null,
      "outputs": []
    },
    {
      "cell_type": "code",
      "metadata": {
        "id": "d2JwIb2tMpPI"
      },
      "source": [
        "# LESSON4_HOMEWORK "
      ],
      "execution_count": null,
      "outputs": []
    },
    {
      "cell_type": "code",
      "metadata": {
        "colab": {
          "base_uri": "https://localhost:8080/",
          "height": 793
        },
        "id": "iTFC5N9FMpdo",
        "outputId": "ebb73b8d-6220-468d-f0ed-94a84769662d"
      },
      "source": [
        "#--task13 (lesson3)\n",
        "#--Компьютерная фирма: Вывести список всех продуктов и производителя с указанием типа продукта \n",
        "#(pc, printer, laptop). Вывести: model, maker, type\n",
        "\n",
        "request = \"\"\"\n",
        "\n",
        "\n",
        "SELECT maker, type, res.model from (select model from pc \n",
        "union all\n",
        "select model from printer \n",
        "union all\n",
        "select model from laptop) as res join product on res.model=product.model\n",
        "\n",
        "\n",
        "\"\"\"\n",
        "pd.read_sql_query(request, conn)"
      ],
      "execution_count": null,
      "outputs": [
        {
          "output_type": "execute_result",
          "data": {
            "text/html": [
              "<div>\n",
              "<style scoped>\n",
              "    .dataframe tbody tr th:only-of-type {\n",
              "        vertical-align: middle;\n",
              "    }\n",
              "\n",
              "    .dataframe tbody tr th {\n",
              "        vertical-align: top;\n",
              "    }\n",
              "\n",
              "    .dataframe thead th {\n",
              "        text-align: right;\n",
              "    }\n",
              "</style>\n",
              "<table border=\"1\" class=\"dataframe\">\n",
              "  <thead>\n",
              "    <tr style=\"text-align: right;\">\n",
              "      <th></th>\n",
              "      <th>maker</th>\n",
              "      <th>type</th>\n",
              "      <th>model</th>\n",
              "    </tr>\n",
              "  </thead>\n",
              "  <tbody>\n",
              "    <tr>\n",
              "      <th>0</th>\n",
              "      <td>A</td>\n",
              "      <td>PC</td>\n",
              "      <td>1232</td>\n",
              "    </tr>\n",
              "    <tr>\n",
              "      <th>1</th>\n",
              "      <td>B</td>\n",
              "      <td>PC</td>\n",
              "      <td>1121</td>\n",
              "    </tr>\n",
              "    <tr>\n",
              "      <th>2</th>\n",
              "      <td>A</td>\n",
              "      <td>PC</td>\n",
              "      <td>1233</td>\n",
              "    </tr>\n",
              "    <tr>\n",
              "      <th>3</th>\n",
              "      <td>B</td>\n",
              "      <td>PC</td>\n",
              "      <td>1121</td>\n",
              "    </tr>\n",
              "    <tr>\n",
              "      <th>4</th>\n",
              "      <td>B</td>\n",
              "      <td>PC</td>\n",
              "      <td>1121</td>\n",
              "    </tr>\n",
              "    <tr>\n",
              "      <th>5</th>\n",
              "      <td>A</td>\n",
              "      <td>PC</td>\n",
              "      <td>1233</td>\n",
              "    </tr>\n",
              "    <tr>\n",
              "      <th>6</th>\n",
              "      <td>A</td>\n",
              "      <td>PC</td>\n",
              "      <td>1232</td>\n",
              "    </tr>\n",
              "    <tr>\n",
              "      <th>7</th>\n",
              "      <td>A</td>\n",
              "      <td>PC</td>\n",
              "      <td>1232</td>\n",
              "    </tr>\n",
              "    <tr>\n",
              "      <th>8</th>\n",
              "      <td>A</td>\n",
              "      <td>PC</td>\n",
              "      <td>1232</td>\n",
              "    </tr>\n",
              "    <tr>\n",
              "      <th>9</th>\n",
              "      <td>E</td>\n",
              "      <td>PC</td>\n",
              "      <td>1260</td>\n",
              "    </tr>\n",
              "    <tr>\n",
              "      <th>10</th>\n",
              "      <td>A</td>\n",
              "      <td>PC</td>\n",
              "      <td>1233</td>\n",
              "    </tr>\n",
              "    <tr>\n",
              "      <th>11</th>\n",
              "      <td>A</td>\n",
              "      <td>PC</td>\n",
              "      <td>1233</td>\n",
              "    </tr>\n",
              "    <tr>\n",
              "      <th>12</th>\n",
              "      <td>A</td>\n",
              "      <td>Printer</td>\n",
              "      <td>1276</td>\n",
              "    </tr>\n",
              "    <tr>\n",
              "      <th>13</th>\n",
              "      <td>D</td>\n",
              "      <td>Printer</td>\n",
              "      <td>1433</td>\n",
              "    </tr>\n",
              "    <tr>\n",
              "      <th>14</th>\n",
              "      <td>E</td>\n",
              "      <td>Printer</td>\n",
              "      <td>1434</td>\n",
              "    </tr>\n",
              "    <tr>\n",
              "      <th>15</th>\n",
              "      <td>A</td>\n",
              "      <td>Printer</td>\n",
              "      <td>1401</td>\n",
              "    </tr>\n",
              "    <tr>\n",
              "      <th>16</th>\n",
              "      <td>A</td>\n",
              "      <td>Printer</td>\n",
              "      <td>1408</td>\n",
              "    </tr>\n",
              "    <tr>\n",
              "      <th>17</th>\n",
              "      <td>D</td>\n",
              "      <td>Printer</td>\n",
              "      <td>1288</td>\n",
              "    </tr>\n",
              "    <tr>\n",
              "      <th>18</th>\n",
              "      <td>A</td>\n",
              "      <td>Laptop</td>\n",
              "      <td>1298</td>\n",
              "    </tr>\n",
              "    <tr>\n",
              "      <th>19</th>\n",
              "      <td>C</td>\n",
              "      <td>Laptop</td>\n",
              "      <td>1321</td>\n",
              "    </tr>\n",
              "    <tr>\n",
              "      <th>20</th>\n",
              "      <td>B</td>\n",
              "      <td>Laptop</td>\n",
              "      <td>1750</td>\n",
              "    </tr>\n",
              "    <tr>\n",
              "      <th>21</th>\n",
              "      <td>A</td>\n",
              "      <td>Laptop</td>\n",
              "      <td>1298</td>\n",
              "    </tr>\n",
              "    <tr>\n",
              "      <th>22</th>\n",
              "      <td>A</td>\n",
              "      <td>Laptop</td>\n",
              "      <td>1752</td>\n",
              "    </tr>\n",
              "    <tr>\n",
              "      <th>23</th>\n",
              "      <td>A</td>\n",
              "      <td>Laptop</td>\n",
              "      <td>1298</td>\n",
              "    </tr>\n",
              "  </tbody>\n",
              "</table>\n",
              "</div>"
            ],
            "text/plain": [
              "   maker     type model\n",
              "0      A       PC  1232\n",
              "1      B       PC  1121\n",
              "2      A       PC  1233\n",
              "3      B       PC  1121\n",
              "4      B       PC  1121\n",
              "5      A       PC  1233\n",
              "6      A       PC  1232\n",
              "7      A       PC  1232\n",
              "8      A       PC  1232\n",
              "9      E       PC  1260\n",
              "10     A       PC  1233\n",
              "11     A       PC  1233\n",
              "12     A  Printer  1276\n",
              "13     D  Printer  1433\n",
              "14     E  Printer  1434\n",
              "15     A  Printer  1401\n",
              "16     A  Printer  1408\n",
              "17     D  Printer  1288\n",
              "18     A   Laptop  1298\n",
              "19     C   Laptop  1321\n",
              "20     B   Laptop  1750\n",
              "21     A   Laptop  1298\n",
              "22     A   Laptop  1752\n",
              "23     A   Laptop  1298"
            ]
          },
          "metadata": {
            "tags": []
          },
          "execution_count": 2
        }
      ]
    },
    {
      "cell_type": "code",
      "metadata": {
        "colab": {
          "base_uri": "https://localhost:8080/",
          "height": 235
        },
        "id": "JNLGIRNOMpoy",
        "outputId": "bf5774ac-18b8-4202-b868-23adc5885111"
      },
      "source": [
        "#--task14 (lesson3)\n",
        "#--Компьютерная фирма: При выводе всех значений из таблицы printer дополнительно вывести для тех, \n",
        "#   у кого цена вышей средней PC - \"1\", у остальных - \"0\"\n",
        "request = \"\"\"\n",
        "select price,model, case\n",
        "            when price>(select avg(price) from printer )\n",
        "            then 1\n",
        "            else 0\n",
        "         end  flag\n",
        "from printer    \n",
        "\"\"\"\n",
        "pd.read_sql_query(request, conn)\n"
      ],
      "execution_count": null,
      "outputs": [
        {
          "output_type": "execute_result",
          "data": {
            "text/html": [
              "<div>\n",
              "<style scoped>\n",
              "    .dataframe tbody tr th:only-of-type {\n",
              "        vertical-align: middle;\n",
              "    }\n",
              "\n",
              "    .dataframe tbody tr th {\n",
              "        vertical-align: top;\n",
              "    }\n",
              "\n",
              "    .dataframe thead th {\n",
              "        text-align: right;\n",
              "    }\n",
              "</style>\n",
              "<table border=\"1\" class=\"dataframe\">\n",
              "  <thead>\n",
              "    <tr style=\"text-align: right;\">\n",
              "      <th></th>\n",
              "      <th>price</th>\n",
              "      <th>model</th>\n",
              "      <th>flag</th>\n",
              "    </tr>\n",
              "  </thead>\n",
              "  <tbody>\n",
              "    <tr>\n",
              "      <th>0</th>\n",
              "      <td>400.0</td>\n",
              "      <td>1276</td>\n",
              "      <td>1</td>\n",
              "    </tr>\n",
              "    <tr>\n",
              "      <th>1</th>\n",
              "      <td>270.0</td>\n",
              "      <td>1433</td>\n",
              "      <td>0</td>\n",
              "    </tr>\n",
              "    <tr>\n",
              "      <th>2</th>\n",
              "      <td>290.0</td>\n",
              "      <td>1434</td>\n",
              "      <td>0</td>\n",
              "    </tr>\n",
              "    <tr>\n",
              "      <th>3</th>\n",
              "      <td>150.0</td>\n",
              "      <td>1401</td>\n",
              "      <td>0</td>\n",
              "    </tr>\n",
              "    <tr>\n",
              "      <th>4</th>\n",
              "      <td>270.0</td>\n",
              "      <td>1408</td>\n",
              "      <td>0</td>\n",
              "    </tr>\n",
              "    <tr>\n",
              "      <th>5</th>\n",
              "      <td>400.0</td>\n",
              "      <td>1288</td>\n",
              "      <td>1</td>\n",
              "    </tr>\n",
              "  </tbody>\n",
              "</table>\n",
              "</div>"
            ],
            "text/plain": [
              "   price model  flag\n",
              "0  400.0  1276     1\n",
              "1  270.0  1433     0\n",
              "2  290.0  1434     0\n",
              "3  150.0  1401     0\n",
              "4  270.0  1408     0\n",
              "5  400.0  1288     1"
            ]
          },
          "metadata": {
            "tags": []
          },
          "execution_count": 4
        }
      ]
    },
    {
      "cell_type": "code",
      "metadata": {
        "colab": {
          "base_uri": "https://localhost:8080/",
          "height": 49
        },
        "id": "0Zk30f95Mptm",
        "outputId": "e8613668-1a60-469e-855d-06e569012ea7"
      },
      "source": [
        "#--task15 (lesson3)\n",
        "#--Корабли: Вывести список кораблей, у которых class отсутствует (IS NULL)\n",
        "request = \"\"\"\n",
        "SELECT * from ships\n",
        "where class is null\n",
        "\n",
        "\"\"\"\n",
        "pd.read_sql_query(request, conn)"
      ],
      "execution_count": null,
      "outputs": [
        {
          "output_type": "execute_result",
          "data": {
            "text/html": [
              "<div>\n",
              "<style scoped>\n",
              "    .dataframe tbody tr th:only-of-type {\n",
              "        vertical-align: middle;\n",
              "    }\n",
              "\n",
              "    .dataframe tbody tr th {\n",
              "        vertical-align: top;\n",
              "    }\n",
              "\n",
              "    .dataframe thead th {\n",
              "        text-align: right;\n",
              "    }\n",
              "</style>\n",
              "<table border=\"1\" class=\"dataframe\">\n",
              "  <thead>\n",
              "    <tr style=\"text-align: right;\">\n",
              "      <th></th>\n",
              "      <th>name</th>\n",
              "      <th>class</th>\n",
              "      <th>launched</th>\n",
              "    </tr>\n",
              "  </thead>\n",
              "  <tbody>\n",
              "  </tbody>\n",
              "</table>\n",
              "</div>"
            ],
            "text/plain": [
              "Empty DataFrame\n",
              "Columns: [name, class, launched]\n",
              "Index: []"
            ]
          },
          "metadata": {
            "tags": []
          },
          "execution_count": 6
        }
      ]
    },
    {
      "cell_type": "code",
      "metadata": {
        "colab": {
          "base_uri": "https://localhost:8080/",
          "height": 235
        },
        "id": "m7MEWR6vMp18",
        "outputId": "2ac608d4-93ba-4a10-e7f4-8adcde499105"
      },
      "source": [
        "#--task16 (lesson3)\n",
        "#--Корабли: Укажите сражения, которые произошли в годы, не совпадающие ни с одним из годов спуска кораблей на воду.\n",
        "request = \"\"\"\n",
        "SELECT battle FROM \n",
        "(\n",
        "SELECT *  from ships   join outcomes on ships.name=outcomes.ship\n",
        ")\n",
        "as res1 \n",
        "join \n",
        "(\n",
        "SELECT *, EXTRACT(YEAR FROM date) as YEAR from battles\n",
        ") \n",
        "as res2  \n",
        " on res2.name=res1.battle \n",
        "where year != launched\n",
        "\n",
        "\n",
        "\"\"\"\n",
        "pd.read_sql_query(request, conn)\n",
        "\n"
      ],
      "execution_count": null,
      "outputs": [
        {
          "output_type": "execute_result",
          "data": {
            "text/html": [
              "<div>\n",
              "<style scoped>\n",
              "    .dataframe tbody tr th:only-of-type {\n",
              "        vertical-align: middle;\n",
              "    }\n",
              "\n",
              "    .dataframe tbody tr th {\n",
              "        vertical-align: top;\n",
              "    }\n",
              "\n",
              "    .dataframe thead th {\n",
              "        text-align: right;\n",
              "    }\n",
              "</style>\n",
              "<table border=\"1\" class=\"dataframe\">\n",
              "  <thead>\n",
              "    <tr style=\"text-align: right;\">\n",
              "      <th></th>\n",
              "      <th>battle</th>\n",
              "    </tr>\n",
              "  </thead>\n",
              "  <tbody>\n",
              "    <tr>\n",
              "      <th>0</th>\n",
              "      <td>Surigao Strait</td>\n",
              "    </tr>\n",
              "    <tr>\n",
              "      <th>1</th>\n",
              "      <td>Guadalcanal</td>\n",
              "    </tr>\n",
              "    <tr>\n",
              "      <th>2</th>\n",
              "      <td>Guadalcanal</td>\n",
              "    </tr>\n",
              "    <tr>\n",
              "      <th>3</th>\n",
              "      <td>Surigao Strait</td>\n",
              "    </tr>\n",
              "    <tr>\n",
              "      <th>4</th>\n",
              "      <td>Guadalcanal</td>\n",
              "    </tr>\n",
              "    <tr>\n",
              "      <th>5</th>\n",
              "      <td>Guadalcanal</td>\n",
              "    </tr>\n",
              "  </tbody>\n",
              "</table>\n",
              "</div>"
            ],
            "text/plain": [
              "           battle\n",
              "0  Surigao Strait\n",
              "1     Guadalcanal\n",
              "2     Guadalcanal\n",
              "3  Surigao Strait\n",
              "4     Guadalcanal\n",
              "5     Guadalcanal"
            ]
          },
          "metadata": {
            "tags": []
          },
          "execution_count": 9
        }
      ]
    },
    {
      "cell_type": "code",
      "metadata": {
        "colab": {
          "base_uri": "https://localhost:8080/",
          "height": 80
        },
        "id": "TteSOLxsMp4_",
        "outputId": "84f40eac-6513-4dd8-b2bb-657175e2075e"
      },
      "source": [
        "#--task17 (lesson3)\n",
        "#-Корабли: Найдите сражения, в которых участвовали корабли класса Kongo из таблицы Ships.\n",
        "#участвуют таблицы ships, outcomes\n",
        "request = \"\"\"\n",
        "\n",
        "SELECT name, class, battle  from ships   join outcomes on ships.name=outcomes.ship\n",
        "where class= 'Kongo'\n",
        "\"\"\"\n",
        "pd.read_sql_query(request, conn)\n"
      ],
      "execution_count": null,
      "outputs": [
        {
          "output_type": "execute_result",
          "data": {
            "text/html": [
              "<div>\n",
              "<style scoped>\n",
              "    .dataframe tbody tr th:only-of-type {\n",
              "        vertical-align: middle;\n",
              "    }\n",
              "\n",
              "    .dataframe tbody tr th {\n",
              "        vertical-align: top;\n",
              "    }\n",
              "\n",
              "    .dataframe thead th {\n",
              "        text-align: right;\n",
              "    }\n",
              "</style>\n",
              "<table border=\"1\" class=\"dataframe\">\n",
              "  <thead>\n",
              "    <tr style=\"text-align: right;\">\n",
              "      <th></th>\n",
              "      <th>name</th>\n",
              "      <th>class</th>\n",
              "      <th>battle</th>\n",
              "    </tr>\n",
              "  </thead>\n",
              "  <tbody>\n",
              "    <tr>\n",
              "      <th>0</th>\n",
              "      <td>Kirishima</td>\n",
              "      <td>Kongo</td>\n",
              "      <td>Guadalcanal</td>\n",
              "    </tr>\n",
              "  </tbody>\n",
              "</table>\n",
              "</div>"
            ],
            "text/plain": [
              "        name  class       battle\n",
              "0  Kirishima  Kongo  Guadalcanal"
            ]
          },
          "metadata": {
            "tags": []
          },
          "execution_count": 11
        }
      ]
    },
    {
      "cell_type": "code",
      "metadata": {
        "colab": {
          "base_uri": "https://localhost:8080/",
          "height": 793
        },
        "id": "T2toRjt2MqCO",
        "outputId": "6bc79739-ff2f-4540-910b-060f96a9119a"
      },
      "source": [
        "#--task1  (lesson4)\n",
        "#-- Компьютерная фирма: Сделать view (название all_products_flag_300) для всех товаров (pc, printer, laptop) \n",
        "#    с флагом, если стоимость больше > 300. Во view три колонки: model, price, flag\n",
        "\n",
        "request = \"\"\"\n",
        "\n",
        "--create view all_products_flag_300 as \n",
        "\n",
        "select model, price, case\n",
        "    when price > 300  then 1\n",
        "    else 0\n",
        "end flag\n",
        "from \n",
        "(\n",
        "select model, price from pc\n",
        "union all\n",
        "select model, price from laptop\n",
        "union all\n",
        "select model, price from printer\n",
        ") as res\n",
        "\n",
        "\n",
        "\"\"\"\n",
        "\n",
        "\n",
        "pd.read_sql_query(request, conn)\n"
      ],
      "execution_count": null,
      "outputs": [
        {
          "output_type": "execute_result",
          "data": {
            "text/html": [
              "<div>\n",
              "<style scoped>\n",
              "    .dataframe tbody tr th:only-of-type {\n",
              "        vertical-align: middle;\n",
              "    }\n",
              "\n",
              "    .dataframe tbody tr th {\n",
              "        vertical-align: top;\n",
              "    }\n",
              "\n",
              "    .dataframe thead th {\n",
              "        text-align: right;\n",
              "    }\n",
              "</style>\n",
              "<table border=\"1\" class=\"dataframe\">\n",
              "  <thead>\n",
              "    <tr style=\"text-align: right;\">\n",
              "      <th></th>\n",
              "      <th>model</th>\n",
              "      <th>price</th>\n",
              "      <th>flag</th>\n",
              "    </tr>\n",
              "  </thead>\n",
              "  <tbody>\n",
              "    <tr>\n",
              "      <th>0</th>\n",
              "      <td>1232</td>\n",
              "      <td>600.0</td>\n",
              "      <td>1</td>\n",
              "    </tr>\n",
              "    <tr>\n",
              "      <th>1</th>\n",
              "      <td>1121</td>\n",
              "      <td>850.0</td>\n",
              "      <td>1</td>\n",
              "    </tr>\n",
              "    <tr>\n",
              "      <th>2</th>\n",
              "      <td>1233</td>\n",
              "      <td>600.0</td>\n",
              "      <td>1</td>\n",
              "    </tr>\n",
              "    <tr>\n",
              "      <th>3</th>\n",
              "      <td>1121</td>\n",
              "      <td>850.0</td>\n",
              "      <td>1</td>\n",
              "    </tr>\n",
              "    <tr>\n",
              "      <th>4</th>\n",
              "      <td>1121</td>\n",
              "      <td>850.0</td>\n",
              "      <td>1</td>\n",
              "    </tr>\n",
              "    <tr>\n",
              "      <th>5</th>\n",
              "      <td>1233</td>\n",
              "      <td>950.0</td>\n",
              "      <td>1</td>\n",
              "    </tr>\n",
              "    <tr>\n",
              "      <th>6</th>\n",
              "      <td>1232</td>\n",
              "      <td>400.0</td>\n",
              "      <td>1</td>\n",
              "    </tr>\n",
              "    <tr>\n",
              "      <th>7</th>\n",
              "      <td>1232</td>\n",
              "      <td>350.0</td>\n",
              "      <td>1</td>\n",
              "    </tr>\n",
              "    <tr>\n",
              "      <th>8</th>\n",
              "      <td>1232</td>\n",
              "      <td>350.0</td>\n",
              "      <td>1</td>\n",
              "    </tr>\n",
              "    <tr>\n",
              "      <th>9</th>\n",
              "      <td>1260</td>\n",
              "      <td>350.0</td>\n",
              "      <td>1</td>\n",
              "    </tr>\n",
              "    <tr>\n",
              "      <th>10</th>\n",
              "      <td>1233</td>\n",
              "      <td>980.0</td>\n",
              "      <td>1</td>\n",
              "    </tr>\n",
              "    <tr>\n",
              "      <th>11</th>\n",
              "      <td>1233</td>\n",
              "      <td>970.0</td>\n",
              "      <td>1</td>\n",
              "    </tr>\n",
              "    <tr>\n",
              "      <th>12</th>\n",
              "      <td>1298</td>\n",
              "      <td>700.0</td>\n",
              "      <td>1</td>\n",
              "    </tr>\n",
              "    <tr>\n",
              "      <th>13</th>\n",
              "      <td>1321</td>\n",
              "      <td>970.0</td>\n",
              "      <td>1</td>\n",
              "    </tr>\n",
              "    <tr>\n",
              "      <th>14</th>\n",
              "      <td>1750</td>\n",
              "      <td>1200.0</td>\n",
              "      <td>1</td>\n",
              "    </tr>\n",
              "    <tr>\n",
              "      <th>15</th>\n",
              "      <td>1298</td>\n",
              "      <td>1050.0</td>\n",
              "      <td>1</td>\n",
              "    </tr>\n",
              "    <tr>\n",
              "      <th>16</th>\n",
              "      <td>1752</td>\n",
              "      <td>1150.0</td>\n",
              "      <td>1</td>\n",
              "    </tr>\n",
              "    <tr>\n",
              "      <th>17</th>\n",
              "      <td>1298</td>\n",
              "      <td>950.0</td>\n",
              "      <td>1</td>\n",
              "    </tr>\n",
              "    <tr>\n",
              "      <th>18</th>\n",
              "      <td>1276</td>\n",
              "      <td>400.0</td>\n",
              "      <td>1</td>\n",
              "    </tr>\n",
              "    <tr>\n",
              "      <th>19</th>\n",
              "      <td>1433</td>\n",
              "      <td>270.0</td>\n",
              "      <td>0</td>\n",
              "    </tr>\n",
              "    <tr>\n",
              "      <th>20</th>\n",
              "      <td>1434</td>\n",
              "      <td>290.0</td>\n",
              "      <td>0</td>\n",
              "    </tr>\n",
              "    <tr>\n",
              "      <th>21</th>\n",
              "      <td>1401</td>\n",
              "      <td>150.0</td>\n",
              "      <td>0</td>\n",
              "    </tr>\n",
              "    <tr>\n",
              "      <th>22</th>\n",
              "      <td>1408</td>\n",
              "      <td>270.0</td>\n",
              "      <td>0</td>\n",
              "    </tr>\n",
              "    <tr>\n",
              "      <th>23</th>\n",
              "      <td>1288</td>\n",
              "      <td>400.0</td>\n",
              "      <td>1</td>\n",
              "    </tr>\n",
              "  </tbody>\n",
              "</table>\n",
              "</div>"
            ],
            "text/plain": [
              "   model   price  flag\n",
              "0   1232   600.0     1\n",
              "1   1121   850.0     1\n",
              "2   1233   600.0     1\n",
              "3   1121   850.0     1\n",
              "4   1121   850.0     1\n",
              "5   1233   950.0     1\n",
              "6   1232   400.0     1\n",
              "7   1232   350.0     1\n",
              "8   1232   350.0     1\n",
              "9   1260   350.0     1\n",
              "10  1233   980.0     1\n",
              "11  1233   970.0     1\n",
              "12  1298   700.0     1\n",
              "13  1321   970.0     1\n",
              "14  1750  1200.0     1\n",
              "15  1298  1050.0     1\n",
              "16  1752  1150.0     1\n",
              "17  1298   950.0     1\n",
              "18  1276   400.0     1\n",
              "19  1433   270.0     0\n",
              "20  1434   290.0     0\n",
              "21  1401   150.0     0\n",
              "22  1408   270.0     0\n",
              "23  1288   400.0     1"
            ]
          },
          "metadata": {
            "tags": []
          },
          "execution_count": 13
        }
      ]
    },
    {
      "cell_type": "code",
      "metadata": {
        "colab": {
          "base_uri": "https://localhost:8080/",
          "height": 793
        },
        "id": "jh60tIOjOKxx",
        "outputId": "f4194bc8-5218-4e47-f59b-78b514cb7781"
      },
      "source": [
        "#--task2  (lesson4)\n",
        "#-- Компьютерная фирма: Сделать view (название all_products_flag_avg_price) для всех товаров (pc, printer, laptop)\n",
        "#    с флагом, если стоимость больше cредней . Во view три колонки: model, price, flag\n",
        "\n",
        "request = \"\"\"\n",
        "\n",
        "--create view all_products_flag_avg_price as \n",
        "\n",
        "select model, price, case\n",
        "    when price > (select avg(price) \n",
        "from \n",
        "(\n",
        "select model, price from pc\n",
        "union all\n",
        "select model, price from laptop\n",
        "union all\n",
        "select model, price from printer\n",
        ") as res\n",
        ")\n",
        "   \n",
        "    \n",
        "    then 1  \n",
        "    else 0\n",
        "end flag\n",
        "from \n",
        "(\n",
        "select model, price from pc\n",
        "union all\n",
        "select model, price from laptop\n",
        "union all\n",
        "select model, price from printer\n",
        ") as res1\n",
        "\n",
        "\n",
        "\"\"\"\n",
        "\n",
        "\n",
        "pd.read_sql_query(request, conn)"
      ],
      "execution_count": null,
      "outputs": [
        {
          "output_type": "execute_result",
          "data": {
            "text/html": [
              "<div>\n",
              "<style scoped>\n",
              "    .dataframe tbody tr th:only-of-type {\n",
              "        vertical-align: middle;\n",
              "    }\n",
              "\n",
              "    .dataframe tbody tr th {\n",
              "        vertical-align: top;\n",
              "    }\n",
              "\n",
              "    .dataframe thead th {\n",
              "        text-align: right;\n",
              "    }\n",
              "</style>\n",
              "<table border=\"1\" class=\"dataframe\">\n",
              "  <thead>\n",
              "    <tr style=\"text-align: right;\">\n",
              "      <th></th>\n",
              "      <th>model</th>\n",
              "      <th>price</th>\n",
              "      <th>flag</th>\n",
              "    </tr>\n",
              "  </thead>\n",
              "  <tbody>\n",
              "    <tr>\n",
              "      <th>0</th>\n",
              "      <td>1232</td>\n",
              "      <td>600.0</td>\n",
              "      <td>0</td>\n",
              "    </tr>\n",
              "    <tr>\n",
              "      <th>1</th>\n",
              "      <td>1121</td>\n",
              "      <td>850.0</td>\n",
              "      <td>1</td>\n",
              "    </tr>\n",
              "    <tr>\n",
              "      <th>2</th>\n",
              "      <td>1233</td>\n",
              "      <td>600.0</td>\n",
              "      <td>0</td>\n",
              "    </tr>\n",
              "    <tr>\n",
              "      <th>3</th>\n",
              "      <td>1121</td>\n",
              "      <td>850.0</td>\n",
              "      <td>1</td>\n",
              "    </tr>\n",
              "    <tr>\n",
              "      <th>4</th>\n",
              "      <td>1121</td>\n",
              "      <td>850.0</td>\n",
              "      <td>1</td>\n",
              "    </tr>\n",
              "    <tr>\n",
              "      <th>5</th>\n",
              "      <td>1233</td>\n",
              "      <td>950.0</td>\n",
              "      <td>1</td>\n",
              "    </tr>\n",
              "    <tr>\n",
              "      <th>6</th>\n",
              "      <td>1232</td>\n",
              "      <td>400.0</td>\n",
              "      <td>0</td>\n",
              "    </tr>\n",
              "    <tr>\n",
              "      <th>7</th>\n",
              "      <td>1232</td>\n",
              "      <td>350.0</td>\n",
              "      <td>0</td>\n",
              "    </tr>\n",
              "    <tr>\n",
              "      <th>8</th>\n",
              "      <td>1232</td>\n",
              "      <td>350.0</td>\n",
              "      <td>0</td>\n",
              "    </tr>\n",
              "    <tr>\n",
              "      <th>9</th>\n",
              "      <td>1260</td>\n",
              "      <td>350.0</td>\n",
              "      <td>0</td>\n",
              "    </tr>\n",
              "    <tr>\n",
              "      <th>10</th>\n",
              "      <td>1233</td>\n",
              "      <td>980.0</td>\n",
              "      <td>1</td>\n",
              "    </tr>\n",
              "    <tr>\n",
              "      <th>11</th>\n",
              "      <td>1233</td>\n",
              "      <td>970.0</td>\n",
              "      <td>1</td>\n",
              "    </tr>\n",
              "    <tr>\n",
              "      <th>12</th>\n",
              "      <td>1298</td>\n",
              "      <td>700.0</td>\n",
              "      <td>1</td>\n",
              "    </tr>\n",
              "    <tr>\n",
              "      <th>13</th>\n",
              "      <td>1321</td>\n",
              "      <td>970.0</td>\n",
              "      <td>1</td>\n",
              "    </tr>\n",
              "    <tr>\n",
              "      <th>14</th>\n",
              "      <td>1750</td>\n",
              "      <td>1200.0</td>\n",
              "      <td>1</td>\n",
              "    </tr>\n",
              "    <tr>\n",
              "      <th>15</th>\n",
              "      <td>1298</td>\n",
              "      <td>1050.0</td>\n",
              "      <td>1</td>\n",
              "    </tr>\n",
              "    <tr>\n",
              "      <th>16</th>\n",
              "      <td>1752</td>\n",
              "      <td>1150.0</td>\n",
              "      <td>1</td>\n",
              "    </tr>\n",
              "    <tr>\n",
              "      <th>17</th>\n",
              "      <td>1298</td>\n",
              "      <td>950.0</td>\n",
              "      <td>1</td>\n",
              "    </tr>\n",
              "    <tr>\n",
              "      <th>18</th>\n",
              "      <td>1276</td>\n",
              "      <td>400.0</td>\n",
              "      <td>0</td>\n",
              "    </tr>\n",
              "    <tr>\n",
              "      <th>19</th>\n",
              "      <td>1433</td>\n",
              "      <td>270.0</td>\n",
              "      <td>0</td>\n",
              "    </tr>\n",
              "    <tr>\n",
              "      <th>20</th>\n",
              "      <td>1434</td>\n",
              "      <td>290.0</td>\n",
              "      <td>0</td>\n",
              "    </tr>\n",
              "    <tr>\n",
              "      <th>21</th>\n",
              "      <td>1401</td>\n",
              "      <td>150.0</td>\n",
              "      <td>0</td>\n",
              "    </tr>\n",
              "    <tr>\n",
              "      <th>22</th>\n",
              "      <td>1408</td>\n",
              "      <td>270.0</td>\n",
              "      <td>0</td>\n",
              "    </tr>\n",
              "    <tr>\n",
              "      <th>23</th>\n",
              "      <td>1288</td>\n",
              "      <td>400.0</td>\n",
              "      <td>0</td>\n",
              "    </tr>\n",
              "  </tbody>\n",
              "</table>\n",
              "</div>"
            ],
            "text/plain": [
              "   model   price  flag\n",
              "0   1232   600.0     0\n",
              "1   1121   850.0     1\n",
              "2   1233   600.0     0\n",
              "3   1121   850.0     1\n",
              "4   1121   850.0     1\n",
              "5   1233   950.0     1\n",
              "6   1232   400.0     0\n",
              "7   1232   350.0     0\n",
              "8   1232   350.0     0\n",
              "9   1260   350.0     0\n",
              "10  1233   980.0     1\n",
              "11  1233   970.0     1\n",
              "12  1298   700.0     1\n",
              "13  1321   970.0     1\n",
              "14  1750  1200.0     1\n",
              "15  1298  1050.0     1\n",
              "16  1752  1150.0     1\n",
              "17  1298   950.0     1\n",
              "18  1276   400.0     0\n",
              "19  1433   270.0     0\n",
              "20  1434   290.0     0\n",
              "21  1401   150.0     0\n",
              "22  1408   270.0     0\n",
              "23  1288   400.0     0"
            ]
          },
          "metadata": {
            "tags": []
          },
          "execution_count": 15
        }
      ]
    },
    {
      "cell_type": "code",
      "metadata": {
        "colab": {
          "base_uri": "https://localhost:8080/",
          "height": 49
        },
        "id": "4h5JdkN-OK3D",
        "outputId": "69ac05ff-21d1-460f-c32c-2cb9096b7722"
      },
      "source": [
        "#--task3  (lesson4)\n",
        "#-- Компьютерная фирма: Вывести все принтеры производителя = 'A' \n",
        "#    со стоимостью выше средней по принтерам производителя = 'D' и 'C'. Вывести model\n",
        "request = \"\"\"\n",
        "\n",
        "\n",
        "\n",
        "select product.model from product join printer on product.model=printer.model\n",
        "where maker='A' and price> (select avg(price) from product join printer on product.model=printer.model\n",
        "where maker='D' and maker='C')\n",
        "  \n",
        "\n",
        "\"\"\"\n",
        "\n",
        "\n",
        "pd.read_sql_query(request, conn)\n",
        "# Производитель  принтеров 'C' отсутствует"
      ],
      "execution_count": null,
      "outputs": [
        {
          "output_type": "execute_result",
          "data": {
            "text/html": [
              "<div>\n",
              "<style scoped>\n",
              "    .dataframe tbody tr th:only-of-type {\n",
              "        vertical-align: middle;\n",
              "    }\n",
              "\n",
              "    .dataframe tbody tr th {\n",
              "        vertical-align: top;\n",
              "    }\n",
              "\n",
              "    .dataframe thead th {\n",
              "        text-align: right;\n",
              "    }\n",
              "</style>\n",
              "<table border=\"1\" class=\"dataframe\">\n",
              "  <thead>\n",
              "    <tr style=\"text-align: right;\">\n",
              "      <th></th>\n",
              "      <th>model</th>\n",
              "    </tr>\n",
              "  </thead>\n",
              "  <tbody>\n",
              "  </tbody>\n",
              "</table>\n",
              "</div>"
            ],
            "text/plain": [
              "Empty DataFrame\n",
              "Columns: [model]\n",
              "Index: []"
            ]
          },
          "metadata": {
            "tags": []
          },
          "execution_count": 16
        }
      ]
    },
    {
      "cell_type": "code",
      "metadata": {
        "colab": {
          "base_uri": "https://localhost:8080/",
          "height": 49
        },
        "id": "gr_LnmvdOLBz",
        "outputId": "ccc01e37-9108-428e-fa26-d06298c60e89"
      },
      "source": [
        "#--task4 (lesson4)\n",
        "#-- Компьютерная фирма: Вывести все товары производителя = 'A' \n",
        "#    со стоимостью выше средней по принтерам производителя = 'D' и 'C'. Вывести model\n",
        "request = \"\"\"\n",
        "\n",
        "select * from product join\n",
        "(\n",
        "select model, price from pc\n",
        "union all\n",
        "select model, price from laptop\n",
        "union all\n",
        "select model, price from printer\n",
        ")as res\n",
        "on product.model=res.model\n",
        "where maker='A' \n",
        "and price>\n",
        "(\n",
        "select avg(price) from product \n",
        "join printer on product.model=printer.model\n",
        "where maker='D' \n",
        "and maker='C'\n",
        ")\n",
        "\n",
        "\n",
        "\"\"\"\n",
        "pd.read_sql_query(request, conn)\n",
        "\n",
        "# Производитель  принтеров 'C' отсутствует"
      ],
      "execution_count": null,
      "outputs": [
        {
          "output_type": "execute_result",
          "data": {
            "text/html": [
              "<div>\n",
              "<style scoped>\n",
              "    .dataframe tbody tr th:only-of-type {\n",
              "        vertical-align: middle;\n",
              "    }\n",
              "\n",
              "    .dataframe tbody tr th {\n",
              "        vertical-align: top;\n",
              "    }\n",
              "\n",
              "    .dataframe thead th {\n",
              "        text-align: right;\n",
              "    }\n",
              "</style>\n",
              "<table border=\"1\" class=\"dataframe\">\n",
              "  <thead>\n",
              "    <tr style=\"text-align: right;\">\n",
              "      <th></th>\n",
              "      <th>maker</th>\n",
              "      <th>model</th>\n",
              "      <th>type</th>\n",
              "      <th>model</th>\n",
              "      <th>price</th>\n",
              "    </tr>\n",
              "  </thead>\n",
              "  <tbody>\n",
              "  </tbody>\n",
              "</table>\n",
              "</div>"
            ],
            "text/plain": [
              "Empty DataFrame\n",
              "Columns: [maker, model, type, model, price]\n",
              "Index: []"
            ]
          },
          "metadata": {
            "tags": []
          },
          "execution_count": 18
        }
      ]
    },
    {
      "cell_type": "code",
      "metadata": {
        "colab": {
          "base_uri": "https://localhost:8080/",
          "height": 80
        },
        "id": "kB6yHFROOLJv",
        "outputId": "09903d5e-7fde-4025-9a4e-865463e3a311"
      },
      "source": [
        "#--task5 (lesson4)\n",
        "#-- Компьютерная фирма: Какая средняя цена среди уникальных продуктов производителя = 'A' (printer & laptop & pc)\n",
        "\n",
        "request = \"\"\"\n",
        "select avg(price) from\n",
        "(\n",
        "SELECT DISTINCT product.model, price from  product join\n",
        "(\n",
        "select model, price from pc\n",
        "union all\n",
        "select model, price from laptop\n",
        "union all\n",
        "select model, price from printer\n",
        ") as res \n",
        "on product.model=res.model\n",
        "where maker='A'\n",
        ") as res1\n",
        "\n",
        "\"\"\"\n",
        "pd.read_sql_query(request, conn)\n"
      ],
      "execution_count": null,
      "outputs": [
        {
          "output_type": "execute_result",
          "data": {
            "text/html": [
              "<div>\n",
              "<style scoped>\n",
              "    .dataframe tbody tr th:only-of-type {\n",
              "        vertical-align: middle;\n",
              "    }\n",
              "\n",
              "    .dataframe tbody tr th {\n",
              "        vertical-align: top;\n",
              "    }\n",
              "\n",
              "    .dataframe thead th {\n",
              "        text-align: right;\n",
              "    }\n",
              "</style>\n",
              "<table border=\"1\" class=\"dataframe\">\n",
              "  <thead>\n",
              "    <tr style=\"text-align: right;\">\n",
              "      <th></th>\n",
              "      <th>avg</th>\n",
              "    </tr>\n",
              "  </thead>\n",
              "  <tbody>\n",
              "    <tr>\n",
              "      <th>0</th>\n",
              "      <td>680.0</td>\n",
              "    </tr>\n",
              "  </tbody>\n",
              "</table>\n",
              "</div>"
            ],
            "text/plain": [
              "     avg\n",
              "0  680.0"
            ]
          },
          "metadata": {
            "tags": []
          },
          "execution_count": 19
        }
      ]
    },
    {
      "cell_type": "code",
      "metadata": {
        "colab": {
          "base_uri": "https://localhost:8080/",
          "height": 204
        },
        "id": "woGLj3SUOLNi",
        "outputId": "813c54f3-4279-45ad-ac17-cf2202d62adf"
      },
      "source": [
        "#--task6 (lesson4)\n",
        "#-- Компьютерная фирма: Сделать view с количеством товаров (название count_products_by_makers) \n",
        "#по каждому производителю. Во view: maker, count\n",
        "request = \"\"\"\n",
        "--create view count_products_by_makers as\n",
        "SELECT  maker, count(product.model) as cnt from  product join\n",
        "(\n",
        "select model, price from pc\n",
        "union all\n",
        "select model, price from laptop\n",
        "union all\n",
        "select model, price from printer\n",
        ") as res\n",
        "on product.model=res.model group by maker\n",
        "\n",
        "\"\"\"\n",
        "pd.read_sql_query(request, conn)\n"
      ],
      "execution_count": null,
      "outputs": [
        {
          "output_type": "execute_result",
          "data": {
            "text/html": [
              "<div>\n",
              "<style scoped>\n",
              "    .dataframe tbody tr th:only-of-type {\n",
              "        vertical-align: middle;\n",
              "    }\n",
              "\n",
              "    .dataframe tbody tr th {\n",
              "        vertical-align: top;\n",
              "    }\n",
              "\n",
              "    .dataframe thead th {\n",
              "        text-align: right;\n",
              "    }\n",
              "</style>\n",
              "<table border=\"1\" class=\"dataframe\">\n",
              "  <thead>\n",
              "    <tr style=\"text-align: right;\">\n",
              "      <th></th>\n",
              "      <th>maker</th>\n",
              "      <th>cnt</th>\n",
              "    </tr>\n",
              "  </thead>\n",
              "  <tbody>\n",
              "    <tr>\n",
              "      <th>0</th>\n",
              "      <td>E</td>\n",
              "      <td>2</td>\n",
              "    </tr>\n",
              "    <tr>\n",
              "      <th>1</th>\n",
              "      <td>D</td>\n",
              "      <td>2</td>\n",
              "    </tr>\n",
              "    <tr>\n",
              "      <th>2</th>\n",
              "      <td>A</td>\n",
              "      <td>15</td>\n",
              "    </tr>\n",
              "    <tr>\n",
              "      <th>3</th>\n",
              "      <td>C</td>\n",
              "      <td>1</td>\n",
              "    </tr>\n",
              "    <tr>\n",
              "      <th>4</th>\n",
              "      <td>B</td>\n",
              "      <td>4</td>\n",
              "    </tr>\n",
              "  </tbody>\n",
              "</table>\n",
              "</div>"
            ],
            "text/plain": [
              "  maker  cnt\n",
              "0     E    2\n",
              "1     D    2\n",
              "2     A   15\n",
              "3     C    1\n",
              "4     B    4"
            ]
          },
          "metadata": {
            "tags": []
          },
          "execution_count": 2
        }
      ]
    },
    {
      "cell_type": "code",
      "metadata": {
        "id": "-rAWetesOLSY",
        "colab": {
          "base_uri": "https://localhost:8080/",
          "height": 542
        },
        "outputId": "463d91d6-b7f0-4210-eb47-761115a357bb"
      },
      "source": [
        "#--task7 (lesson4)\n",
        "#-- По предыдущему view (count_products_by_makers) сделать график в colab (X: maker, y: count)\n",
        "\n",
        "df = pd.read_sql_query(request, conn)\n",
        "fig = px.bar(x=df.maker.to_list(), y=df.cnt.to_list(), labels={'x':'maker', 'y':'cnt'})\n",
        "fig.show()"
      ],
      "execution_count": null,
      "outputs": [
        {
          "output_type": "display_data",
          "data": {
            "text/html": [
              "<html>\n",
              "<head><meta charset=\"utf-8\" /></head>\n",
              "<body>\n",
              "    <div>\n",
              "            <script src=\"https://cdnjs.cloudflare.com/ajax/libs/mathjax/2.7.5/MathJax.js?config=TeX-AMS-MML_SVG\"></script><script type=\"text/javascript\">if (window.MathJax) {MathJax.Hub.Config({SVG: {font: \"STIX-Web\"}});}</script>\n",
              "                <script type=\"text/javascript\">window.PlotlyConfig = {MathJaxConfig: 'local'};</script>\n",
              "        <script src=\"https://cdn.plot.ly/plotly-latest.min.js\"></script>    \n",
              "            <div id=\"55a504a0-ac4b-48f9-a3c5-91f7f17e5dc4\" class=\"plotly-graph-div\" style=\"height:525px; width:100%;\"></div>\n",
              "            <script type=\"text/javascript\">\n",
              "                \n",
              "                    window.PLOTLYENV=window.PLOTLYENV || {};\n",
              "                    \n",
              "                if (document.getElementById(\"55a504a0-ac4b-48f9-a3c5-91f7f17e5dc4\")) {\n",
              "                    Plotly.newPlot(\n",
              "                        '55a504a0-ac4b-48f9-a3c5-91f7f17e5dc4',\n",
              "                        [{\"alignmentgroup\": \"True\", \"hoverlabel\": {\"namelength\": 0}, \"hovertemplate\": \"maker=%{x}<br>cnt=%{y}\", \"legendgroup\": \"\", \"marker\": {\"color\": \"#636efa\"}, \"name\": \"\", \"offsetgroup\": \"\", \"orientation\": \"v\", \"showlegend\": false, \"textposition\": \"auto\", \"type\": \"bar\", \"x\": [\"E\", \"D\", \"A\", \"C\", \"B\"], \"xaxis\": \"x\", \"y\": [2, 2, 15, 1, 4], \"yaxis\": \"y\"}],\n",
              "                        {\"barmode\": \"relative\", \"legend\": {\"tracegroupgap\": 0}, \"margin\": {\"t\": 60}, \"template\": {\"data\": {\"bar\": [{\"error_x\": {\"color\": \"#2a3f5f\"}, \"error_y\": {\"color\": \"#2a3f5f\"}, \"marker\": {\"line\": {\"color\": \"#E5ECF6\", \"width\": 0.5}}, \"type\": \"bar\"}], \"barpolar\": [{\"marker\": {\"line\": {\"color\": \"#E5ECF6\", \"width\": 0.5}}, \"type\": \"barpolar\"}], \"carpet\": [{\"aaxis\": {\"endlinecolor\": \"#2a3f5f\", \"gridcolor\": \"white\", \"linecolor\": \"white\", \"minorgridcolor\": \"white\", \"startlinecolor\": \"#2a3f5f\"}, \"baxis\": {\"endlinecolor\": \"#2a3f5f\", \"gridcolor\": \"white\", \"linecolor\": \"white\", \"minorgridcolor\": \"white\", \"startlinecolor\": \"#2a3f5f\"}, \"type\": \"carpet\"}], \"choropleth\": [{\"colorbar\": {\"outlinewidth\": 0, \"ticks\": \"\"}, \"type\": \"choropleth\"}], \"contour\": [{\"colorbar\": {\"outlinewidth\": 0, \"ticks\": \"\"}, \"colorscale\": [[0.0, \"#0d0887\"], [0.1111111111111111, \"#46039f\"], [0.2222222222222222, \"#7201a8\"], [0.3333333333333333, \"#9c179e\"], [0.4444444444444444, \"#bd3786\"], [0.5555555555555556, \"#d8576b\"], [0.6666666666666666, \"#ed7953\"], [0.7777777777777778, \"#fb9f3a\"], [0.8888888888888888, \"#fdca26\"], [1.0, \"#f0f921\"]], \"type\": \"contour\"}], \"contourcarpet\": [{\"colorbar\": {\"outlinewidth\": 0, \"ticks\": \"\"}, \"type\": \"contourcarpet\"}], \"heatmap\": [{\"colorbar\": {\"outlinewidth\": 0, \"ticks\": \"\"}, \"colorscale\": [[0.0, \"#0d0887\"], [0.1111111111111111, \"#46039f\"], [0.2222222222222222, \"#7201a8\"], [0.3333333333333333, \"#9c179e\"], [0.4444444444444444, \"#bd3786\"], [0.5555555555555556, \"#d8576b\"], [0.6666666666666666, \"#ed7953\"], [0.7777777777777778, \"#fb9f3a\"], [0.8888888888888888, \"#fdca26\"], [1.0, \"#f0f921\"]], \"type\": \"heatmap\"}], \"heatmapgl\": [{\"colorbar\": {\"outlinewidth\": 0, \"ticks\": \"\"}, \"colorscale\": [[0.0, \"#0d0887\"], [0.1111111111111111, \"#46039f\"], [0.2222222222222222, \"#7201a8\"], [0.3333333333333333, \"#9c179e\"], [0.4444444444444444, \"#bd3786\"], [0.5555555555555556, \"#d8576b\"], [0.6666666666666666, \"#ed7953\"], [0.7777777777777778, \"#fb9f3a\"], [0.8888888888888888, \"#fdca26\"], [1.0, \"#f0f921\"]], \"type\": \"heatmapgl\"}], \"histogram\": [{\"marker\": {\"colorbar\": {\"outlinewidth\": 0, \"ticks\": \"\"}}, \"type\": \"histogram\"}], \"histogram2d\": [{\"colorbar\": {\"outlinewidth\": 0, \"ticks\": \"\"}, \"colorscale\": [[0.0, \"#0d0887\"], [0.1111111111111111, \"#46039f\"], [0.2222222222222222, \"#7201a8\"], [0.3333333333333333, \"#9c179e\"], [0.4444444444444444, \"#bd3786\"], [0.5555555555555556, \"#d8576b\"], [0.6666666666666666, \"#ed7953\"], [0.7777777777777778, \"#fb9f3a\"], [0.8888888888888888, \"#fdca26\"], [1.0, \"#f0f921\"]], \"type\": \"histogram2d\"}], \"histogram2dcontour\": [{\"colorbar\": {\"outlinewidth\": 0, \"ticks\": \"\"}, \"colorscale\": [[0.0, \"#0d0887\"], [0.1111111111111111, \"#46039f\"], [0.2222222222222222, \"#7201a8\"], [0.3333333333333333, \"#9c179e\"], [0.4444444444444444, \"#bd3786\"], [0.5555555555555556, \"#d8576b\"], [0.6666666666666666, \"#ed7953\"], [0.7777777777777778, \"#fb9f3a\"], [0.8888888888888888, \"#fdca26\"], [1.0, \"#f0f921\"]], \"type\": \"histogram2dcontour\"}], \"mesh3d\": [{\"colorbar\": {\"outlinewidth\": 0, \"ticks\": \"\"}, \"type\": \"mesh3d\"}], \"parcoords\": [{\"line\": {\"colorbar\": {\"outlinewidth\": 0, \"ticks\": \"\"}}, \"type\": \"parcoords\"}], \"pie\": [{\"automargin\": true, \"type\": \"pie\"}], \"scatter\": [{\"marker\": {\"colorbar\": {\"outlinewidth\": 0, \"ticks\": \"\"}}, \"type\": \"scatter\"}], \"scatter3d\": [{\"line\": {\"colorbar\": {\"outlinewidth\": 0, \"ticks\": \"\"}}, \"marker\": {\"colorbar\": {\"outlinewidth\": 0, \"ticks\": \"\"}}, \"type\": \"scatter3d\"}], \"scattercarpet\": [{\"marker\": {\"colorbar\": {\"outlinewidth\": 0, \"ticks\": \"\"}}, \"type\": \"scattercarpet\"}], \"scattergeo\": [{\"marker\": {\"colorbar\": {\"outlinewidth\": 0, \"ticks\": \"\"}}, \"type\": \"scattergeo\"}], \"scattergl\": [{\"marker\": {\"colorbar\": {\"outlinewidth\": 0, \"ticks\": \"\"}}, \"type\": \"scattergl\"}], \"scattermapbox\": [{\"marker\": {\"colorbar\": {\"outlinewidth\": 0, \"ticks\": \"\"}}, \"type\": \"scattermapbox\"}], \"scatterpolar\": [{\"marker\": {\"colorbar\": {\"outlinewidth\": 0, \"ticks\": \"\"}}, \"type\": \"scatterpolar\"}], \"scatterpolargl\": [{\"marker\": {\"colorbar\": {\"outlinewidth\": 0, \"ticks\": \"\"}}, \"type\": \"scatterpolargl\"}], \"scatterternary\": [{\"marker\": {\"colorbar\": {\"outlinewidth\": 0, \"ticks\": \"\"}}, \"type\": \"scatterternary\"}], \"surface\": [{\"colorbar\": {\"outlinewidth\": 0, \"ticks\": \"\"}, \"colorscale\": [[0.0, \"#0d0887\"], [0.1111111111111111, \"#46039f\"], [0.2222222222222222, \"#7201a8\"], [0.3333333333333333, \"#9c179e\"], [0.4444444444444444, \"#bd3786\"], [0.5555555555555556, \"#d8576b\"], [0.6666666666666666, \"#ed7953\"], [0.7777777777777778, \"#fb9f3a\"], [0.8888888888888888, \"#fdca26\"], [1.0, \"#f0f921\"]], \"type\": \"surface\"}], \"table\": [{\"cells\": {\"fill\": {\"color\": \"#EBF0F8\"}, \"line\": {\"color\": \"white\"}}, \"header\": {\"fill\": {\"color\": \"#C8D4E3\"}, \"line\": {\"color\": \"white\"}}, \"type\": \"table\"}]}, \"layout\": {\"annotationdefaults\": {\"arrowcolor\": \"#2a3f5f\", \"arrowhead\": 0, \"arrowwidth\": 1}, \"coloraxis\": {\"colorbar\": {\"outlinewidth\": 0, \"ticks\": \"\"}}, \"colorscale\": {\"diverging\": [[0, \"#8e0152\"], [0.1, \"#c51b7d\"], [0.2, \"#de77ae\"], [0.3, \"#f1b6da\"], [0.4, \"#fde0ef\"], [0.5, \"#f7f7f7\"], [0.6, \"#e6f5d0\"], [0.7, \"#b8e186\"], [0.8, \"#7fbc41\"], [0.9, \"#4d9221\"], [1, \"#276419\"]], \"sequential\": [[0.0, \"#0d0887\"], [0.1111111111111111, \"#46039f\"], [0.2222222222222222, \"#7201a8\"], [0.3333333333333333, \"#9c179e\"], [0.4444444444444444, \"#bd3786\"], [0.5555555555555556, \"#d8576b\"], [0.6666666666666666, \"#ed7953\"], [0.7777777777777778, \"#fb9f3a\"], [0.8888888888888888, \"#fdca26\"], [1.0, \"#f0f921\"]], \"sequentialminus\": [[0.0, \"#0d0887\"], [0.1111111111111111, \"#46039f\"], [0.2222222222222222, \"#7201a8\"], [0.3333333333333333, \"#9c179e\"], [0.4444444444444444, \"#bd3786\"], [0.5555555555555556, \"#d8576b\"], [0.6666666666666666, \"#ed7953\"], [0.7777777777777778, \"#fb9f3a\"], [0.8888888888888888, \"#fdca26\"], [1.0, \"#f0f921\"]]}, \"colorway\": [\"#636efa\", \"#EF553B\", \"#00cc96\", \"#ab63fa\", \"#FFA15A\", \"#19d3f3\", \"#FF6692\", \"#B6E880\", \"#FF97FF\", \"#FECB52\"], \"font\": {\"color\": \"#2a3f5f\"}, \"geo\": {\"bgcolor\": \"white\", \"lakecolor\": \"white\", \"landcolor\": \"#E5ECF6\", \"showlakes\": true, \"showland\": true, \"subunitcolor\": \"white\"}, \"hoverlabel\": {\"align\": \"left\"}, \"hovermode\": \"closest\", \"mapbox\": {\"style\": \"light\"}, \"paper_bgcolor\": \"white\", \"plot_bgcolor\": \"#E5ECF6\", \"polar\": {\"angularaxis\": {\"gridcolor\": \"white\", \"linecolor\": \"white\", \"ticks\": \"\"}, \"bgcolor\": \"#E5ECF6\", \"radialaxis\": {\"gridcolor\": \"white\", \"linecolor\": \"white\", \"ticks\": \"\"}}, \"scene\": {\"xaxis\": {\"backgroundcolor\": \"#E5ECF6\", \"gridcolor\": \"white\", \"gridwidth\": 2, \"linecolor\": \"white\", \"showbackground\": true, \"ticks\": \"\", \"zerolinecolor\": \"white\"}, \"yaxis\": {\"backgroundcolor\": \"#E5ECF6\", \"gridcolor\": \"white\", \"gridwidth\": 2, \"linecolor\": \"white\", \"showbackground\": true, \"ticks\": \"\", \"zerolinecolor\": \"white\"}, \"zaxis\": {\"backgroundcolor\": \"#E5ECF6\", \"gridcolor\": \"white\", \"gridwidth\": 2, \"linecolor\": \"white\", \"showbackground\": true, \"ticks\": \"\", \"zerolinecolor\": \"white\"}}, \"shapedefaults\": {\"line\": {\"color\": \"#2a3f5f\"}}, \"ternary\": {\"aaxis\": {\"gridcolor\": \"white\", \"linecolor\": \"white\", \"ticks\": \"\"}, \"baxis\": {\"gridcolor\": \"white\", \"linecolor\": \"white\", \"ticks\": \"\"}, \"bgcolor\": \"#E5ECF6\", \"caxis\": {\"gridcolor\": \"white\", \"linecolor\": \"white\", \"ticks\": \"\"}}, \"title\": {\"x\": 0.05}, \"xaxis\": {\"automargin\": true, \"gridcolor\": \"white\", \"linecolor\": \"white\", \"ticks\": \"\", \"title\": {\"standoff\": 15}, \"zerolinecolor\": \"white\", \"zerolinewidth\": 2}, \"yaxis\": {\"automargin\": true, \"gridcolor\": \"white\", \"linecolor\": \"white\", \"ticks\": \"\", \"title\": {\"standoff\": 15}, \"zerolinecolor\": \"white\", \"zerolinewidth\": 2}}}, \"xaxis\": {\"anchor\": \"y\", \"domain\": [0.0, 1.0], \"title\": {\"text\": \"maker\"}}, \"yaxis\": {\"anchor\": \"x\", \"domain\": [0.0, 1.0], \"title\": {\"text\": \"cnt\"}}},\n",
              "                        {\"responsive\": true}\n",
              "                    ).then(function(){\n",
              "                            \n",
              "var gd = document.getElementById('55a504a0-ac4b-48f9-a3c5-91f7f17e5dc4');\n",
              "var x = new MutationObserver(function (mutations, observer) {{\n",
              "        var display = window.getComputedStyle(gd).display;\n",
              "        if (!display || display === 'none') {{\n",
              "            console.log([gd, 'removed!']);\n",
              "            Plotly.purge(gd);\n",
              "            observer.disconnect();\n",
              "        }}\n",
              "}});\n",
              "\n",
              "// Listen for the removal of the full notebook cells\n",
              "var notebookContainer = gd.closest('#notebook-container');\n",
              "if (notebookContainer) {{\n",
              "    x.observe(notebookContainer, {childList: true});\n",
              "}}\n",
              "\n",
              "// Listen for the clearing of the current output cell\n",
              "var outputEl = gd.closest('.output');\n",
              "if (outputEl) {{\n",
              "    x.observe(outputEl, {childList: true});\n",
              "}}\n",
              "\n",
              "                        })\n",
              "                };\n",
              "                \n",
              "            </script>\n",
              "        </div>\n",
              "</body>\n",
              "</html>"
            ]
          },
          "metadata": {
            "tags": []
          }
        }
      ]
    },
    {
      "cell_type": "code",
      "metadata": {
        "colab": {
          "base_uri": "https://localhost:8080/",
          "height": 173
        },
        "id": "C_1XeV2wOLcI",
        "outputId": "e48ca09d-e293-4bf5-d9f5-326105c46ed2"
      },
      "source": [
        "#--task8 (lesson4)\n",
        "#-- Компьютерная фирма: Сделать копию таблицы printer (название printer_updated) и удалить из нее все принтеры производителя 'D'\n",
        "request = \"\"\"\n",
        "\n",
        "--CREATE TABLE printer_updated AS\n",
        "\n",
        "select maker, product.model, product.type as pro_type, code, \n",
        "printer.type as pritype, price  from product join printer \n",
        "on product.model=printer.model \n",
        "where maker !='D'\n",
        "\n",
        "\n",
        "\"\"\"\n",
        "\n",
        "\n",
        "pd.read_sql_query(request, conn)\n",
        "\n"
      ],
      "execution_count": null,
      "outputs": [
        {
          "output_type": "execute_result",
          "data": {
            "text/html": [
              "<div>\n",
              "<style scoped>\n",
              "    .dataframe tbody tr th:only-of-type {\n",
              "        vertical-align: middle;\n",
              "    }\n",
              "\n",
              "    .dataframe tbody tr th {\n",
              "        vertical-align: top;\n",
              "    }\n",
              "\n",
              "    .dataframe thead th {\n",
              "        text-align: right;\n",
              "    }\n",
              "</style>\n",
              "<table border=\"1\" class=\"dataframe\">\n",
              "  <thead>\n",
              "    <tr style=\"text-align: right;\">\n",
              "      <th></th>\n",
              "      <th>maker</th>\n",
              "      <th>model</th>\n",
              "      <th>pro_type</th>\n",
              "      <th>code</th>\n",
              "      <th>pritype</th>\n",
              "      <th>price</th>\n",
              "    </tr>\n",
              "  </thead>\n",
              "  <tbody>\n",
              "    <tr>\n",
              "      <th>0</th>\n",
              "      <td>A</td>\n",
              "      <td>1276</td>\n",
              "      <td>Printer</td>\n",
              "      <td>1</td>\n",
              "      <td>Laser</td>\n",
              "      <td>400.0</td>\n",
              "    </tr>\n",
              "    <tr>\n",
              "      <th>1</th>\n",
              "      <td>E</td>\n",
              "      <td>1434</td>\n",
              "      <td>Printer</td>\n",
              "      <td>3</td>\n",
              "      <td>Jet</td>\n",
              "      <td>290.0</td>\n",
              "    </tr>\n",
              "    <tr>\n",
              "      <th>2</th>\n",
              "      <td>A</td>\n",
              "      <td>1401</td>\n",
              "      <td>Printer</td>\n",
              "      <td>4</td>\n",
              "      <td>Matrix</td>\n",
              "      <td>150.0</td>\n",
              "    </tr>\n",
              "    <tr>\n",
              "      <th>3</th>\n",
              "      <td>A</td>\n",
              "      <td>1408</td>\n",
              "      <td>Printer</td>\n",
              "      <td>5</td>\n",
              "      <td>Matrix</td>\n",
              "      <td>270.0</td>\n",
              "    </tr>\n",
              "  </tbody>\n",
              "</table>\n",
              "</div>"
            ],
            "text/plain": [
              "  maker model pro_type  code pritype  price\n",
              "0     A  1276  Printer     1   Laser  400.0\n",
              "1     E  1434  Printer     3     Jet  290.0\n",
              "2     A  1401  Printer     4  Matrix  150.0\n",
              "3     A  1408  Printer     5  Matrix  270.0"
            ]
          },
          "metadata": {
            "tags": []
          },
          "execution_count": 21
        }
      ]
    },
    {
      "cell_type": "code",
      "metadata": {
        "id": "hJjAl93Mnas4",
        "colab": {
          "base_uri": "https://localhost:8080/",
          "height": 173
        },
        "outputId": "8e9eb7e7-552c-4be4-bf12-54a2f848b695"
      },
      "source": [
        "#--task9 (lesson4)\n",
        "#-- Компьютерная фирма: Сделать на базе таблицы (printer_updated) view с дополнительной колонкой производителя\n",
        "#    (название printer_updated_with_makers)\n",
        "request = \"\"\"\n",
        "\n",
        "--CREATE TABLE printer_updated_with_makers AS\n",
        "\n",
        "select maker, product.model, product.type as pro_type, code, \n",
        "printer.type as pritype, price, maker as maker1 from product join printer \n",
        "on product.model=printer.model \n",
        "where maker !='D'\n",
        "\n",
        "\n",
        "\"\"\"\n",
        "\n",
        "\n",
        "pd.read_sql_query(request, conn)"
      ],
      "execution_count": null,
      "outputs": [
        {
          "output_type": "execute_result",
          "data": {
            "text/html": [
              "<div>\n",
              "<style scoped>\n",
              "    .dataframe tbody tr th:only-of-type {\n",
              "        vertical-align: middle;\n",
              "    }\n",
              "\n",
              "    .dataframe tbody tr th {\n",
              "        vertical-align: top;\n",
              "    }\n",
              "\n",
              "    .dataframe thead th {\n",
              "        text-align: right;\n",
              "    }\n",
              "</style>\n",
              "<table border=\"1\" class=\"dataframe\">\n",
              "  <thead>\n",
              "    <tr style=\"text-align: right;\">\n",
              "      <th></th>\n",
              "      <th>maker</th>\n",
              "      <th>model</th>\n",
              "      <th>pro_type</th>\n",
              "      <th>code</th>\n",
              "      <th>pritype</th>\n",
              "      <th>price</th>\n",
              "      <th>maker1</th>\n",
              "    </tr>\n",
              "  </thead>\n",
              "  <tbody>\n",
              "    <tr>\n",
              "      <th>0</th>\n",
              "      <td>A</td>\n",
              "      <td>1276</td>\n",
              "      <td>Printer</td>\n",
              "      <td>1</td>\n",
              "      <td>Laser</td>\n",
              "      <td>400.0</td>\n",
              "      <td>A</td>\n",
              "    </tr>\n",
              "    <tr>\n",
              "      <th>1</th>\n",
              "      <td>E</td>\n",
              "      <td>1434</td>\n",
              "      <td>Printer</td>\n",
              "      <td>3</td>\n",
              "      <td>Jet</td>\n",
              "      <td>290.0</td>\n",
              "      <td>E</td>\n",
              "    </tr>\n",
              "    <tr>\n",
              "      <th>2</th>\n",
              "      <td>A</td>\n",
              "      <td>1401</td>\n",
              "      <td>Printer</td>\n",
              "      <td>4</td>\n",
              "      <td>Matrix</td>\n",
              "      <td>150.0</td>\n",
              "      <td>A</td>\n",
              "    </tr>\n",
              "    <tr>\n",
              "      <th>3</th>\n",
              "      <td>A</td>\n",
              "      <td>1408</td>\n",
              "      <td>Printer</td>\n",
              "      <td>5</td>\n",
              "      <td>Matrix</td>\n",
              "      <td>270.0</td>\n",
              "      <td>A</td>\n",
              "    </tr>\n",
              "  </tbody>\n",
              "</table>\n",
              "</div>"
            ],
            "text/plain": [
              "  maker model pro_type  code pritype  price maker1\n",
              "0     A  1276  Printer     1   Laser  400.0      A\n",
              "1     E  1434  Printer     3     Jet  290.0      E\n",
              "2     A  1401  Printer     4  Matrix  150.0      A\n",
              "3     A  1408  Printer     5  Matrix  270.0      A"
            ]
          },
          "metadata": {
            "tags": []
          },
          "execution_count": 4
        }
      ]
    },
    {
      "cell_type": "code",
      "metadata": {
        "id": "LQnKgMVnOLlo"
      },
      "source": [
        ""
      ],
      "execution_count": null,
      "outputs": []
    },
    {
      "cell_type": "code",
      "metadata": {
        "colab": {
          "base_uri": "https://localhost:8080/",
          "height": 111
        },
        "id": "fyy0gD0vOLnv",
        "outputId": "155c89d9-377b-428a-c227-8ee67ff407b7"
      },
      "source": [
        "\n",
        "\n",
        "\n",
        "\n",
        "#--task10 (lesson4)\n",
        "#-- Корабли: Сделать view c количеством потопленных кораблей и классом корабля (название sunk_ships_by_classes). \n",
        "#Во view: count, class (если значения класса нет/IS NULL, то заменить на 0)\n",
        "\n",
        "request = \"\"\"\n",
        "\n",
        "--CREATE  view sunk_ships_by_classes as \n",
        "SELECT count(ship) as count1, res1.class1 from\n",
        "(\n",
        "SELECT ship, battle, result, CASE \n",
        " WHEN class IS NULL \n",
        " THEN '0'\n",
        " ELSE \"class\"\n",
        " END  class1\n",
        " from outcomes left join ships \n",
        "on outcomes.ship=ships.name\n",
        "where result='sunk'\n",
        ") as res1\n",
        " group by res1.class1\n",
        "\n",
        "\"\"\"\n",
        "pd.read_sql_query(request, conn)\n",
        "\n",
        "\n",
        "\n"
      ],
      "execution_count": null,
      "outputs": [
        {
          "output_type": "execute_result",
          "data": {
            "text/html": [
              "<div>\n",
              "<style scoped>\n",
              "    .dataframe tbody tr th:only-of-type {\n",
              "        vertical-align: middle;\n",
              "    }\n",
              "\n",
              "    .dataframe tbody tr th {\n",
              "        vertical-align: top;\n",
              "    }\n",
              "\n",
              "    .dataframe thead th {\n",
              "        text-align: right;\n",
              "    }\n",
              "</style>\n",
              "<table border=\"1\" class=\"dataframe\">\n",
              "  <thead>\n",
              "    <tr style=\"text-align: right;\">\n",
              "      <th></th>\n",
              "      <th>count1</th>\n",
              "      <th>class1</th>\n",
              "    </tr>\n",
              "  </thead>\n",
              "  <tbody>\n",
              "    <tr>\n",
              "      <th>0</th>\n",
              "      <td>5</td>\n",
              "      <td>0</td>\n",
              "    </tr>\n",
              "    <tr>\n",
              "      <th>1</th>\n",
              "      <td>1</td>\n",
              "      <td>Kongo</td>\n",
              "    </tr>\n",
              "  </tbody>\n",
              "</table>\n",
              "</div>"
            ],
            "text/plain": [
              "   count1 class1\n",
              "0       5      0\n",
              "1       1  Kongo"
            ]
          },
          "metadata": {
            "tags": []
          },
          "execution_count": 3
        }
      ]
    },
    {
      "cell_type": "code",
      "metadata": {
        "id": "WROOcc9tOLvm",
        "colab": {
          "base_uri": "https://localhost:8080/",
          "height": 542
        },
        "outputId": "93fbaa6c-553f-4f14-ed53-b551edc10569"
      },
      "source": [
        "#--task11 (lesson4)\n",
        "#-- Корабли: По предыдущему view (sunk_ships_by_classes) сделать график в colab (X: class, Y: count)\n",
        "\n",
        "request = \"\"\"\n",
        "\n",
        "--CREATE  view sunk_ships_by_classes as \n",
        "SELECT count(ship) as count1, res1.class1 from\n",
        "(\n",
        "SELECT ship, battle, result, CASE \n",
        " WHEN class IS NULL \n",
        " THEN 0\n",
        " ELSE 1\n",
        " END  class1\n",
        " from outcomes left join ships \n",
        "on outcomes.ship=ships.name\n",
        "where result='sunk'\n",
        ") as res1\n",
        " group by res1.class1\n",
        "\n",
        "\"\"\"\n",
        "pd.read_sql_query(request, conn)\n",
        "\n",
        "\n",
        "pd.read_sql_query(request, conn)\n",
        "df = pd.read_sql_query(request, conn)\n",
        "fig = px.bar(x=df.class1.to_list(), y=df.count1.to_list(), labels={'x':'class 0-класса нет, 1- класс есть', 'y':'count'})\n",
        "fig.show()\n",
        "\n"
      ],
      "execution_count": null,
      "outputs": [
        {
          "output_type": "display_data",
          "data": {
            "text/html": [
              "<html>\n",
              "<head><meta charset=\"utf-8\" /></head>\n",
              "<body>\n",
              "    <div>\n",
              "            <script src=\"https://cdnjs.cloudflare.com/ajax/libs/mathjax/2.7.5/MathJax.js?config=TeX-AMS-MML_SVG\"></script><script type=\"text/javascript\">if (window.MathJax) {MathJax.Hub.Config({SVG: {font: \"STIX-Web\"}});}</script>\n",
              "                <script type=\"text/javascript\">window.PlotlyConfig = {MathJaxConfig: 'local'};</script>\n",
              "        <script src=\"https://cdn.plot.ly/plotly-latest.min.js\"></script>    \n",
              "            <div id=\"933c7235-6330-4642-8728-e0be20b069c2\" class=\"plotly-graph-div\" style=\"height:525px; width:100%;\"></div>\n",
              "            <script type=\"text/javascript\">\n",
              "                \n",
              "                    window.PLOTLYENV=window.PLOTLYENV || {};\n",
              "                    \n",
              "                if (document.getElementById(\"933c7235-6330-4642-8728-e0be20b069c2\")) {\n",
              "                    Plotly.newPlot(\n",
              "                        '933c7235-6330-4642-8728-e0be20b069c2',\n",
              "                        [{\"alignmentgroup\": \"True\", \"hoverlabel\": {\"namelength\": 0}, \"hovertemplate\": \"class 0-\\u043a\\u043b\\u0430\\u0441\\u0441\\u0430 \\u043d\\u0435\\u0442, 1- \\u043a\\u043b\\u0430\\u0441\\u0441 \\u0435\\u0441\\u0442\\u044c=%{x}<br>count=%{y}\", \"legendgroup\": \"\", \"marker\": {\"color\": \"#636efa\"}, \"name\": \"\", \"offsetgroup\": \"\", \"orientation\": \"v\", \"showlegend\": false, \"textposition\": \"auto\", \"type\": \"bar\", \"x\": [0, 1], \"xaxis\": \"x\", \"y\": [5, 1], \"yaxis\": \"y\"}],\n",
              "                        {\"barmode\": \"relative\", \"legend\": {\"tracegroupgap\": 0}, \"margin\": {\"t\": 60}, \"template\": {\"data\": {\"bar\": [{\"error_x\": {\"color\": \"#2a3f5f\"}, \"error_y\": {\"color\": \"#2a3f5f\"}, \"marker\": {\"line\": {\"color\": \"#E5ECF6\", \"width\": 0.5}}, \"type\": \"bar\"}], \"barpolar\": [{\"marker\": {\"line\": {\"color\": \"#E5ECF6\", \"width\": 0.5}}, \"type\": \"barpolar\"}], \"carpet\": [{\"aaxis\": {\"endlinecolor\": \"#2a3f5f\", \"gridcolor\": \"white\", \"linecolor\": \"white\", \"minorgridcolor\": \"white\", \"startlinecolor\": \"#2a3f5f\"}, \"baxis\": {\"endlinecolor\": \"#2a3f5f\", \"gridcolor\": \"white\", \"linecolor\": \"white\", \"minorgridcolor\": \"white\", \"startlinecolor\": \"#2a3f5f\"}, \"type\": \"carpet\"}], \"choropleth\": [{\"colorbar\": {\"outlinewidth\": 0, \"ticks\": \"\"}, \"type\": \"choropleth\"}], \"contour\": [{\"colorbar\": {\"outlinewidth\": 0, \"ticks\": \"\"}, \"colorscale\": [[0.0, \"#0d0887\"], [0.1111111111111111, \"#46039f\"], [0.2222222222222222, \"#7201a8\"], [0.3333333333333333, \"#9c179e\"], [0.4444444444444444, \"#bd3786\"], [0.5555555555555556, \"#d8576b\"], [0.6666666666666666, \"#ed7953\"], [0.7777777777777778, \"#fb9f3a\"], [0.8888888888888888, \"#fdca26\"], [1.0, \"#f0f921\"]], \"type\": \"contour\"}], \"contourcarpet\": [{\"colorbar\": {\"outlinewidth\": 0, \"ticks\": \"\"}, \"type\": \"contourcarpet\"}], \"heatmap\": [{\"colorbar\": {\"outlinewidth\": 0, \"ticks\": \"\"}, \"colorscale\": [[0.0, \"#0d0887\"], [0.1111111111111111, \"#46039f\"], [0.2222222222222222, \"#7201a8\"], [0.3333333333333333, \"#9c179e\"], [0.4444444444444444, \"#bd3786\"], [0.5555555555555556, \"#d8576b\"], [0.6666666666666666, \"#ed7953\"], [0.7777777777777778, \"#fb9f3a\"], [0.8888888888888888, \"#fdca26\"], [1.0, \"#f0f921\"]], \"type\": \"heatmap\"}], \"heatmapgl\": [{\"colorbar\": {\"outlinewidth\": 0, \"ticks\": \"\"}, \"colorscale\": [[0.0, \"#0d0887\"], [0.1111111111111111, \"#46039f\"], [0.2222222222222222, \"#7201a8\"], [0.3333333333333333, \"#9c179e\"], [0.4444444444444444, \"#bd3786\"], [0.5555555555555556, \"#d8576b\"], [0.6666666666666666, \"#ed7953\"], [0.7777777777777778, \"#fb9f3a\"], [0.8888888888888888, \"#fdca26\"], [1.0, \"#f0f921\"]], \"type\": \"heatmapgl\"}], \"histogram\": [{\"marker\": {\"colorbar\": {\"outlinewidth\": 0, \"ticks\": \"\"}}, \"type\": \"histogram\"}], \"histogram2d\": [{\"colorbar\": {\"outlinewidth\": 0, \"ticks\": \"\"}, \"colorscale\": [[0.0, \"#0d0887\"], [0.1111111111111111, \"#46039f\"], [0.2222222222222222, \"#7201a8\"], [0.3333333333333333, \"#9c179e\"], [0.4444444444444444, \"#bd3786\"], [0.5555555555555556, \"#d8576b\"], [0.6666666666666666, \"#ed7953\"], [0.7777777777777778, \"#fb9f3a\"], [0.8888888888888888, \"#fdca26\"], [1.0, \"#f0f921\"]], \"type\": \"histogram2d\"}], \"histogram2dcontour\": [{\"colorbar\": {\"outlinewidth\": 0, \"ticks\": \"\"}, \"colorscale\": [[0.0, \"#0d0887\"], [0.1111111111111111, \"#46039f\"], [0.2222222222222222, \"#7201a8\"], [0.3333333333333333, \"#9c179e\"], [0.4444444444444444, \"#bd3786\"], [0.5555555555555556, \"#d8576b\"], [0.6666666666666666, \"#ed7953\"], [0.7777777777777778, \"#fb9f3a\"], [0.8888888888888888, \"#fdca26\"], [1.0, \"#f0f921\"]], \"type\": \"histogram2dcontour\"}], \"mesh3d\": [{\"colorbar\": {\"outlinewidth\": 0, \"ticks\": \"\"}, \"type\": \"mesh3d\"}], \"parcoords\": [{\"line\": {\"colorbar\": {\"outlinewidth\": 0, \"ticks\": \"\"}}, \"type\": \"parcoords\"}], \"pie\": [{\"automargin\": true, \"type\": \"pie\"}], \"scatter\": [{\"marker\": {\"colorbar\": {\"outlinewidth\": 0, \"ticks\": \"\"}}, \"type\": \"scatter\"}], \"scatter3d\": [{\"line\": {\"colorbar\": {\"outlinewidth\": 0, \"ticks\": \"\"}}, \"marker\": {\"colorbar\": {\"outlinewidth\": 0, \"ticks\": \"\"}}, \"type\": \"scatter3d\"}], \"scattercarpet\": [{\"marker\": {\"colorbar\": {\"outlinewidth\": 0, \"ticks\": \"\"}}, \"type\": \"scattercarpet\"}], \"scattergeo\": [{\"marker\": {\"colorbar\": {\"outlinewidth\": 0, \"ticks\": \"\"}}, \"type\": \"scattergeo\"}], \"scattergl\": [{\"marker\": {\"colorbar\": {\"outlinewidth\": 0, \"ticks\": \"\"}}, \"type\": \"scattergl\"}], \"scattermapbox\": [{\"marker\": {\"colorbar\": {\"outlinewidth\": 0, \"ticks\": \"\"}}, \"type\": \"scattermapbox\"}], \"scatterpolar\": [{\"marker\": {\"colorbar\": {\"outlinewidth\": 0, \"ticks\": \"\"}}, \"type\": \"scatterpolar\"}], \"scatterpolargl\": [{\"marker\": {\"colorbar\": {\"outlinewidth\": 0, \"ticks\": \"\"}}, \"type\": \"scatterpolargl\"}], \"scatterternary\": [{\"marker\": {\"colorbar\": {\"outlinewidth\": 0, \"ticks\": \"\"}}, \"type\": \"scatterternary\"}], \"surface\": [{\"colorbar\": {\"outlinewidth\": 0, \"ticks\": \"\"}, \"colorscale\": [[0.0, \"#0d0887\"], [0.1111111111111111, \"#46039f\"], [0.2222222222222222, \"#7201a8\"], [0.3333333333333333, \"#9c179e\"], [0.4444444444444444, \"#bd3786\"], [0.5555555555555556, \"#d8576b\"], [0.6666666666666666, \"#ed7953\"], [0.7777777777777778, \"#fb9f3a\"], [0.8888888888888888, \"#fdca26\"], [1.0, \"#f0f921\"]], \"type\": \"surface\"}], \"table\": [{\"cells\": {\"fill\": {\"color\": \"#EBF0F8\"}, \"line\": {\"color\": \"white\"}}, \"header\": {\"fill\": {\"color\": \"#C8D4E3\"}, \"line\": {\"color\": \"white\"}}, \"type\": \"table\"}]}, \"layout\": {\"annotationdefaults\": {\"arrowcolor\": \"#2a3f5f\", \"arrowhead\": 0, \"arrowwidth\": 1}, \"coloraxis\": {\"colorbar\": {\"outlinewidth\": 0, \"ticks\": \"\"}}, \"colorscale\": {\"diverging\": [[0, \"#8e0152\"], [0.1, \"#c51b7d\"], [0.2, \"#de77ae\"], [0.3, \"#f1b6da\"], [0.4, \"#fde0ef\"], [0.5, \"#f7f7f7\"], [0.6, \"#e6f5d0\"], [0.7, \"#b8e186\"], [0.8, \"#7fbc41\"], [0.9, \"#4d9221\"], [1, \"#276419\"]], \"sequential\": [[0.0, \"#0d0887\"], [0.1111111111111111, \"#46039f\"], [0.2222222222222222, \"#7201a8\"], [0.3333333333333333, \"#9c179e\"], [0.4444444444444444, \"#bd3786\"], [0.5555555555555556, \"#d8576b\"], [0.6666666666666666, \"#ed7953\"], [0.7777777777777778, \"#fb9f3a\"], [0.8888888888888888, \"#fdca26\"], [1.0, \"#f0f921\"]], \"sequentialminus\": [[0.0, \"#0d0887\"], [0.1111111111111111, \"#46039f\"], [0.2222222222222222, \"#7201a8\"], [0.3333333333333333, \"#9c179e\"], [0.4444444444444444, \"#bd3786\"], [0.5555555555555556, \"#d8576b\"], [0.6666666666666666, \"#ed7953\"], [0.7777777777777778, \"#fb9f3a\"], [0.8888888888888888, \"#fdca26\"], [1.0, \"#f0f921\"]]}, \"colorway\": [\"#636efa\", \"#EF553B\", \"#00cc96\", \"#ab63fa\", \"#FFA15A\", \"#19d3f3\", \"#FF6692\", \"#B6E880\", \"#FF97FF\", \"#FECB52\"], \"font\": {\"color\": \"#2a3f5f\"}, \"geo\": {\"bgcolor\": \"white\", \"lakecolor\": \"white\", \"landcolor\": \"#E5ECF6\", \"showlakes\": true, \"showland\": true, \"subunitcolor\": \"white\"}, \"hoverlabel\": {\"align\": \"left\"}, \"hovermode\": \"closest\", \"mapbox\": {\"style\": \"light\"}, \"paper_bgcolor\": \"white\", \"plot_bgcolor\": \"#E5ECF6\", \"polar\": {\"angularaxis\": {\"gridcolor\": \"white\", \"linecolor\": \"white\", \"ticks\": \"\"}, \"bgcolor\": \"#E5ECF6\", \"radialaxis\": {\"gridcolor\": \"white\", \"linecolor\": \"white\", \"ticks\": \"\"}}, \"scene\": {\"xaxis\": {\"backgroundcolor\": \"#E5ECF6\", \"gridcolor\": \"white\", \"gridwidth\": 2, \"linecolor\": \"white\", \"showbackground\": true, \"ticks\": \"\", \"zerolinecolor\": \"white\"}, \"yaxis\": {\"backgroundcolor\": \"#E5ECF6\", \"gridcolor\": \"white\", \"gridwidth\": 2, \"linecolor\": \"white\", \"showbackground\": true, \"ticks\": \"\", \"zerolinecolor\": \"white\"}, \"zaxis\": {\"backgroundcolor\": \"#E5ECF6\", \"gridcolor\": \"white\", \"gridwidth\": 2, \"linecolor\": \"white\", \"showbackground\": true, \"ticks\": \"\", \"zerolinecolor\": \"white\"}}, \"shapedefaults\": {\"line\": {\"color\": \"#2a3f5f\"}}, \"ternary\": {\"aaxis\": {\"gridcolor\": \"white\", \"linecolor\": \"white\", \"ticks\": \"\"}, \"baxis\": {\"gridcolor\": \"white\", \"linecolor\": \"white\", \"ticks\": \"\"}, \"bgcolor\": \"#E5ECF6\", \"caxis\": {\"gridcolor\": \"white\", \"linecolor\": \"white\", \"ticks\": \"\"}}, \"title\": {\"x\": 0.05}, \"xaxis\": {\"automargin\": true, \"gridcolor\": \"white\", \"linecolor\": \"white\", \"ticks\": \"\", \"title\": {\"standoff\": 15}, \"zerolinecolor\": \"white\", \"zerolinewidth\": 2}, \"yaxis\": {\"automargin\": true, \"gridcolor\": \"white\", \"linecolor\": \"white\", \"ticks\": \"\", \"title\": {\"standoff\": 15}, \"zerolinecolor\": \"white\", \"zerolinewidth\": 2}}}, \"xaxis\": {\"anchor\": \"y\", \"domain\": [0.0, 1.0], \"title\": {\"text\": \"class 0-\\u043a\\u043b\\u0430\\u0441\\u0441\\u0430 \\u043d\\u0435\\u0442, 1- \\u043a\\u043b\\u0430\\u0441\\u0441 \\u0435\\u0441\\u0442\\u044c\"}}, \"yaxis\": {\"anchor\": \"x\", \"domain\": [0.0, 1.0], \"title\": {\"text\": \"count\"}}},\n",
              "                        {\"responsive\": true}\n",
              "                    ).then(function(){\n",
              "                            \n",
              "var gd = document.getElementById('933c7235-6330-4642-8728-e0be20b069c2');\n",
              "var x = new MutationObserver(function (mutations, observer) {{\n",
              "        var display = window.getComputedStyle(gd).display;\n",
              "        if (!display || display === 'none') {{\n",
              "            console.log([gd, 'removed!']);\n",
              "            Plotly.purge(gd);\n",
              "            observer.disconnect();\n",
              "        }}\n",
              "}});\n",
              "\n",
              "// Listen for the removal of the full notebook cells\n",
              "var notebookContainer = gd.closest('#notebook-container');\n",
              "if (notebookContainer) {{\n",
              "    x.observe(notebookContainer, {childList: true});\n",
              "}}\n",
              "\n",
              "// Listen for the clearing of the current output cell\n",
              "var outputEl = gd.closest('.output');\n",
              "if (outputEl) {{\n",
              "    x.observe(outputEl, {childList: true});\n",
              "}}\n",
              "\n",
              "                        })\n",
              "                };\n",
              "                \n",
              "            </script>\n",
              "        </div>\n",
              "</body>\n",
              "</html>"
            ]
          },
          "metadata": {
            "tags": []
          }
        }
      ]
    },
    {
      "cell_type": "code",
      "metadata": {
        "colab": {
          "base_uri": "https://localhost:8080/",
          "height": 297
        },
        "id": "kylB2hGNMqGc",
        "outputId": "6173d336-9744-4d83-acd3-ec3b81366d66"
      },
      "source": [
        "#--task12 (lesson4)\n",
        "#-- Корабли: Сделать копию таблицы classes (название classes_with_flag) и добавить в нее flag: \n",
        "#если количество орудий больше или равно 9 - то 1, иначе 0\n",
        "request = \"\"\"\n",
        "\n",
        "--CREATE TABLE classes_with_flag AS\n",
        "\n",
        "select *, case\n",
        "    when numguns >= 9\n",
        "    then 1\n",
        "    else 0\n",
        "end flag\n",
        "from classes\n",
        "\n",
        "\"\"\"\n",
        "\n",
        "\n",
        "pd.read_sql_query(request, conn)\n"
      ],
      "execution_count": null,
      "outputs": [
        {
          "output_type": "execute_result",
          "data": {
            "text/html": [
              "<div>\n",
              "<style scoped>\n",
              "    .dataframe tbody tr th:only-of-type {\n",
              "        vertical-align: middle;\n",
              "    }\n",
              "\n",
              "    .dataframe tbody tr th {\n",
              "        vertical-align: top;\n",
              "    }\n",
              "\n",
              "    .dataframe thead th {\n",
              "        text-align: right;\n",
              "    }\n",
              "</style>\n",
              "<table border=\"1\" class=\"dataframe\">\n",
              "  <thead>\n",
              "    <tr style=\"text-align: right;\">\n",
              "      <th></th>\n",
              "      <th>class</th>\n",
              "      <th>type</th>\n",
              "      <th>country</th>\n",
              "      <th>numguns</th>\n",
              "      <th>bore</th>\n",
              "      <th>displacement</th>\n",
              "      <th>flag</th>\n",
              "    </tr>\n",
              "  </thead>\n",
              "  <tbody>\n",
              "    <tr>\n",
              "      <th>0</th>\n",
              "      <td>Bismarck</td>\n",
              "      <td>bb</td>\n",
              "      <td>Germany</td>\n",
              "      <td>8</td>\n",
              "      <td>15.0</td>\n",
              "      <td>42000</td>\n",
              "      <td>0</td>\n",
              "    </tr>\n",
              "    <tr>\n",
              "      <th>1</th>\n",
              "      <td>Iowa</td>\n",
              "      <td>bb</td>\n",
              "      <td>USA</td>\n",
              "      <td>9</td>\n",
              "      <td>16.0</td>\n",
              "      <td>46000</td>\n",
              "      <td>1</td>\n",
              "    </tr>\n",
              "    <tr>\n",
              "      <th>2</th>\n",
              "      <td>Kongo</td>\n",
              "      <td>bc</td>\n",
              "      <td>Japan</td>\n",
              "      <td>8</td>\n",
              "      <td>14.0</td>\n",
              "      <td>32000</td>\n",
              "      <td>0</td>\n",
              "    </tr>\n",
              "    <tr>\n",
              "      <th>3</th>\n",
              "      <td>North Carolina</td>\n",
              "      <td>bb</td>\n",
              "      <td>USA</td>\n",
              "      <td>12</td>\n",
              "      <td>16.0</td>\n",
              "      <td>37000</td>\n",
              "      <td>1</td>\n",
              "    </tr>\n",
              "    <tr>\n",
              "      <th>4</th>\n",
              "      <td>Renown</td>\n",
              "      <td>bc</td>\n",
              "      <td>Gt.Britain</td>\n",
              "      <td>6</td>\n",
              "      <td>15.0</td>\n",
              "      <td>32000</td>\n",
              "      <td>0</td>\n",
              "    </tr>\n",
              "    <tr>\n",
              "      <th>5</th>\n",
              "      <td>Revenge</td>\n",
              "      <td>bb</td>\n",
              "      <td>Gt.Britain</td>\n",
              "      <td>8</td>\n",
              "      <td>15.0</td>\n",
              "      <td>29000</td>\n",
              "      <td>0</td>\n",
              "    </tr>\n",
              "    <tr>\n",
              "      <th>6</th>\n",
              "      <td>Tennessee</td>\n",
              "      <td>bb</td>\n",
              "      <td>USA</td>\n",
              "      <td>12</td>\n",
              "      <td>14.0</td>\n",
              "      <td>32000</td>\n",
              "      <td>1</td>\n",
              "    </tr>\n",
              "    <tr>\n",
              "      <th>7</th>\n",
              "      <td>Yamato</td>\n",
              "      <td>bb</td>\n",
              "      <td>Japan</td>\n",
              "      <td>9</td>\n",
              "      <td>18.0</td>\n",
              "      <td>65000</td>\n",
              "      <td>1</td>\n",
              "    </tr>\n",
              "  </tbody>\n",
              "</table>\n",
              "</div>"
            ],
            "text/plain": [
              "            class type     country  numguns  bore  displacement  flag\n",
              "0        Bismarck   bb     Germany        8  15.0         42000     0\n",
              "1            Iowa   bb         USA        9  16.0         46000     1\n",
              "2           Kongo   bc       Japan        8  14.0         32000     0\n",
              "3  North Carolina   bb         USA       12  16.0         37000     1\n",
              "4          Renown   bc  Gt.Britain        6  15.0         32000     0\n",
              "5         Revenge   bb  Gt.Britain        8  15.0         29000     0\n",
              "6       Tennessee   bb         USA       12  14.0         32000     1\n",
              "7          Yamato   bb       Japan        9  18.0         65000     1"
            ]
          },
          "metadata": {
            "tags": []
          },
          "execution_count": 26
        }
      ]
    },
    {
      "cell_type": "code",
      "metadata": {
        "colab": {
          "base_uri": "https://localhost:8080/",
          "height": 542
        },
        "id": "_KZ9y6mtkRWe",
        "outputId": "49487bb2-8638-4182-a8c9-9ec345ac54b0"
      },
      "source": [
        "#--task13 (lesson4)\n",
        "#-- Корабли: Сделать график в colab по таблице classes с количеством классов по странам (X: country, Y: count)\n",
        "request = \"\"\"\n",
        "SELECT country, count(class) as cnt from classes \n",
        "group by country\n",
        "\n",
        "\n",
        "\n",
        "\"\"\"\n",
        "pd.read_sql_query(request, conn)\n",
        "df = pd.read_sql_query(request, conn)\n",
        "fig = px.bar(x=df.country.to_list(), y=df.cnt.to_list(), labels={'x':'country', 'y':'cnt'})\n",
        "fig.show()"
      ],
      "execution_count": null,
      "outputs": [
        {
          "output_type": "display_data",
          "data": {
            "text/html": [
              "<html>\n",
              "<head><meta charset=\"utf-8\" /></head>\n",
              "<body>\n",
              "    <div>\n",
              "            <script src=\"https://cdnjs.cloudflare.com/ajax/libs/mathjax/2.7.5/MathJax.js?config=TeX-AMS-MML_SVG\"></script><script type=\"text/javascript\">if (window.MathJax) {MathJax.Hub.Config({SVG: {font: \"STIX-Web\"}});}</script>\n",
              "                <script type=\"text/javascript\">window.PlotlyConfig = {MathJaxConfig: 'local'};</script>\n",
              "        <script src=\"https://cdn.plot.ly/plotly-latest.min.js\"></script>    \n",
              "            <div id=\"f5e95d2f-414d-4d77-9f1f-8da382d33db8\" class=\"plotly-graph-div\" style=\"height:525px; width:100%;\"></div>\n",
              "            <script type=\"text/javascript\">\n",
              "                \n",
              "                    window.PLOTLYENV=window.PLOTLYENV || {};\n",
              "                    \n",
              "                if (document.getElementById(\"f5e95d2f-414d-4d77-9f1f-8da382d33db8\")) {\n",
              "                    Plotly.newPlot(\n",
              "                        'f5e95d2f-414d-4d77-9f1f-8da382d33db8',\n",
              "                        [{\"alignmentgroup\": \"True\", \"hoverlabel\": {\"namelength\": 0}, \"hovertemplate\": \"country=%{x}<br>cnt=%{y}\", \"legendgroup\": \"\", \"marker\": {\"color\": \"#636efa\"}, \"name\": \"\", \"offsetgroup\": \"\", \"orientation\": \"v\", \"showlegend\": false, \"textposition\": \"auto\", \"type\": \"bar\", \"x\": [\"USA\", \"Germany\", \"Gt.Britain\", \"Japan\"], \"xaxis\": \"x\", \"y\": [3, 1, 2, 2], \"yaxis\": \"y\"}],\n",
              "                        {\"barmode\": \"relative\", \"legend\": {\"tracegroupgap\": 0}, \"margin\": {\"t\": 60}, \"template\": {\"data\": {\"bar\": [{\"error_x\": {\"color\": \"#2a3f5f\"}, \"error_y\": {\"color\": \"#2a3f5f\"}, \"marker\": {\"line\": {\"color\": \"#E5ECF6\", \"width\": 0.5}}, \"type\": \"bar\"}], \"barpolar\": [{\"marker\": {\"line\": {\"color\": \"#E5ECF6\", \"width\": 0.5}}, \"type\": \"barpolar\"}], \"carpet\": [{\"aaxis\": {\"endlinecolor\": \"#2a3f5f\", \"gridcolor\": \"white\", \"linecolor\": \"white\", \"minorgridcolor\": \"white\", \"startlinecolor\": \"#2a3f5f\"}, \"baxis\": {\"endlinecolor\": \"#2a3f5f\", \"gridcolor\": \"white\", \"linecolor\": \"white\", \"minorgridcolor\": \"white\", \"startlinecolor\": \"#2a3f5f\"}, \"type\": \"carpet\"}], \"choropleth\": [{\"colorbar\": {\"outlinewidth\": 0, \"ticks\": \"\"}, \"type\": \"choropleth\"}], \"contour\": [{\"colorbar\": {\"outlinewidth\": 0, \"ticks\": \"\"}, \"colorscale\": [[0.0, \"#0d0887\"], [0.1111111111111111, \"#46039f\"], [0.2222222222222222, \"#7201a8\"], [0.3333333333333333, \"#9c179e\"], [0.4444444444444444, \"#bd3786\"], [0.5555555555555556, \"#d8576b\"], [0.6666666666666666, \"#ed7953\"], [0.7777777777777778, \"#fb9f3a\"], [0.8888888888888888, \"#fdca26\"], [1.0, \"#f0f921\"]], \"type\": \"contour\"}], \"contourcarpet\": [{\"colorbar\": {\"outlinewidth\": 0, \"ticks\": \"\"}, \"type\": \"contourcarpet\"}], \"heatmap\": [{\"colorbar\": {\"outlinewidth\": 0, \"ticks\": \"\"}, \"colorscale\": [[0.0, \"#0d0887\"], [0.1111111111111111, \"#46039f\"], [0.2222222222222222, \"#7201a8\"], [0.3333333333333333, \"#9c179e\"], [0.4444444444444444, \"#bd3786\"], [0.5555555555555556, \"#d8576b\"], [0.6666666666666666, \"#ed7953\"], [0.7777777777777778, \"#fb9f3a\"], [0.8888888888888888, \"#fdca26\"], [1.0, \"#f0f921\"]], \"type\": \"heatmap\"}], \"heatmapgl\": [{\"colorbar\": {\"outlinewidth\": 0, \"ticks\": \"\"}, \"colorscale\": [[0.0, \"#0d0887\"], [0.1111111111111111, \"#46039f\"], [0.2222222222222222, \"#7201a8\"], [0.3333333333333333, \"#9c179e\"], [0.4444444444444444, \"#bd3786\"], [0.5555555555555556, \"#d8576b\"], [0.6666666666666666, \"#ed7953\"], [0.7777777777777778, \"#fb9f3a\"], [0.8888888888888888, \"#fdca26\"], [1.0, \"#f0f921\"]], \"type\": \"heatmapgl\"}], \"histogram\": [{\"marker\": {\"colorbar\": {\"outlinewidth\": 0, \"ticks\": \"\"}}, \"type\": \"histogram\"}], \"histogram2d\": [{\"colorbar\": {\"outlinewidth\": 0, \"ticks\": \"\"}, \"colorscale\": [[0.0, \"#0d0887\"], [0.1111111111111111, \"#46039f\"], [0.2222222222222222, \"#7201a8\"], [0.3333333333333333, \"#9c179e\"], [0.4444444444444444, \"#bd3786\"], [0.5555555555555556, \"#d8576b\"], [0.6666666666666666, \"#ed7953\"], [0.7777777777777778, \"#fb9f3a\"], [0.8888888888888888, \"#fdca26\"], [1.0, \"#f0f921\"]], \"type\": \"histogram2d\"}], \"histogram2dcontour\": [{\"colorbar\": {\"outlinewidth\": 0, \"ticks\": \"\"}, \"colorscale\": [[0.0, \"#0d0887\"], [0.1111111111111111, \"#46039f\"], [0.2222222222222222, \"#7201a8\"], [0.3333333333333333, \"#9c179e\"], [0.4444444444444444, \"#bd3786\"], [0.5555555555555556, \"#d8576b\"], [0.6666666666666666, \"#ed7953\"], [0.7777777777777778, \"#fb9f3a\"], [0.8888888888888888, \"#fdca26\"], [1.0, \"#f0f921\"]], \"type\": \"histogram2dcontour\"}], \"mesh3d\": [{\"colorbar\": {\"outlinewidth\": 0, \"ticks\": \"\"}, \"type\": \"mesh3d\"}], \"parcoords\": [{\"line\": {\"colorbar\": {\"outlinewidth\": 0, \"ticks\": \"\"}}, \"type\": \"parcoords\"}], \"pie\": [{\"automargin\": true, \"type\": \"pie\"}], \"scatter\": [{\"marker\": {\"colorbar\": {\"outlinewidth\": 0, \"ticks\": \"\"}}, \"type\": \"scatter\"}], \"scatter3d\": [{\"line\": {\"colorbar\": {\"outlinewidth\": 0, \"ticks\": \"\"}}, \"marker\": {\"colorbar\": {\"outlinewidth\": 0, \"ticks\": \"\"}}, \"type\": \"scatter3d\"}], \"scattercarpet\": [{\"marker\": {\"colorbar\": {\"outlinewidth\": 0, \"ticks\": \"\"}}, \"type\": \"scattercarpet\"}], \"scattergeo\": [{\"marker\": {\"colorbar\": {\"outlinewidth\": 0, \"ticks\": \"\"}}, \"type\": \"scattergeo\"}], \"scattergl\": [{\"marker\": {\"colorbar\": {\"outlinewidth\": 0, \"ticks\": \"\"}}, \"type\": \"scattergl\"}], \"scattermapbox\": [{\"marker\": {\"colorbar\": {\"outlinewidth\": 0, \"ticks\": \"\"}}, \"type\": \"scattermapbox\"}], \"scatterpolar\": [{\"marker\": {\"colorbar\": {\"outlinewidth\": 0, \"ticks\": \"\"}}, \"type\": \"scatterpolar\"}], \"scatterpolargl\": [{\"marker\": {\"colorbar\": {\"outlinewidth\": 0, \"ticks\": \"\"}}, \"type\": \"scatterpolargl\"}], \"scatterternary\": [{\"marker\": {\"colorbar\": {\"outlinewidth\": 0, \"ticks\": \"\"}}, \"type\": \"scatterternary\"}], \"surface\": [{\"colorbar\": {\"outlinewidth\": 0, \"ticks\": \"\"}, \"colorscale\": [[0.0, \"#0d0887\"], [0.1111111111111111, \"#46039f\"], [0.2222222222222222, \"#7201a8\"], [0.3333333333333333, \"#9c179e\"], [0.4444444444444444, \"#bd3786\"], [0.5555555555555556, \"#d8576b\"], [0.6666666666666666, \"#ed7953\"], [0.7777777777777778, \"#fb9f3a\"], [0.8888888888888888, \"#fdca26\"], [1.0, \"#f0f921\"]], \"type\": \"surface\"}], \"table\": [{\"cells\": {\"fill\": {\"color\": \"#EBF0F8\"}, \"line\": {\"color\": \"white\"}}, \"header\": {\"fill\": {\"color\": \"#C8D4E3\"}, \"line\": {\"color\": \"white\"}}, \"type\": \"table\"}]}, \"layout\": {\"annotationdefaults\": {\"arrowcolor\": \"#2a3f5f\", \"arrowhead\": 0, \"arrowwidth\": 1}, \"coloraxis\": {\"colorbar\": {\"outlinewidth\": 0, \"ticks\": \"\"}}, \"colorscale\": {\"diverging\": [[0, \"#8e0152\"], [0.1, \"#c51b7d\"], [0.2, \"#de77ae\"], [0.3, \"#f1b6da\"], [0.4, \"#fde0ef\"], [0.5, \"#f7f7f7\"], [0.6, \"#e6f5d0\"], [0.7, \"#b8e186\"], [0.8, \"#7fbc41\"], [0.9, \"#4d9221\"], [1, \"#276419\"]], \"sequential\": [[0.0, \"#0d0887\"], [0.1111111111111111, \"#46039f\"], [0.2222222222222222, \"#7201a8\"], [0.3333333333333333, \"#9c179e\"], [0.4444444444444444, \"#bd3786\"], [0.5555555555555556, \"#d8576b\"], [0.6666666666666666, \"#ed7953\"], [0.7777777777777778, \"#fb9f3a\"], [0.8888888888888888, \"#fdca26\"], [1.0, \"#f0f921\"]], \"sequentialminus\": [[0.0, \"#0d0887\"], [0.1111111111111111, \"#46039f\"], [0.2222222222222222, \"#7201a8\"], [0.3333333333333333, \"#9c179e\"], [0.4444444444444444, \"#bd3786\"], [0.5555555555555556, \"#d8576b\"], [0.6666666666666666, \"#ed7953\"], [0.7777777777777778, \"#fb9f3a\"], [0.8888888888888888, \"#fdca26\"], [1.0, \"#f0f921\"]]}, \"colorway\": [\"#636efa\", \"#EF553B\", \"#00cc96\", \"#ab63fa\", \"#FFA15A\", \"#19d3f3\", \"#FF6692\", \"#B6E880\", \"#FF97FF\", \"#FECB52\"], \"font\": {\"color\": \"#2a3f5f\"}, \"geo\": {\"bgcolor\": \"white\", \"lakecolor\": \"white\", \"landcolor\": \"#E5ECF6\", \"showlakes\": true, \"showland\": true, \"subunitcolor\": \"white\"}, \"hoverlabel\": {\"align\": \"left\"}, \"hovermode\": \"closest\", \"mapbox\": {\"style\": \"light\"}, \"paper_bgcolor\": \"white\", \"plot_bgcolor\": \"#E5ECF6\", \"polar\": {\"angularaxis\": {\"gridcolor\": \"white\", \"linecolor\": \"white\", \"ticks\": \"\"}, \"bgcolor\": \"#E5ECF6\", \"radialaxis\": {\"gridcolor\": \"white\", \"linecolor\": \"white\", \"ticks\": \"\"}}, \"scene\": {\"xaxis\": {\"backgroundcolor\": \"#E5ECF6\", \"gridcolor\": \"white\", \"gridwidth\": 2, \"linecolor\": \"white\", \"showbackground\": true, \"ticks\": \"\", \"zerolinecolor\": \"white\"}, \"yaxis\": {\"backgroundcolor\": \"#E5ECF6\", \"gridcolor\": \"white\", \"gridwidth\": 2, \"linecolor\": \"white\", \"showbackground\": true, \"ticks\": \"\", \"zerolinecolor\": \"white\"}, \"zaxis\": {\"backgroundcolor\": \"#E5ECF6\", \"gridcolor\": \"white\", \"gridwidth\": 2, \"linecolor\": \"white\", \"showbackground\": true, \"ticks\": \"\", \"zerolinecolor\": \"white\"}}, \"shapedefaults\": {\"line\": {\"color\": \"#2a3f5f\"}}, \"ternary\": {\"aaxis\": {\"gridcolor\": \"white\", \"linecolor\": \"white\", \"ticks\": \"\"}, \"baxis\": {\"gridcolor\": \"white\", \"linecolor\": \"white\", \"ticks\": \"\"}, \"bgcolor\": \"#E5ECF6\", \"caxis\": {\"gridcolor\": \"white\", \"linecolor\": \"white\", \"ticks\": \"\"}}, \"title\": {\"x\": 0.05}, \"xaxis\": {\"automargin\": true, \"gridcolor\": \"white\", \"linecolor\": \"white\", \"ticks\": \"\", \"title\": {\"standoff\": 15}, \"zerolinecolor\": \"white\", \"zerolinewidth\": 2}, \"yaxis\": {\"automargin\": true, \"gridcolor\": \"white\", \"linecolor\": \"white\", \"ticks\": \"\", \"title\": {\"standoff\": 15}, \"zerolinecolor\": \"white\", \"zerolinewidth\": 2}}}, \"xaxis\": {\"anchor\": \"y\", \"domain\": [0.0, 1.0], \"title\": {\"text\": \"country\"}}, \"yaxis\": {\"anchor\": \"x\", \"domain\": [0.0, 1.0], \"title\": {\"text\": \"cnt\"}}},\n",
              "                        {\"responsive\": true}\n",
              "                    ).then(function(){\n",
              "                            \n",
              "var gd = document.getElementById('f5e95d2f-414d-4d77-9f1f-8da382d33db8');\n",
              "var x = new MutationObserver(function (mutations, observer) {{\n",
              "        var display = window.getComputedStyle(gd).display;\n",
              "        if (!display || display === 'none') {{\n",
              "            console.log([gd, 'removed!']);\n",
              "            Plotly.purge(gd);\n",
              "            observer.disconnect();\n",
              "        }}\n",
              "}});\n",
              "\n",
              "// Listen for the removal of the full notebook cells\n",
              "var notebookContainer = gd.closest('#notebook-container');\n",
              "if (notebookContainer) {{\n",
              "    x.observe(notebookContainer, {childList: true});\n",
              "}}\n",
              "\n",
              "// Listen for the clearing of the current output cell\n",
              "var outputEl = gd.closest('.output');\n",
              "if (outputEl) {{\n",
              "    x.observe(outputEl, {childList: true});\n",
              "}}\n",
              "\n",
              "                        })\n",
              "                };\n",
              "                \n",
              "            </script>\n",
              "        </div>\n",
              "</body>\n",
              "</html>"
            ]
          },
          "metadata": {
            "tags": []
          }
        }
      ]
    },
    {
      "cell_type": "code",
      "metadata": {
        "colab": {
          "base_uri": "https://localhost:8080/",
          "height": 111
        },
        "id": "UTEMG6RnMqJV",
        "outputId": "8a779e22-e123-4291-eccc-82adbf0ddad7"
      },
      "source": [
        "#--task14 (lesson4)\n",
        "#-- Корабли: Вернуть количество кораблей, у которых название начинается с буквы \"O\" или \"M\".\n",
        "\n",
        "request = \"\"\"\n",
        "SELECT * from ships \n",
        "WHERE name LIKE 'M%' or name LIKE 'O%'\n",
        "\n",
        "\n",
        "\"\"\"\n",
        "pd.read_sql_query(request, conn)\n",
        " \n",
        "\n"
      ],
      "execution_count": null,
      "outputs": [
        {
          "output_type": "execute_result",
          "data": {
            "text/html": [
              "<div>\n",
              "<style scoped>\n",
              "    .dataframe tbody tr th:only-of-type {\n",
              "        vertical-align: middle;\n",
              "    }\n",
              "\n",
              "    .dataframe tbody tr th {\n",
              "        vertical-align: top;\n",
              "    }\n",
              "\n",
              "    .dataframe thead th {\n",
              "        text-align: right;\n",
              "    }\n",
              "</style>\n",
              "<table border=\"1\" class=\"dataframe\">\n",
              "  <thead>\n",
              "    <tr style=\"text-align: right;\">\n",
              "      <th></th>\n",
              "      <th>name</th>\n",
              "      <th>class</th>\n",
              "      <th>launched</th>\n",
              "    </tr>\n",
              "  </thead>\n",
              "  <tbody>\n",
              "    <tr>\n",
              "      <th>0</th>\n",
              "      <td>Missouri</td>\n",
              "      <td>Iowa</td>\n",
              "      <td>1944</td>\n",
              "    </tr>\n",
              "    <tr>\n",
              "      <th>1</th>\n",
              "      <td>Musashi</td>\n",
              "      <td>Yamato</td>\n",
              "      <td>1942</td>\n",
              "    </tr>\n",
              "  </tbody>\n",
              "</table>\n",
              "</div>"
            ],
            "text/plain": [
              "       name   class  launched\n",
              "0  Missouri    Iowa      1944\n",
              "1   Musashi  Yamato      1942"
            ]
          },
          "metadata": {
            "tags": []
          },
          "execution_count": 24
        }
      ]
    },
    {
      "cell_type": "code",
      "metadata": {
        "colab": {
          "base_uri": "https://localhost:8080/",
          "height": 204
        },
        "id": "PD5fPrOiQZeR",
        "outputId": "fc758387-4de4-40b4-ff76-7bdfb05e7b5d"
      },
      "source": [
        "#--task15 (lesson4)\n",
        "#-- Корабли: Вернуть количество кораблей, у которых название состоит из двух слов.\n",
        "\n",
        "request = \"\"\"\n",
        "SELECT * from ships \n",
        "WHERE name LIKE '% %'\n",
        "\n",
        "\"\"\"\n",
        "pd.read_sql_query(request, conn)\n"
      ],
      "execution_count": null,
      "outputs": [
        {
          "output_type": "execute_result",
          "data": {
            "text/html": [
              "<div>\n",
              "<style scoped>\n",
              "    .dataframe tbody tr th:only-of-type {\n",
              "        vertical-align: middle;\n",
              "    }\n",
              "\n",
              "    .dataframe tbody tr th {\n",
              "        vertical-align: top;\n",
              "    }\n",
              "\n",
              "    .dataframe thead th {\n",
              "        text-align: right;\n",
              "    }\n",
              "</style>\n",
              "<table border=\"1\" class=\"dataframe\">\n",
              "  <thead>\n",
              "    <tr style=\"text-align: right;\">\n",
              "      <th></th>\n",
              "      <th>name</th>\n",
              "      <th>class</th>\n",
              "      <th>launched</th>\n",
              "    </tr>\n",
              "  </thead>\n",
              "  <tbody>\n",
              "    <tr>\n",
              "      <th>0</th>\n",
              "      <td>New Jersey</td>\n",
              "      <td>Iowa</td>\n",
              "      <td>1943</td>\n",
              "    </tr>\n",
              "    <tr>\n",
              "      <th>1</th>\n",
              "      <td>North Carolina</td>\n",
              "      <td>North Carolina</td>\n",
              "      <td>1941</td>\n",
              "    </tr>\n",
              "    <tr>\n",
              "      <th>2</th>\n",
              "      <td>Royal Oak</td>\n",
              "      <td>Revenge</td>\n",
              "      <td>1916</td>\n",
              "    </tr>\n",
              "    <tr>\n",
              "      <th>3</th>\n",
              "      <td>Royal Sovereign</td>\n",
              "      <td>Revenge</td>\n",
              "      <td>1916</td>\n",
              "    </tr>\n",
              "    <tr>\n",
              "      <th>4</th>\n",
              "      <td>South Dakota</td>\n",
              "      <td>North Carolina</td>\n",
              "      <td>1941</td>\n",
              "    </tr>\n",
              "  </tbody>\n",
              "</table>\n",
              "</div>"
            ],
            "text/plain": [
              "              name           class  launched\n",
              "0       New Jersey            Iowa      1943\n",
              "1   North Carolina  North Carolina      1941\n",
              "2        Royal Oak         Revenge      1916\n",
              "3  Royal Sovereign         Revenge      1916\n",
              "4     South Dakota  North Carolina      1941"
            ]
          },
          "metadata": {
            "tags": []
          },
          "execution_count": 25
        }
      ]
    },
    {
      "cell_type": "code",
      "metadata": {
        "id": "YutQ2ydOQZiG",
        "colab": {
          "base_uri": "https://localhost:8080/",
          "height": 542
        },
        "outputId": "b598455f-e9aa-41cf-c0f1-e54ff91f3cb2"
      },
      "source": [
        "#--task16 (lesson4)\n",
        "#-- Корабли: Построить график с количеством запущенных на воду кораблей и годом запуска (X: year, Y: count)\n",
        "request = \"\"\"\n",
        "SELECT launched as year, count (name) as cnt from ships\n",
        "group by launched\n",
        "\"\"\"\n",
        "pd.read_sql_query(request, conn)\n",
        "df = pd.read_sql_query(request, conn)\n",
        "fig = px.bar(x=df.year.to_list(), y=df.cnt.to_list(), labels={'x':'year', 'y':'cnt'})\n",
        "fig.show()"
      ],
      "execution_count": null,
      "outputs": [
        {
          "output_type": "display_data",
          "data": {
            "text/html": [
              "<html>\n",
              "<head><meta charset=\"utf-8\" /></head>\n",
              "<body>\n",
              "    <div>\n",
              "            <script src=\"https://cdnjs.cloudflare.com/ajax/libs/mathjax/2.7.5/MathJax.js?config=TeX-AMS-MML_SVG\"></script><script type=\"text/javascript\">if (window.MathJax) {MathJax.Hub.Config({SVG: {font: \"STIX-Web\"}});}</script>\n",
              "                <script type=\"text/javascript\">window.PlotlyConfig = {MathJaxConfig: 'local'};</script>\n",
              "        <script src=\"https://cdn.plot.ly/plotly-latest.min.js\"></script>    \n",
              "            <div id=\"3a251376-0db5-437e-8793-03c4bfa9cdf9\" class=\"plotly-graph-div\" style=\"height:525px; width:100%;\"></div>\n",
              "            <script type=\"text/javascript\">\n",
              "                \n",
              "                    window.PLOTLYENV=window.PLOTLYENV || {};\n",
              "                    \n",
              "                if (document.getElementById(\"3a251376-0db5-437e-8793-03c4bfa9cdf9\")) {\n",
              "                    Plotly.newPlot(\n",
              "                        '3a251376-0db5-437e-8793-03c4bfa9cdf9',\n",
              "                        [{\"alignmentgroup\": \"True\", \"hoverlabel\": {\"namelength\": 0}, \"hovertemplate\": \"year=%{x}<br>cnt=%{y}\", \"legendgroup\": \"\", \"marker\": {\"color\": \"#636efa\"}, \"name\": \"\", \"offsetgroup\": \"\", \"orientation\": \"v\", \"showlegend\": false, \"textposition\": \"auto\", \"type\": \"bar\", \"x\": [1941, 1915, 1916, 1944, 1943, 1913, 1914, 1921, 1942, 1920, 1917], \"xaxis\": \"x\", \"y\": [4, 1, 7, 2, 2, 1, 1, 1, 1, 1, 1], \"yaxis\": \"y\"}],\n",
              "                        {\"barmode\": \"relative\", \"legend\": {\"tracegroupgap\": 0}, \"margin\": {\"t\": 60}, \"template\": {\"data\": {\"bar\": [{\"error_x\": {\"color\": \"#2a3f5f\"}, \"error_y\": {\"color\": \"#2a3f5f\"}, \"marker\": {\"line\": {\"color\": \"#E5ECF6\", \"width\": 0.5}}, \"type\": \"bar\"}], \"barpolar\": [{\"marker\": {\"line\": {\"color\": \"#E5ECF6\", \"width\": 0.5}}, \"type\": \"barpolar\"}], \"carpet\": [{\"aaxis\": {\"endlinecolor\": \"#2a3f5f\", \"gridcolor\": \"white\", \"linecolor\": \"white\", \"minorgridcolor\": \"white\", \"startlinecolor\": \"#2a3f5f\"}, \"baxis\": {\"endlinecolor\": \"#2a3f5f\", \"gridcolor\": \"white\", \"linecolor\": \"white\", \"minorgridcolor\": \"white\", \"startlinecolor\": \"#2a3f5f\"}, \"type\": \"carpet\"}], \"choropleth\": [{\"colorbar\": {\"outlinewidth\": 0, \"ticks\": \"\"}, \"type\": \"choropleth\"}], \"contour\": [{\"colorbar\": {\"outlinewidth\": 0, \"ticks\": \"\"}, \"colorscale\": [[0.0, \"#0d0887\"], [0.1111111111111111, \"#46039f\"], [0.2222222222222222, \"#7201a8\"], [0.3333333333333333, \"#9c179e\"], [0.4444444444444444, \"#bd3786\"], [0.5555555555555556, \"#d8576b\"], [0.6666666666666666, \"#ed7953\"], [0.7777777777777778, \"#fb9f3a\"], [0.8888888888888888, \"#fdca26\"], [1.0, \"#f0f921\"]], \"type\": \"contour\"}], \"contourcarpet\": [{\"colorbar\": {\"outlinewidth\": 0, \"ticks\": \"\"}, \"type\": \"contourcarpet\"}], \"heatmap\": [{\"colorbar\": {\"outlinewidth\": 0, \"ticks\": \"\"}, \"colorscale\": [[0.0, \"#0d0887\"], [0.1111111111111111, \"#46039f\"], [0.2222222222222222, \"#7201a8\"], [0.3333333333333333, \"#9c179e\"], [0.4444444444444444, \"#bd3786\"], [0.5555555555555556, \"#d8576b\"], [0.6666666666666666, \"#ed7953\"], [0.7777777777777778, \"#fb9f3a\"], [0.8888888888888888, \"#fdca26\"], [1.0, \"#f0f921\"]], \"type\": \"heatmap\"}], \"heatmapgl\": [{\"colorbar\": {\"outlinewidth\": 0, \"ticks\": \"\"}, \"colorscale\": [[0.0, \"#0d0887\"], [0.1111111111111111, \"#46039f\"], [0.2222222222222222, \"#7201a8\"], [0.3333333333333333, \"#9c179e\"], [0.4444444444444444, \"#bd3786\"], [0.5555555555555556, \"#d8576b\"], [0.6666666666666666, \"#ed7953\"], [0.7777777777777778, \"#fb9f3a\"], [0.8888888888888888, \"#fdca26\"], [1.0, \"#f0f921\"]], \"type\": \"heatmapgl\"}], \"histogram\": [{\"marker\": {\"colorbar\": {\"outlinewidth\": 0, \"ticks\": \"\"}}, \"type\": \"histogram\"}], \"histogram2d\": [{\"colorbar\": {\"outlinewidth\": 0, \"ticks\": \"\"}, \"colorscale\": [[0.0, \"#0d0887\"], [0.1111111111111111, \"#46039f\"], [0.2222222222222222, \"#7201a8\"], [0.3333333333333333, \"#9c179e\"], [0.4444444444444444, \"#bd3786\"], [0.5555555555555556, \"#d8576b\"], [0.6666666666666666, \"#ed7953\"], [0.7777777777777778, \"#fb9f3a\"], [0.8888888888888888, \"#fdca26\"], [1.0, \"#f0f921\"]], \"type\": \"histogram2d\"}], \"histogram2dcontour\": [{\"colorbar\": {\"outlinewidth\": 0, \"ticks\": \"\"}, \"colorscale\": [[0.0, \"#0d0887\"], [0.1111111111111111, \"#46039f\"], [0.2222222222222222, \"#7201a8\"], [0.3333333333333333, \"#9c179e\"], [0.4444444444444444, \"#bd3786\"], [0.5555555555555556, \"#d8576b\"], [0.6666666666666666, \"#ed7953\"], [0.7777777777777778, \"#fb9f3a\"], [0.8888888888888888, \"#fdca26\"], [1.0, \"#f0f921\"]], \"type\": \"histogram2dcontour\"}], \"mesh3d\": [{\"colorbar\": {\"outlinewidth\": 0, \"ticks\": \"\"}, \"type\": \"mesh3d\"}], \"parcoords\": [{\"line\": {\"colorbar\": {\"outlinewidth\": 0, \"ticks\": \"\"}}, \"type\": \"parcoords\"}], \"pie\": [{\"automargin\": true, \"type\": \"pie\"}], \"scatter\": [{\"marker\": {\"colorbar\": {\"outlinewidth\": 0, \"ticks\": \"\"}}, \"type\": \"scatter\"}], \"scatter3d\": [{\"line\": {\"colorbar\": {\"outlinewidth\": 0, \"ticks\": \"\"}}, \"marker\": {\"colorbar\": {\"outlinewidth\": 0, \"ticks\": \"\"}}, \"type\": \"scatter3d\"}], \"scattercarpet\": [{\"marker\": {\"colorbar\": {\"outlinewidth\": 0, \"ticks\": \"\"}}, \"type\": \"scattercarpet\"}], \"scattergeo\": [{\"marker\": {\"colorbar\": {\"outlinewidth\": 0, \"ticks\": \"\"}}, \"type\": \"scattergeo\"}], \"scattergl\": [{\"marker\": {\"colorbar\": {\"outlinewidth\": 0, \"ticks\": \"\"}}, \"type\": \"scattergl\"}], \"scattermapbox\": [{\"marker\": {\"colorbar\": {\"outlinewidth\": 0, \"ticks\": \"\"}}, \"type\": \"scattermapbox\"}], \"scatterpolar\": [{\"marker\": {\"colorbar\": {\"outlinewidth\": 0, \"ticks\": \"\"}}, \"type\": \"scatterpolar\"}], \"scatterpolargl\": [{\"marker\": {\"colorbar\": {\"outlinewidth\": 0, \"ticks\": \"\"}}, \"type\": \"scatterpolargl\"}], \"scatterternary\": [{\"marker\": {\"colorbar\": {\"outlinewidth\": 0, \"ticks\": \"\"}}, \"type\": \"scatterternary\"}], \"surface\": [{\"colorbar\": {\"outlinewidth\": 0, \"ticks\": \"\"}, \"colorscale\": [[0.0, \"#0d0887\"], [0.1111111111111111, \"#46039f\"], [0.2222222222222222, \"#7201a8\"], [0.3333333333333333, \"#9c179e\"], [0.4444444444444444, \"#bd3786\"], [0.5555555555555556, \"#d8576b\"], [0.6666666666666666, \"#ed7953\"], [0.7777777777777778, \"#fb9f3a\"], [0.8888888888888888, \"#fdca26\"], [1.0, \"#f0f921\"]], \"type\": \"surface\"}], \"table\": [{\"cells\": {\"fill\": {\"color\": \"#EBF0F8\"}, \"line\": {\"color\": \"white\"}}, \"header\": {\"fill\": {\"color\": \"#C8D4E3\"}, \"line\": {\"color\": \"white\"}}, \"type\": \"table\"}]}, \"layout\": {\"annotationdefaults\": {\"arrowcolor\": \"#2a3f5f\", \"arrowhead\": 0, \"arrowwidth\": 1}, \"coloraxis\": {\"colorbar\": {\"outlinewidth\": 0, \"ticks\": \"\"}}, \"colorscale\": {\"diverging\": [[0, \"#8e0152\"], [0.1, \"#c51b7d\"], [0.2, \"#de77ae\"], [0.3, \"#f1b6da\"], [0.4, \"#fde0ef\"], [0.5, \"#f7f7f7\"], [0.6, \"#e6f5d0\"], [0.7, \"#b8e186\"], [0.8, \"#7fbc41\"], [0.9, \"#4d9221\"], [1, \"#276419\"]], \"sequential\": [[0.0, \"#0d0887\"], [0.1111111111111111, \"#46039f\"], [0.2222222222222222, \"#7201a8\"], [0.3333333333333333, \"#9c179e\"], [0.4444444444444444, \"#bd3786\"], [0.5555555555555556, \"#d8576b\"], [0.6666666666666666, \"#ed7953\"], [0.7777777777777778, \"#fb9f3a\"], [0.8888888888888888, \"#fdca26\"], [1.0, \"#f0f921\"]], \"sequentialminus\": [[0.0, \"#0d0887\"], [0.1111111111111111, \"#46039f\"], [0.2222222222222222, \"#7201a8\"], [0.3333333333333333, \"#9c179e\"], [0.4444444444444444, \"#bd3786\"], [0.5555555555555556, \"#d8576b\"], [0.6666666666666666, \"#ed7953\"], [0.7777777777777778, \"#fb9f3a\"], [0.8888888888888888, \"#fdca26\"], [1.0, \"#f0f921\"]]}, \"colorway\": [\"#636efa\", \"#EF553B\", \"#00cc96\", \"#ab63fa\", \"#FFA15A\", \"#19d3f3\", \"#FF6692\", \"#B6E880\", \"#FF97FF\", \"#FECB52\"], \"font\": {\"color\": \"#2a3f5f\"}, \"geo\": {\"bgcolor\": \"white\", \"lakecolor\": \"white\", \"landcolor\": \"#E5ECF6\", \"showlakes\": true, \"showland\": true, \"subunitcolor\": \"white\"}, \"hoverlabel\": {\"align\": \"left\"}, \"hovermode\": \"closest\", \"mapbox\": {\"style\": \"light\"}, \"paper_bgcolor\": \"white\", \"plot_bgcolor\": \"#E5ECF6\", \"polar\": {\"angularaxis\": {\"gridcolor\": \"white\", \"linecolor\": \"white\", \"ticks\": \"\"}, \"bgcolor\": \"#E5ECF6\", \"radialaxis\": {\"gridcolor\": \"white\", \"linecolor\": \"white\", \"ticks\": \"\"}}, \"scene\": {\"xaxis\": {\"backgroundcolor\": \"#E5ECF6\", \"gridcolor\": \"white\", \"gridwidth\": 2, \"linecolor\": \"white\", \"showbackground\": true, \"ticks\": \"\", \"zerolinecolor\": \"white\"}, \"yaxis\": {\"backgroundcolor\": \"#E5ECF6\", \"gridcolor\": \"white\", \"gridwidth\": 2, \"linecolor\": \"white\", \"showbackground\": true, \"ticks\": \"\", \"zerolinecolor\": \"white\"}, \"zaxis\": {\"backgroundcolor\": \"#E5ECF6\", \"gridcolor\": \"white\", \"gridwidth\": 2, \"linecolor\": \"white\", \"showbackground\": true, \"ticks\": \"\", \"zerolinecolor\": \"white\"}}, \"shapedefaults\": {\"line\": {\"color\": \"#2a3f5f\"}}, \"ternary\": {\"aaxis\": {\"gridcolor\": \"white\", \"linecolor\": \"white\", \"ticks\": \"\"}, \"baxis\": {\"gridcolor\": \"white\", \"linecolor\": \"white\", \"ticks\": \"\"}, \"bgcolor\": \"#E5ECF6\", \"caxis\": {\"gridcolor\": \"white\", \"linecolor\": \"white\", \"ticks\": \"\"}}, \"title\": {\"x\": 0.05}, \"xaxis\": {\"automargin\": true, \"gridcolor\": \"white\", \"linecolor\": \"white\", \"ticks\": \"\", \"title\": {\"standoff\": 15}, \"zerolinecolor\": \"white\", \"zerolinewidth\": 2}, \"yaxis\": {\"automargin\": true, \"gridcolor\": \"white\", \"linecolor\": \"white\", \"ticks\": \"\", \"title\": {\"standoff\": 15}, \"zerolinecolor\": \"white\", \"zerolinewidth\": 2}}}, \"xaxis\": {\"anchor\": \"y\", \"domain\": [0.0, 1.0], \"title\": {\"text\": \"year\"}}, \"yaxis\": {\"anchor\": \"x\", \"domain\": [0.0, 1.0], \"title\": {\"text\": \"cnt\"}}},\n",
              "                        {\"responsive\": true}\n",
              "                    ).then(function(){\n",
              "                            \n",
              "var gd = document.getElementById('3a251376-0db5-437e-8793-03c4bfa9cdf9');\n",
              "var x = new MutationObserver(function (mutations, observer) {{\n",
              "        var display = window.getComputedStyle(gd).display;\n",
              "        if (!display || display === 'none') {{\n",
              "            console.log([gd, 'removed!']);\n",
              "            Plotly.purge(gd);\n",
              "            observer.disconnect();\n",
              "        }}\n",
              "}});\n",
              "\n",
              "// Listen for the removal of the full notebook cells\n",
              "var notebookContainer = gd.closest('#notebook-container');\n",
              "if (notebookContainer) {{\n",
              "    x.observe(notebookContainer, {childList: true});\n",
              "}}\n",
              "\n",
              "// Listen for the clearing of the current output cell\n",
              "var outputEl = gd.closest('.output');\n",
              "if (outputEl) {{\n",
              "    x.observe(outputEl, {childList: true});\n",
              "}}\n",
              "\n",
              "                        })\n",
              "                };\n",
              "                \n",
              "            </script>\n",
              "        </div>\n",
              "</body>\n",
              "</html>"
            ]
          },
          "metadata": {
            "tags": []
          }
        }
      ]
    },
    {
      "cell_type": "code",
      "metadata": {
        "id": "Mj299sC_QZtG"
      },
      "source": [
        ""
      ],
      "execution_count": null,
      "outputs": []
    },
    {
      "cell_type": "code",
      "metadata": {
        "id": "z7jCg2dbQZv2"
      },
      "source": [
        ""
      ],
      "execution_count": null,
      "outputs": []
    },
    {
      "cell_type": "code",
      "metadata": {
        "id": "2HRCLfwxQZyq"
      },
      "source": [
        ""
      ],
      "execution_count": null,
      "outputs": []
    },
    {
      "cell_type": "code",
      "metadata": {
        "id": "6R9D0OlDMqO_"
      },
      "source": [
        ""
      ],
      "execution_count": null,
      "outputs": []
    },
    {
      "cell_type": "code",
      "metadata": {
        "id": "AEpZI-uzazqq"
      },
      "source": [
        "# LESSON4_HOMEWORK"
      ],
      "execution_count": null,
      "outputs": []
    },
    {
      "cell_type": "code",
      "metadata": {
        "id": "v4wdV9Rga0Fb"
      },
      "source": [
        "pd.read_sql_query(request, conn)\n"
      ],
      "execution_count": null,
      "outputs": []
    },
    {
      "cell_type": "code",
      "metadata": {
        "id": "BOmhBodCa0Nl"
      },
      "source": [
        ""
      ],
      "execution_count": null,
      "outputs": []
    },
    {
      "cell_type": "code",
      "metadata": {
        "id": "K7xA410XdpLQ"
      },
      "source": [
        "# LESSON3_HOMEWORK"
      ],
      "execution_count": null,
      "outputs": []
    },
    {
      "cell_type": "code",
      "metadata": {
        "colab": {
          "base_uri": "https://localhost:8080/",
          "height": 142
        },
        "id": "7uvoPQlWdpYe",
        "outputId": "abd7c139-295c-4911-c734-055497c4dcf1"
      },
      "source": [
        "# --task1\n",
        "# --Корабли: Для каждого класса определите число кораблей этого класса, потопленных в сражениях. \n",
        "#Вывести: класс и число потопленных кораблей.\n",
        "request = \"\"\"\n",
        "SELECT count(ship), result  from outcomes group by result\n",
        "\"\"\"\n",
        "pd.read_sql_query(request, conn)\n"
      ],
      "execution_count": null,
      "outputs": [
        {
          "output_type": "execute_result",
          "data": {
            "text/html": [
              "<div>\n",
              "<style scoped>\n",
              "    .dataframe tbody tr th:only-of-type {\n",
              "        vertical-align: middle;\n",
              "    }\n",
              "\n",
              "    .dataframe tbody tr th {\n",
              "        vertical-align: top;\n",
              "    }\n",
              "\n",
              "    .dataframe thead th {\n",
              "        text-align: right;\n",
              "    }\n",
              "</style>\n",
              "<table border=\"1\" class=\"dataframe\">\n",
              "  <thead>\n",
              "    <tr style=\"text-align: right;\">\n",
              "      <th></th>\n",
              "      <th>count</th>\n",
              "      <th>result</th>\n",
              "    </tr>\n",
              "  </thead>\n",
              "  <tbody>\n",
              "    <tr>\n",
              "      <th>0</th>\n",
              "      <td>6</td>\n",
              "      <td>sunk</td>\n",
              "    </tr>\n",
              "    <tr>\n",
              "      <th>1</th>\n",
              "      <td>7</td>\n",
              "      <td>OK</td>\n",
              "    </tr>\n",
              "    <tr>\n",
              "      <th>2</th>\n",
              "      <td>3</td>\n",
              "      <td>damaged</td>\n",
              "    </tr>\n",
              "  </tbody>\n",
              "</table>\n",
              "</div>"
            ],
            "text/plain": [
              "   count   result\n",
              "0      6     sunk\n",
              "1      7       OK\n",
              "2      3  damaged"
            ]
          },
          "metadata": {
            "tags": []
          },
          "execution_count": 3
        }
      ]
    },
    {
      "cell_type": "code",
      "metadata": {
        "id": "3Qdy79tSdphg"
      },
      "source": [
        ""
      ],
      "execution_count": null,
      "outputs": []
    },
    {
      "cell_type": "code",
      "metadata": {
        "colab": {
          "base_uri": "https://localhost:8080/",
          "height": 266
        },
        "id": "ElwAaHLTdprS",
        "outputId": "3435e7df-be27-462d-dd23-cec46b2c7875"
      },
      "source": [
        "# --task2\n",
        "# --Корабли: Для каждого класса определите год, когда был спущен на воду первый корабль этого класса. \n",
        "#Если год спуска на воду головного корабля неизвестен, определите минимальный год спуска на воду кораблей этого класса. \n",
        "#Вывести: класс, год.\n",
        "request = \"\"\"\n",
        "SELECT min(launched) as min_year, class FROM ships  group by class \n",
        "\n",
        "\"\"\"\n",
        "pd.read_sql_query(request, conn)"
      ],
      "execution_count": null,
      "outputs": [
        {
          "output_type": "execute_result",
          "data": {
            "text/html": [
              "<div>\n",
              "<style scoped>\n",
              "    .dataframe tbody tr th:only-of-type {\n",
              "        vertical-align: middle;\n",
              "    }\n",
              "\n",
              "    .dataframe tbody tr th {\n",
              "        vertical-align: top;\n",
              "    }\n",
              "\n",
              "    .dataframe thead th {\n",
              "        text-align: right;\n",
              "    }\n",
              "</style>\n",
              "<table border=\"1\" class=\"dataframe\">\n",
              "  <thead>\n",
              "    <tr style=\"text-align: right;\">\n",
              "      <th></th>\n",
              "      <th>min_year</th>\n",
              "      <th>class</th>\n",
              "    </tr>\n",
              "  </thead>\n",
              "  <tbody>\n",
              "    <tr>\n",
              "      <th>0</th>\n",
              "      <td>1920</td>\n",
              "      <td>Tennessee</td>\n",
              "    </tr>\n",
              "    <tr>\n",
              "      <th>1</th>\n",
              "      <td>1916</td>\n",
              "      <td>Revenge</td>\n",
              "    </tr>\n",
              "    <tr>\n",
              "      <th>2</th>\n",
              "      <td>1941</td>\n",
              "      <td>Yamato</td>\n",
              "    </tr>\n",
              "    <tr>\n",
              "      <th>3</th>\n",
              "      <td>1913</td>\n",
              "      <td>Kongo</td>\n",
              "    </tr>\n",
              "    <tr>\n",
              "      <th>4</th>\n",
              "      <td>1916</td>\n",
              "      <td>Renown</td>\n",
              "    </tr>\n",
              "    <tr>\n",
              "      <th>5</th>\n",
              "      <td>1941</td>\n",
              "      <td>North Carolina</td>\n",
              "    </tr>\n",
              "    <tr>\n",
              "      <th>6</th>\n",
              "      <td>1943</td>\n",
              "      <td>Iowa</td>\n",
              "    </tr>\n",
              "  </tbody>\n",
              "</table>\n",
              "</div>"
            ],
            "text/plain": [
              "   min_year           class\n",
              "0      1920       Tennessee\n",
              "1      1916         Revenge\n",
              "2      1941          Yamato\n",
              "3      1913           Kongo\n",
              "4      1916          Renown\n",
              "5      1941  North Carolina\n",
              "6      1943            Iowa"
            ]
          },
          "metadata": {
            "tags": []
          },
          "execution_count": 5
        }
      ]
    },
    {
      "cell_type": "code",
      "metadata": {
        "colab": {
          "base_uri": "https://localhost:8080/",
          "height": 80
        },
        "id": "10A0wWyJdp0j",
        "outputId": "46d05044-4ad9-4d5a-9445-4b09999d2ffb"
      },
      "source": [
        "# --task3\n",
        "# --Корабли: Для классов, имеющих потери в виде потопленных кораблей и не менее 3 кораблей в базе данных, \n",
        "#вывести имя класса и число потопленных кораблей.\n",
        "request = \"\"\"\n",
        "select class, count(class) as count \n",
        "from \n",
        "(SELECT ship, result,class FROM ships  right join outcomes  on ships.name=outcomes.ship where result='sunk' and class in \n",
        "(SELECT  class FROM ships  group by class having count(name)>=3)) as res group by class\n",
        "\"\"\"\n",
        "pd.read_sql_query(request, conn)"
      ],
      "execution_count": null,
      "outputs": [
        {
          "output_type": "execute_result",
          "data": {
            "text/html": [
              "<div>\n",
              "<style scoped>\n",
              "    .dataframe tbody tr th:only-of-type {\n",
              "        vertical-align: middle;\n",
              "    }\n",
              "\n",
              "    .dataframe tbody tr th {\n",
              "        vertical-align: top;\n",
              "    }\n",
              "\n",
              "    .dataframe thead th {\n",
              "        text-align: right;\n",
              "    }\n",
              "</style>\n",
              "<table border=\"1\" class=\"dataframe\">\n",
              "  <thead>\n",
              "    <tr style=\"text-align: right;\">\n",
              "      <th></th>\n",
              "      <th>class</th>\n",
              "      <th>count</th>\n",
              "    </tr>\n",
              "  </thead>\n",
              "  <tbody>\n",
              "    <tr>\n",
              "      <th>0</th>\n",
              "      <td>Kongo</td>\n",
              "      <td>1</td>\n",
              "    </tr>\n",
              "  </tbody>\n",
              "</table>\n",
              "</div>"
            ],
            "text/plain": [
              "   class  count\n",
              "0  Kongo      1"
            ]
          },
          "metadata": {
            "tags": []
          },
          "execution_count": 7
        }
      ]
    },
    {
      "cell_type": "code",
      "metadata": {
        "colab": {
          "base_uri": "https://localhost:8080/",
          "height": 514
        },
        "id": "IXvSQ03He_uI",
        "outputId": "46753247-260e-4e58-cb14-2eeda725e153"
      },
      "source": [
        "# --task4\n",
        "# --Корабли: Найдите названия кораблей, имеющих наибольшее число орудий среди всех кораблей такого же водоизмещения \n",
        "#(учесть корабли из таблицы Outcomes).\n",
        "request = \"\"\"\n",
        "\n",
        "SELECT  name from (SELECT * FROM classes join  ships  on ships.class=classes.class)as res1\n",
        "right join (SELECT max(numguns), displacement from (SELECT * FROM classes join  ships  on ships.class=classes.class)as res \n",
        "group by displacement) as res2 \n",
        "on res1.displacement=res2.displacement\n",
        "and res1.numguns=res2.max\n",
        "\n",
        "\n",
        "\n",
        "--SELECT max(numguns), displacement from (SELECT * FROM classes join  ships  on ships.class=classes.class)as res \n",
        "--group by displacement \n",
        "\"\"\"\n",
        "pd.read_sql_query(request, conn)"
      ],
      "execution_count": null,
      "outputs": [
        {
          "output_type": "execute_result",
          "data": {
            "text/html": [
              "<div>\n",
              "<style scoped>\n",
              "    .dataframe tbody tr th:only-of-type {\n",
              "        vertical-align: middle;\n",
              "    }\n",
              "\n",
              "    .dataframe tbody tr th {\n",
              "        vertical-align: top;\n",
              "    }\n",
              "\n",
              "    .dataframe thead th {\n",
              "        text-align: right;\n",
              "    }\n",
              "</style>\n",
              "<table border=\"1\" class=\"dataframe\">\n",
              "  <thead>\n",
              "    <tr style=\"text-align: right;\">\n",
              "      <th></th>\n",
              "      <th>name</th>\n",
              "    </tr>\n",
              "  </thead>\n",
              "  <tbody>\n",
              "    <tr>\n",
              "      <th>0</th>\n",
              "      <td>California</td>\n",
              "    </tr>\n",
              "    <tr>\n",
              "      <th>1</th>\n",
              "      <td>Iowa</td>\n",
              "    </tr>\n",
              "    <tr>\n",
              "      <th>2</th>\n",
              "      <td>Missouri</td>\n",
              "    </tr>\n",
              "    <tr>\n",
              "      <th>3</th>\n",
              "      <td>Musashi</td>\n",
              "    </tr>\n",
              "    <tr>\n",
              "      <th>4</th>\n",
              "      <td>New Jersey</td>\n",
              "    </tr>\n",
              "    <tr>\n",
              "      <th>5</th>\n",
              "      <td>North Carolina</td>\n",
              "    </tr>\n",
              "    <tr>\n",
              "      <th>6</th>\n",
              "      <td>Ramillies</td>\n",
              "    </tr>\n",
              "    <tr>\n",
              "      <th>7</th>\n",
              "      <td>Revenge</td>\n",
              "    </tr>\n",
              "    <tr>\n",
              "      <th>8</th>\n",
              "      <td>Royal Oak</td>\n",
              "    </tr>\n",
              "    <tr>\n",
              "      <th>9</th>\n",
              "      <td>Royal Sovereign</td>\n",
              "    </tr>\n",
              "    <tr>\n",
              "      <th>10</th>\n",
              "      <td>Tennessee</td>\n",
              "    </tr>\n",
              "    <tr>\n",
              "      <th>11</th>\n",
              "      <td>Washington</td>\n",
              "    </tr>\n",
              "    <tr>\n",
              "      <th>12</th>\n",
              "      <td>Wisconsin</td>\n",
              "    </tr>\n",
              "    <tr>\n",
              "      <th>13</th>\n",
              "      <td>Yamato</td>\n",
              "    </tr>\n",
              "    <tr>\n",
              "      <th>14</th>\n",
              "      <td>South Dakota</td>\n",
              "    </tr>\n",
              "  </tbody>\n",
              "</table>\n",
              "</div>"
            ],
            "text/plain": [
              "               name\n",
              "0        California\n",
              "1              Iowa\n",
              "2          Missouri\n",
              "3           Musashi\n",
              "4        New Jersey\n",
              "5    North Carolina\n",
              "6         Ramillies\n",
              "7           Revenge\n",
              "8         Royal Oak\n",
              "9   Royal Sovereign\n",
              "10        Tennessee\n",
              "11       Washington\n",
              "12        Wisconsin\n",
              "13           Yamato\n",
              "14     South Dakota"
            ]
          },
          "metadata": {
            "tags": []
          },
          "execution_count": 9
        }
      ]
    },
    {
      "cell_type": "code",
      "metadata": {
        "id": "5R2L6rnxe_6W"
      },
      "source": [
        ""
      ],
      "execution_count": null,
      "outputs": []
    },
    {
      "cell_type": "code",
      "metadata": {
        "colab": {
          "base_uri": "https://localhost:8080/",
          "height": 421
        },
        "id": "AO8wQ1wfe_-S",
        "outputId": "fda0dcdf-7b5b-4ee6-d664-a2091df91cce"
      },
      "source": [
        "# --task5\n",
        "# --Компьютерная фирма: Найдите производителей принтеров, которые производят ПК \n",
        "#с наименьшим объемом RAM и с самым быстрым процессором среди всех ПК, имеющих наименьший объем RAM. Вывести: Maker\n",
        "\n",
        "# В расчете участвуют таблицы product и pc(min(ram) and max(speed))\n",
        "\n",
        "request = \"\"\"\n",
        "SELECT maker,type from product where type='PC'\n",
        "\"\"\"\n",
        "pd.read_sql_query(request, conn)"
      ],
      "execution_count": null,
      "outputs": [
        {
          "output_type": "execute_result",
          "data": {
            "text/html": [
              "<div>\n",
              "<style scoped>\n",
              "    .dataframe tbody tr th:only-of-type {\n",
              "        vertical-align: middle;\n",
              "    }\n",
              "\n",
              "    .dataframe tbody tr th {\n",
              "        vertical-align: top;\n",
              "    }\n",
              "\n",
              "    .dataframe thead th {\n",
              "        text-align: right;\n",
              "    }\n",
              "</style>\n",
              "<table border=\"1\" class=\"dataframe\">\n",
              "  <thead>\n",
              "    <tr style=\"text-align: right;\">\n",
              "      <th></th>\n",
              "      <th>maker</th>\n",
              "      <th>type</th>\n",
              "    </tr>\n",
              "  </thead>\n",
              "  <tbody>\n",
              "    <tr>\n",
              "      <th>0</th>\n",
              "      <td>B</td>\n",
              "      <td>PC</td>\n",
              "    </tr>\n",
              "    <tr>\n",
              "      <th>1</th>\n",
              "      <td>A</td>\n",
              "      <td>PC</td>\n",
              "    </tr>\n",
              "    <tr>\n",
              "      <th>2</th>\n",
              "      <td>A</td>\n",
              "      <td>PC</td>\n",
              "    </tr>\n",
              "    <tr>\n",
              "      <th>3</th>\n",
              "      <td>E</td>\n",
              "      <td>PC</td>\n",
              "    </tr>\n",
              "    <tr>\n",
              "      <th>4</th>\n",
              "      <td>E</td>\n",
              "      <td>PC</td>\n",
              "    </tr>\n",
              "    <tr>\n",
              "      <th>5</th>\n",
              "      <td>E</td>\n",
              "      <td>PC</td>\n",
              "    </tr>\n",
              "    <tr>\n",
              "      <th>6</th>\n",
              "      <td>E</td>\n",
              "      <td>PC</td>\n",
              "    </tr>\n",
              "    <tr>\n",
              "      <th>7</th>\n",
              "      <td>E</td>\n",
              "      <td>PC</td>\n",
              "    </tr>\n",
              "    <tr>\n",
              "      <th>8</th>\n",
              "      <td>E</td>\n",
              "      <td>PC</td>\n",
              "    </tr>\n",
              "    <tr>\n",
              "      <th>9</th>\n",
              "      <td>E_updated</td>\n",
              "      <td>PC</td>\n",
              "    </tr>\n",
              "    <tr>\n",
              "      <th>10</th>\n",
              "      <td>E_updated</td>\n",
              "      <td>PC</td>\n",
              "    </tr>\n",
              "    <tr>\n",
              "      <th>11</th>\n",
              "      <td>E</td>\n",
              "      <td>PC</td>\n",
              "    </tr>\n",
              "  </tbody>\n",
              "</table>\n",
              "</div>"
            ],
            "text/plain": [
              "        maker type\n",
              "0           B   PC\n",
              "1           A   PC\n",
              "2           A   PC\n",
              "3           E   PC\n",
              "4           E   PC\n",
              "5           E   PC\n",
              "6           E   PC\n",
              "7           E   PC\n",
              "8           E   PC\n",
              "9   E_updated   PC\n",
              "10  E_updated   PC\n",
              "11          E   PC"
            ]
          },
          "metadata": {
            "tags": []
          },
          "execution_count": 11
        }
      ]
    },
    {
      "cell_type": "code",
      "metadata": {
        "id": "wX8VsGS_fADl"
      },
      "source": [
        ""
      ],
      "execution_count": null,
      "outputs": []
    },
    {
      "cell_type": "code",
      "metadata": {
        "id": "fYXKwHnedqMy"
      },
      "source": [
        ""
      ],
      "execution_count": null,
      "outputs": []
    },
    {
      "cell_type": "code",
      "metadata": {
        "id": "yOCj15RCf3Ui"
      },
      "source": [
        ""
      ],
      "execution_count": null,
      "outputs": []
    },
    {
      "cell_type": "code",
      "metadata": {
        "id": "4u2At4Qkf3Xa"
      },
      "source": [
        ""
      ],
      "execution_count": null,
      "outputs": []
    },
    {
      "cell_type": "code",
      "metadata": {
        "id": "xhzMD5U9f3aa"
      },
      "source": [
        ""
      ],
      "execution_count": null,
      "outputs": []
    },
    {
      "cell_type": "code",
      "metadata": {
        "id": "uc4A3MPYf3dI"
      },
      "source": [
        ""
      ],
      "execution_count": null,
      "outputs": []
    },
    {
      "cell_type": "code",
      "metadata": {
        "id": "d46iXtoPf3jI"
      },
      "source": [
        ""
      ],
      "execution_count": null,
      "outputs": []
    },
    {
      "cell_type": "code",
      "metadata": {
        "id": "P6EYMIc_f3kv"
      },
      "source": [
        ""
      ],
      "execution_count": null,
      "outputs": []
    },
    {
      "cell_type": "code",
      "metadata": {
        "id": "HPa2Rvokf3mo"
      },
      "source": [
        ""
      ],
      "execution_count": null,
      "outputs": []
    },
    {
      "cell_type": "code",
      "metadata": {
        "colab": {
          "base_uri": "https://localhost:8080/",
          "height": 421
        },
        "id": "boPhiFcDF7xf",
        "outputId": "927ddcfe-8b87-48b6-eed6-6f505e83ea49"
      },
      "source": [
        "pd.read_sql_query(\"select * from PC \", conn)"
      ],
      "execution_count": null,
      "outputs": [
        {
          "output_type": "execute_result",
          "data": {
            "text/html": [
              "<div>\n",
              "<style scoped>\n",
              "    .dataframe tbody tr th:only-of-type {\n",
              "        vertical-align: middle;\n",
              "    }\n",
              "\n",
              "    .dataframe tbody tr th {\n",
              "        vertical-align: top;\n",
              "    }\n",
              "\n",
              "    .dataframe thead th {\n",
              "        text-align: right;\n",
              "    }\n",
              "</style>\n",
              "<table border=\"1\" class=\"dataframe\">\n",
              "  <thead>\n",
              "    <tr style=\"text-align: right;\">\n",
              "      <th></th>\n",
              "      <th>code</th>\n",
              "      <th>model</th>\n",
              "      <th>speed</th>\n",
              "      <th>ram</th>\n",
              "      <th>hd</th>\n",
              "      <th>cd</th>\n",
              "      <th>price</th>\n",
              "    </tr>\n",
              "  </thead>\n",
              "  <tbody>\n",
              "    <tr>\n",
              "      <th>0</th>\n",
              "      <td>1</td>\n",
              "      <td>1232</td>\n",
              "      <td>500</td>\n",
              "      <td>64</td>\n",
              "      <td>5.0</td>\n",
              "      <td>12x</td>\n",
              "      <td>600.0</td>\n",
              "    </tr>\n",
              "    <tr>\n",
              "      <th>1</th>\n",
              "      <td>2</td>\n",
              "      <td>1121</td>\n",
              "      <td>750</td>\n",
              "      <td>128</td>\n",
              "      <td>14.0</td>\n",
              "      <td>40x</td>\n",
              "      <td>850.0</td>\n",
              "    </tr>\n",
              "    <tr>\n",
              "      <th>2</th>\n",
              "      <td>3</td>\n",
              "      <td>1233</td>\n",
              "      <td>500</td>\n",
              "      <td>64</td>\n",
              "      <td>5.0</td>\n",
              "      <td>12x</td>\n",
              "      <td>600.0</td>\n",
              "    </tr>\n",
              "    <tr>\n",
              "      <th>3</th>\n",
              "      <td>4</td>\n",
              "      <td>1121</td>\n",
              "      <td>600</td>\n",
              "      <td>128</td>\n",
              "      <td>14.0</td>\n",
              "      <td>40x</td>\n",
              "      <td>850.0</td>\n",
              "    </tr>\n",
              "    <tr>\n",
              "      <th>4</th>\n",
              "      <td>5</td>\n",
              "      <td>1121</td>\n",
              "      <td>600</td>\n",
              "      <td>128</td>\n",
              "      <td>8.0</td>\n",
              "      <td>40x</td>\n",
              "      <td>850.0</td>\n",
              "    </tr>\n",
              "    <tr>\n",
              "      <th>5</th>\n",
              "      <td>6</td>\n",
              "      <td>1233</td>\n",
              "      <td>750</td>\n",
              "      <td>128</td>\n",
              "      <td>20.0</td>\n",
              "      <td>50x</td>\n",
              "      <td>950.0</td>\n",
              "    </tr>\n",
              "    <tr>\n",
              "      <th>6</th>\n",
              "      <td>7</td>\n",
              "      <td>1232</td>\n",
              "      <td>500</td>\n",
              "      <td>32</td>\n",
              "      <td>10.0</td>\n",
              "      <td>12x</td>\n",
              "      <td>400.0</td>\n",
              "    </tr>\n",
              "    <tr>\n",
              "      <th>7</th>\n",
              "      <td>8</td>\n",
              "      <td>1232</td>\n",
              "      <td>450</td>\n",
              "      <td>64</td>\n",
              "      <td>8.0</td>\n",
              "      <td>24x</td>\n",
              "      <td>350.0</td>\n",
              "    </tr>\n",
              "    <tr>\n",
              "      <th>8</th>\n",
              "      <td>9</td>\n",
              "      <td>1232</td>\n",
              "      <td>450</td>\n",
              "      <td>32</td>\n",
              "      <td>10.0</td>\n",
              "      <td>24x</td>\n",
              "      <td>350.0</td>\n",
              "    </tr>\n",
              "    <tr>\n",
              "      <th>9</th>\n",
              "      <td>10</td>\n",
              "      <td>1260</td>\n",
              "      <td>500</td>\n",
              "      <td>32</td>\n",
              "      <td>10.0</td>\n",
              "      <td>12x</td>\n",
              "      <td>350.0</td>\n",
              "    </tr>\n",
              "    <tr>\n",
              "      <th>10</th>\n",
              "      <td>11</td>\n",
              "      <td>1233</td>\n",
              "      <td>900</td>\n",
              "      <td>128</td>\n",
              "      <td>40.0</td>\n",
              "      <td>40x</td>\n",
              "      <td>980.0</td>\n",
              "    </tr>\n",
              "    <tr>\n",
              "      <th>11</th>\n",
              "      <td>12</td>\n",
              "      <td>1233</td>\n",
              "      <td>800</td>\n",
              "      <td>128</td>\n",
              "      <td>20.0</td>\n",
              "      <td>50x</td>\n",
              "      <td>970.0</td>\n",
              "    </tr>\n",
              "  </tbody>\n",
              "</table>\n",
              "</div>"
            ],
            "text/plain": [
              "    code model  speed  ram    hd   cd  price\n",
              "0      1  1232    500   64   5.0  12x  600.0\n",
              "1      2  1121    750  128  14.0  40x  850.0\n",
              "2      3  1233    500   64   5.0  12x  600.0\n",
              "3      4  1121    600  128  14.0  40x  850.0\n",
              "4      5  1121    600  128   8.0  40x  850.0\n",
              "5      6  1233    750  128  20.0  50x  950.0\n",
              "6      7  1232    500   32  10.0  12x  400.0\n",
              "7      8  1232    450   64   8.0  24x  350.0\n",
              "8      9  1232    450   32  10.0  24x  350.0\n",
              "9     10  1260    500   32  10.0  12x  350.0\n",
              "10    11  1233    900  128  40.0  40x  980.0\n",
              "11    12  1233    800  128  20.0  50x  970.0"
            ]
          },
          "metadata": {
            "tags": []
          },
          "execution_count": 2
        }
      ]
    },
    {
      "cell_type": "markdown",
      "metadata": {
        "id": "5c6XRNIFvrRJ"
      },
      "source": [
        "Схема БД состоит из четырех таблиц:\n",
        "\n",
        "\n",
        "\n",
        "*   Product(maker, model, type)\n",
        "*   PC(code, model, speed, ram, hd, cd, price)\n",
        "*   Laptop(code, model, speed, ram, hd, price, screen)\n",
        "*   Printer(code, model, color, type, price)\n",
        "\n",
        "\n",
        "Таблица Product представляет производителя (maker), номер модели (model) и тип ('PC' - ПК, 'Laptop' - ПК-блокнот или 'Printer' - принтер). Предполагается, что номера моделей в таблице Product уникальны для всех производителей и типов продуктов. В таблице PC для каждого ПК, однозначно определяемого уникальным кодом – code, указаны модель – model (внешний ключ к таблице Product), скорость - speed (процессора в мегагерцах), объем памяти - ram (в мегабайтах), размер диска - hd (в гигабайтах), скорость считывающего устройства - cd (например, '4x') и цена - price. Таблица Laptop аналогична таблице РС за исключением того, что вместо скорости CD содержит размер экрана -screen (в дюймах). В таблице Printer для каждой модели принтера указывается, является ли он цветным - color ('y', если цветной), тип принтера - type (лазерный – 'Laser', струйный – 'Jet' или матричный – 'Matrix') и цена - price.\n",
        "\n",
        "![computers.gif](data:image/gif;base64,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)\n"
      ]
    },
    {
      "cell_type": "code",
      "metadata": {
        "colab": {
          "base_uri": "https://localhost:8080/",
          "height": 421
        },
        "id": "TPQlgS511FCS",
        "outputId": "e33f9191-0e20-454f-dc82-176c5a3cc2bb"
      },
      "source": [
        "pd.read_sql_query(\"select * from PC\", conn)"
      ],
      "execution_count": null,
      "outputs": [
        {
          "output_type": "execute_result",
          "data": {
            "text/html": [
              "<div>\n",
              "<style scoped>\n",
              "    .dataframe tbody tr th:only-of-type {\n",
              "        vertical-align: middle;\n",
              "    }\n",
              "\n",
              "    .dataframe tbody tr th {\n",
              "        vertical-align: top;\n",
              "    }\n",
              "\n",
              "    .dataframe thead th {\n",
              "        text-align: right;\n",
              "    }\n",
              "</style>\n",
              "<table border=\"1\" class=\"dataframe\">\n",
              "  <thead>\n",
              "    <tr style=\"text-align: right;\">\n",
              "      <th></th>\n",
              "      <th>code</th>\n",
              "      <th>model</th>\n",
              "      <th>speed</th>\n",
              "      <th>ram</th>\n",
              "      <th>hd</th>\n",
              "      <th>cd</th>\n",
              "      <th>price</th>\n",
              "    </tr>\n",
              "  </thead>\n",
              "  <tbody>\n",
              "    <tr>\n",
              "      <th>0</th>\n",
              "      <td>1</td>\n",
              "      <td>1232</td>\n",
              "      <td>500</td>\n",
              "      <td>64</td>\n",
              "      <td>5.0</td>\n",
              "      <td>12x</td>\n",
              "      <td>600.0</td>\n",
              "    </tr>\n",
              "    <tr>\n",
              "      <th>1</th>\n",
              "      <td>2</td>\n",
              "      <td>1121</td>\n",
              "      <td>750</td>\n",
              "      <td>128</td>\n",
              "      <td>14.0</td>\n",
              "      <td>40x</td>\n",
              "      <td>850.0</td>\n",
              "    </tr>\n",
              "    <tr>\n",
              "      <th>2</th>\n",
              "      <td>3</td>\n",
              "      <td>1233</td>\n",
              "      <td>500</td>\n",
              "      <td>64</td>\n",
              "      <td>5.0</td>\n",
              "      <td>12x</td>\n",
              "      <td>600.0</td>\n",
              "    </tr>\n",
              "    <tr>\n",
              "      <th>3</th>\n",
              "      <td>4</td>\n",
              "      <td>1121</td>\n",
              "      <td>600</td>\n",
              "      <td>128</td>\n",
              "      <td>14.0</td>\n",
              "      <td>40x</td>\n",
              "      <td>850.0</td>\n",
              "    </tr>\n",
              "    <tr>\n",
              "      <th>4</th>\n",
              "      <td>5</td>\n",
              "      <td>1121</td>\n",
              "      <td>600</td>\n",
              "      <td>128</td>\n",
              "      <td>8.0</td>\n",
              "      <td>40x</td>\n",
              "      <td>850.0</td>\n",
              "    </tr>\n",
              "    <tr>\n",
              "      <th>5</th>\n",
              "      <td>6</td>\n",
              "      <td>1233</td>\n",
              "      <td>750</td>\n",
              "      <td>128</td>\n",
              "      <td>20.0</td>\n",
              "      <td>50x</td>\n",
              "      <td>950.0</td>\n",
              "    </tr>\n",
              "    <tr>\n",
              "      <th>6</th>\n",
              "      <td>7</td>\n",
              "      <td>1232</td>\n",
              "      <td>500</td>\n",
              "      <td>32</td>\n",
              "      <td>10.0</td>\n",
              "      <td>12x</td>\n",
              "      <td>400.0</td>\n",
              "    </tr>\n",
              "    <tr>\n",
              "      <th>7</th>\n",
              "      <td>8</td>\n",
              "      <td>1232</td>\n",
              "      <td>450</td>\n",
              "      <td>64</td>\n",
              "      <td>8.0</td>\n",
              "      <td>24x</td>\n",
              "      <td>350.0</td>\n",
              "    </tr>\n",
              "    <tr>\n",
              "      <th>8</th>\n",
              "      <td>9</td>\n",
              "      <td>1232</td>\n",
              "      <td>450</td>\n",
              "      <td>32</td>\n",
              "      <td>10.0</td>\n",
              "      <td>24x</td>\n",
              "      <td>350.0</td>\n",
              "    </tr>\n",
              "    <tr>\n",
              "      <th>9</th>\n",
              "      <td>10</td>\n",
              "      <td>1260</td>\n",
              "      <td>500</td>\n",
              "      <td>32</td>\n",
              "      <td>10.0</td>\n",
              "      <td>12x</td>\n",
              "      <td>350.0</td>\n",
              "    </tr>\n",
              "    <tr>\n",
              "      <th>10</th>\n",
              "      <td>11</td>\n",
              "      <td>1233</td>\n",
              "      <td>900</td>\n",
              "      <td>128</td>\n",
              "      <td>40.0</td>\n",
              "      <td>40x</td>\n",
              "      <td>980.0</td>\n",
              "    </tr>\n",
              "    <tr>\n",
              "      <th>11</th>\n",
              "      <td>12</td>\n",
              "      <td>1233</td>\n",
              "      <td>800</td>\n",
              "      <td>128</td>\n",
              "      <td>20.0</td>\n",
              "      <td>50x</td>\n",
              "      <td>970.0</td>\n",
              "    </tr>\n",
              "  </tbody>\n",
              "</table>\n",
              "</div>"
            ],
            "text/plain": [
              "    code model  speed  ram    hd   cd  price\n",
              "0      1  1232    500   64   5.0  12x  600.0\n",
              "1      2  1121    750  128  14.0  40x  850.0\n",
              "2      3  1233    500   64   5.0  12x  600.0\n",
              "3      4  1121    600  128  14.0  40x  850.0\n",
              "4      5  1121    600  128   8.0  40x  850.0\n",
              "5      6  1233    750  128  20.0  50x  950.0\n",
              "6      7  1232    500   32  10.0  12x  400.0\n",
              "7      8  1232    450   64   8.0  24x  350.0\n",
              "8      9  1232    450   32  10.0  24x  350.0\n",
              "9     10  1260    500   32  10.0  12x  350.0\n",
              "10    11  1233    900  128  40.0  40x  980.0\n",
              "11    12  1233    800  128  20.0  50x  970.0"
            ]
          },
          "metadata": {
            "tags": []
          },
          "execution_count": 3
        }
      ]
    },
    {
      "cell_type": "code",
      "metadata": {
        "id": "I2ynh01O1Fza"
      },
      "source": [
        ""
      ],
      "execution_count": null,
      "outputs": []
    },
    {
      "cell_type": "code",
      "metadata": {
        "colab": {
          "base_uri": "https://localhost:8080/",
          "height": 80
        },
        "id": "36pF3XeowFXt",
        "outputId": "f14a5822-d435-47cf-c6bd-9b6a0f4d6541"
      },
      "source": [
        "cur.execute(\"\"\"\n",
        "insert into Product values('E','product_by_student_0','PC');\n",
        "\"\"\")\n",
        "\n",
        "pd.read_sql_query(\"select * from Product where model = 'product_by_student_0'\", conn)"
      ],
      "execution_count": null,
      "outputs": [
        {
          "output_type": "execute_result",
          "data": {
            "text/html": [
              "<div>\n",
              "<style scoped>\n",
              "    .dataframe tbody tr th:only-of-type {\n",
              "        vertical-align: middle;\n",
              "    }\n",
              "\n",
              "    .dataframe tbody tr th {\n",
              "        vertical-align: top;\n",
              "    }\n",
              "\n",
              "    .dataframe thead th {\n",
              "        text-align: right;\n",
              "    }\n",
              "</style>\n",
              "<table border=\"1\" class=\"dataframe\">\n",
              "  <thead>\n",
              "    <tr style=\"text-align: right;\">\n",
              "      <th></th>\n",
              "      <th>maker</th>\n",
              "      <th>model</th>\n",
              "      <th>type</th>\n",
              "    </tr>\n",
              "  </thead>\n",
              "  <tbody>\n",
              "    <tr>\n",
              "      <th>0</th>\n",
              "      <td>E</td>\n",
              "      <td>product_by_student_0</td>\n",
              "      <td>PC</td>\n",
              "    </tr>\n",
              "  </tbody>\n",
              "</table>\n",
              "</div>"
            ],
            "text/plain": [
              "  maker                 model type\n",
              "0     E  product_by_student_0   PC"
            ]
          },
          "metadata": {
            "tags": []
          },
          "execution_count": 4
        }
      ]
    },
    {
      "cell_type": "code",
      "metadata": {
        "id": "c7E_GqJb1bZk"
      },
      "source": [
        ""
      ],
      "execution_count": null,
      "outputs": []
    }
  ]
}